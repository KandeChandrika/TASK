{
 "cells": [
  {
   "cell_type": "markdown",
   "id": "dd9881f5",
   "metadata": {},
   "source": [
    "\n",
    "1. \n",
    "\n",
    "   - Create a lambda function that takes two arguments and returns their sum.\n",
    "   - Create another lambda function that takes a single argument and returns its square.\n",
    "   - Use the `lambda` functions to calculate the sum and square of various numbers and print the results.\n",
    "\n",
    "2. \n",
    "   - Define a list of integers.\n",
    "   - Use the `filter` function to create a new list that contains only the even numbers from the original list.\n",
    "   - Use the `filter` function again to create a new list that contains only numbers greater than 10 from the original list.\n",
    "   - Print both filtered lists.\n",
    "\n",
    "3. \n",
    "   - Define a list of strings where each string represents a number (e.g., `[\"1\", \"2\", \"3\"]`).\n",
    "   - Use the `map` function to convert each string to an integer and store the result in a new list.\n",
    "   - Use the `map` function again to square each integer in the new list and store the result in another new list.\n",
    "   - Print both new lists.\n",
    "\n",
    "4. \n",
    "   - Create a list of dictionaries, where each dictionary represents a person with keys \"name\" and \"age\". Example: ` [{\"name\": \"Alice\", \"age\": 30}, {\"name\": \"Bob\", \"age\": 25}, ...]`\n",
    "   - Use the `filter` function to create a new list that contains only the people who are older than 25.\n",
    "   - Use the `map` function to create a new list that contains the names of the filtered people.\n",
    "   - Print the list of names.\n",
    "\n",
    "5. \n",
    "   - Create a program that reads a list of numbers from the user (you can use the `input` function for this).\n",
    "   - Use `map` and `filter` functions to perform the following operations:\n",
    "     - Square each number.\n",
    "     - Filter out numbers that are not divisible by 3.\n",
    "   - Print the result.\n"
   ]
  },
  {
   "cell_type": "markdown",
   "id": "02a353be",
   "metadata": {},
   "source": [
    "# Create a lambda function that takes two arguments and returns their sum.\n",
    "# Create another lambda function that takes a single argument and returns its square.\n",
    "# Use the lambda functions to calculate the sum and square of various numbers and print the results."
   ]
  },
  {
   "cell_type": "code",
   "execution_count": 2,
   "id": "f20e190d",
   "metadata": {},
   "outputs": [
    {
     "data": {
      "text/plain": [
       "14"
      ]
     },
     "execution_count": 2,
     "metadata": {},
     "output_type": "execute_result"
    }
   ],
   "source": [
    "a = lambda *n: sum(n)\n",
    "a(6,8)"
   ]
  },
  {
   "cell_type": "code",
   "execution_count": 3,
   "id": "97091537",
   "metadata": {},
   "outputs": [
    {
     "data": {
      "text/plain": [
       "625"
      ]
     },
     "execution_count": 3,
     "metadata": {},
     "output_type": "execute_result"
    }
   ],
   "source": [
    "b = lambda n: n*n\n",
    "b(25)"
   ]
  },
  {
   "cell_type": "code",
   "execution_count": 5,
   "id": "7823c2a2",
   "metadata": {},
   "outputs": [],
   "source": [
    "c = lambda *n:sum(n)\n",
    "d = lambda  n:n*n"
   ]
  },
  {
   "cell_type": "code",
   "execution_count": 6,
   "id": "10624f00",
   "metadata": {},
   "outputs": [
    {
     "name": "stdout",
     "output_type": "stream",
     "text": [
      "32\n",
      "256\n"
     ]
    }
   ],
   "source": [
    "print(c(8,5,10,9))\n",
    "print(d(16))"
   ]
  },
  {
   "cell_type": "markdown",
   "id": "55ea1b90",
   "metadata": {},
   "source": [
    "# Define a list of integers.\n",
    "# Use the filter function to create a new list that contains only the even numbers from the original list.\n",
    "# Use the filter function again to create a new list that contains only numbers greater than 10 from the original list.\n",
    "# Print both filtered lists."
   ]
  },
  {
   "cell_type": "code",
   "execution_count": 2,
   "id": "4796f6db",
   "metadata": {},
   "outputs": [
    {
     "data": {
      "text/plain": [
       "[6, 2, 8]"
      ]
     },
     "execution_count": 2,
     "metadata": {},
     "output_type": "execute_result"
    }
   ],
   "source": [
    "def l1(n):\n",
    "    if n%2 == 0:\n",
    "        return(n)\n",
    "list1 = [5,6,2,0,7,3,8]\n",
    "a = list(filter(l1,list1))\n",
    "a\n"
   ]
  },
  {
   "cell_type": "code",
   "execution_count": 13,
   "id": "b5f6d691",
   "metadata": {},
   "outputs": [
    {
     "data": {
      "text/plain": [
       "[51, 88, 20, 65, 12]"
      ]
     },
     "execution_count": 13,
     "metadata": {},
     "output_type": "execute_result"
    }
   ],
   "source": [
    "def l2(n):\n",
    "    if n > 10 :\n",
    "        return(n)\n",
    "list2 = [51,88,9,20,5,1,65,12]\n",
    "b = list(filter(l2,list2))\n",
    "b"
   ]
  },
  {
   "cell_type": "code",
   "execution_count": null,
   "id": "e57f29dc",
   "metadata": {},
   "outputs": [],
   "source": []
  },
  {
   "cell_type": "markdown",
   "id": "8fce300b",
   "metadata": {},
   "source": [
    "# Define a list of strings where each string represents a number (e.g., [\"1\", \"2\", \"3\"]).\n",
    "# Use the map function to convert each string to an integer and store the result in a new list.\n",
    "# Use the map function again to square each integer in the new list and store the result in another new list.\n",
    "# Print both new lists."
   ]
  },
  {
   "cell_type": "code",
   "execution_count": 15,
   "id": "89a8536b",
   "metadata": {},
   "outputs": [
    {
     "data": {
      "text/plain": [
       "[1, 2, 3, 4]"
      ]
     },
     "execution_count": 15,
     "metadata": {},
     "output_type": "execute_result"
    }
   ],
   "source": [
    "def string(n):\n",
    "    if list1[0] ==int(n):\n",
    "        return n\n",
    "list1 = [\"1\",\"2\",\"3\",\"4\"] \n",
    "new_list = list(map(int,list1))\n",
    "new_list    "
   ]
  },
  {
   "cell_type": "code",
   "execution_count": 5,
   "id": "316971d4",
   "metadata": {},
   "outputs": [
    {
     "data": {
      "text/plain": [
       "[1, 4, 9, 16]"
      ]
     },
     "execution_count": 5,
     "metadata": {},
     "output_type": "execute_result"
    }
   ],
   "source": [
    "def a(n):\n",
    "    return n*n\n",
    "new_list = [1,2,3,4]\n",
    "list2 = list(map(a,new_list))\n",
    "list2"
   ]
  },
  {
   "cell_type": "markdown",
   "id": "b7b1465a",
   "metadata": {},
   "source": [
    "# Create a list of dictionaries, where each dictionary represents a person with keys \"name\" and \"age\". Example:  [{\"name\": \"Alice\", \"age\": 30}, {\"name\": \"Bob\", \"age\": 25}, ...]\n",
    "Use the filter function to create a new list that contains only the people who are older than 25.\n",
    "Use the map function to create a new list that contains the names of the filtered people.\n",
    "Print the list of names."
   ]
  },
  {
   "cell_type": "code",
   "execution_count": 11,
   "id": "17bd9b72",
   "metadata": {},
   "outputs": [
    {
     "name": "stdout",
     "output_type": "stream",
     "text": [
      "{'name': 'Alice', 'age': 30}\n",
      "{'name': 'Bob', 'age': 27}\n"
     ]
    }
   ],
   "source": [
    "def d(n):\n",
    "    if n[\"age\"] > 25:\n",
    "        print(n)\n",
    "l1=[{\"name\": \"Alice\", \"age\": 30}, {\"name\": \"Bob\", \"age\": 27}, {\"name\":\"renu\",\"age\":19},{\"name\":\"vishnu\",\"age\":24}] \n",
    "a = list(map(d,l1))"
   ]
  },
  {
   "cell_type": "markdown",
   "id": "c2f57373",
   "metadata": {},
   "source": [
    "# Create a program that reads a list of numbers from the user (you can use the input function for this).\n",
    "Use map and filter functions to perform the following operations:\n",
    "Square each number.\n",
    "Filter out numbers that are not divisible by 3.\n",
    "Print the result."
   ]
  },
  {
   "cell_type": "code",
   "execution_count": 6,
   "id": "7c12689a",
   "metadata": {},
   "outputs": [
    {
     "name": "stdout",
     "output_type": "stream",
     "text": [
      "enter the size of the numbers that are entered :: 5\n",
      "enter the number : 6\n",
      "[6]\n",
      "enter the number : 96\n",
      "[6, 96]\n",
      "enter the number : 23\n",
      "[6, 96, 23]\n",
      "enter the number : 72\n",
      "[6, 96, 23, 72]\n",
      "enter the number : 5\n",
      "[6, 96, 23, 72, 5]\n"
     ]
    }
   ],
   "source": [
    "l1 = []\n",
    "n = int(input(\"enter the size of the numbers that are entered :: \"))\n",
    "for i in range(1,n+1):\n",
    "    a=int(input(\"enter the number : \"))\n",
    "    l1.append(a)\n",
    "    print(l1)\n",
    "def b(n):\n",
    "    return (n*n)\n",
    "list1 = list(map(b,l1))"
   ]
  },
  {
   "cell_type": "code",
   "execution_count": 7,
   "id": "85b9dcff",
   "metadata": {},
   "outputs": [
    {
     "data": {
      "text/plain": [
       "[36, 9216, 529, 5184, 25]"
      ]
     },
     "execution_count": 7,
     "metadata": {},
     "output_type": "execute_result"
    }
   ],
   "source": [
    "list1"
   ]
  },
  {
   "cell_type": "code",
   "execution_count": 8,
   "id": "959dd96d",
   "metadata": {},
   "outputs": [
    {
     "name": "stdout",
     "output_type": "stream",
     "text": [
      "23\n",
      "5\n"
     ]
    }
   ],
   "source": [
    "def d(n):\n",
    "    if n%3 != 0:\n",
    "        print(n)\n",
    "list2 = list(filter(d,l1))        "
   ]
  },
  {
   "cell_type": "markdown",
   "id": "6f36f41c",
   "metadata": {},
   "source": [
    "# take combination of some integers,float and strimg print onlyfloat values\n",
    "# prinnt only string\n",
    "\n",
    "# replace integer value with a name is called imteger"
   ]
  },
  {
   "cell_type": "code",
   "execution_count": 9,
   "id": "d2689c3b",
   "metadata": {},
   "outputs": [],
   "source": [
    "def l1(n):\n",
    "    if type(n) == float:\n",
    "        return n\n",
    "    "
   ]
  },
  {
   "cell_type": "code",
   "execution_count": 10,
   "id": "dad7c701",
   "metadata": {},
   "outputs": [],
   "source": [
    "list3=[1,4,6,8.2,2.8,0.1,\"mom\",\"dad\"]"
   ]
  },
  {
   "cell_type": "code",
   "execution_count": 11,
   "id": "03b2c93a",
   "metadata": {},
   "outputs": [
    {
     "data": {
      "text/plain": [
       "[8.2, 2.8, 0.1]"
      ]
     },
     "execution_count": 11,
     "metadata": {},
     "output_type": "execute_result"
    }
   ],
   "source": [
    "list(filter(l1,list3))"
   ]
  },
  {
   "cell_type": "code",
   "execution_count": 12,
   "id": "8bdf4289",
   "metadata": {},
   "outputs": [
    {
     "data": {
      "text/plain": [
       "['mom', 'dad']"
      ]
     },
     "execution_count": 12,
     "metadata": {},
     "output_type": "execute_result"
    }
   ],
   "source": [
    "def l2(n):\n",
    "    if type(n) == str:\n",
    "        return n\n",
    "list3=[1,4,6,8.2,2.8,0.1,\"mom\",\"dad\"]\n",
    "list(filter(l2,list3))"
   ]
  },
  {
   "cell_type": "code",
   "execution_count": 13,
   "id": "de288e74",
   "metadata": {},
   "outputs": [
    {
     "data": {
      "text/plain": [
       "['integer', 'integer', 'integer', None, None, None, None, None]"
      ]
     },
     "execution_count": 13,
     "metadata": {},
     "output_type": "execute_result"
    }
   ],
   "source": [
    "def l3(n):\n",
    "    if type (n) == int:\n",
    "        return \"integer\"\n",
    "list3=[1,4,6,8.2,2.8,0.1,\"mom\",\"dad\"]  \n",
    "list(map(l3,list3))"
   ]
  },
  {
   "cell_type": "code",
   "execution_count": null,
   "id": "3ad2b5d2",
   "metadata": {},
   "outputs": [],
   "source": []
  }
 ],
 "metadata": {
  "kernelspec": {
   "display_name": "Python 3 (ipykernel)",
   "language": "python",
   "name": "python3"
  },
  "language_info": {
   "codemirror_mode": {
    "name": "ipython",
    "version": 3
   },
   "file_extension": ".py",
   "mimetype": "text/x-python",
   "name": "python",
   "nbconvert_exporter": "python",
   "pygments_lexer": "ipython3",
   "version": "3.10.12"
  }
 },
 "nbformat": 4,
 "nbformat_minor": 5
}
