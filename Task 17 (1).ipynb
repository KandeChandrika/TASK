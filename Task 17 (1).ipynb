{
 "cells": [
  {
   "cell_type": "markdown",
   "id": "8dc8a778",
   "metadata": {},
   "source": [
    "\n",
    "`use context manager`\n",
    "\n",
    "**Create a file**\n",
    "Write a Python program that creates a text file named \"data.txt\" and add data about python programming (should contain at least 5 lines)\n",
    "\n",
    "**Read and Display File Contents**\n",
    "Write a Python program that reads a text file named \"data.txt\" and displays its contents on the screen.\n",
    "\n",
    "**Count Words in a File**\n",
    "Write a Python program that reads a text file named \"data.txt\" and counts the total number of words in the file. Display the word count on the screen.\n",
    "\n",
    "**Search and Replace**\n",
    "Create a Python program that reads a text file named \"data.txt\" and asks the user to enter a word to search for. If the word is found in the file, replace all occurrences of the word with a new word provided by the user.\n",
    "\n",
    "**Append to a File**\n",
    "Write a Python program that prompts the user to enter a sentence. Append this sentence to an existing file named \"notes.txt\". Make sure the newly added sentence starts on a new line.\n",
    "\n",
    "\n"
   ]
  },
  {
   "cell_type": "markdown",
   "id": "51677f68",
   "metadata": {},
   "source": [
    "# Create a file Write a Python program that creates a text file named \"data.txt\" and add data about python programming (should contain at least 5 lines)"
   ]
  },
  {
   "cell_type": "code",
   "execution_count": 1,
   "id": "b1302e83",
   "metadata": {},
   "outputs": [],
   "source": [
    "with open(\"data.txt\",'w+') as f1:\n",
    "    f1.write(\"Python is a high-level, interpreted programming language known for its simplicity and readability. It was created by Guido van Rossum and first released in 1991. Python is widely used in various domains, including web development, data analysis, scientific computing, artificial intelligence, and more. Here are some key characteristics and features of Python:\")"
   ]
  },
  {
   "cell_type": "markdown",
   "id": "d3f7d172",
   "metadata": {},
   "source": [
    "# Read and Display File Contents Write a Python program that reads a text file named \"data.txt\" and displays its contents on the screen."
   ]
  },
  {
   "cell_type": "code",
   "execution_count": 3,
   "id": "717da816",
   "metadata": {},
   "outputs": [
    {
     "name": "stdout",
     "output_type": "stream",
     "text": [
      "Python is a high-level, interpreted programming language known for its simplicity and readability. It was created by Guido van Rossum and first released in 1991. Python is widely used in various domains, including web development, data analysis, scientific computing, artificial intelligence, and more. Here are some key characteristics and features of Python:\n"
     ]
    }
   ],
   "source": [
    "f1 = open(\"data.txt\")\n",
    "print(f1.read())"
   ]
  },
  {
   "cell_type": "markdown",
   "id": "5bb93e61",
   "metadata": {},
   "source": [
    "# Count Words in a File Write a Python program that reads a text file named \"data.txt\" and counts the total number of words in the file. Display the word count on the screen."
   ]
  },
  {
   "cell_type": "code",
   "execution_count": 19,
   "id": "b09f338a",
   "metadata": {},
   "outputs": [],
   "source": [
    "with open(\"data.txt\",'w+') as f1:\n",
    "    f1.write(\"Python is a high-level, interpreted programming language known for its simplicity and readability. It was created by Guido van Rossum and first released in 1991. Python is widely used in various domains, including web development, data analysis, scientific computing, artificial intelligence, and more. Here are some key characteristics and features of Python:\")"
   ]
  },
  {
   "cell_type": "code",
   "execution_count": 20,
   "id": "5031cffd",
   "metadata": {},
   "outputs": [],
   "source": [
    "f1 = open(\"data.txt\")\n",
    "a = f1.read()"
   ]
  },
  {
   "cell_type": "code",
   "execution_count": 21,
   "id": "b28186f3",
   "metadata": {},
   "outputs": [
    {
     "name": "stdout",
     "output_type": "stream",
     "text": [
      "Python is a high-level, interpreted programming language known for its simplicity and readability. It was created by Guido van Rossum and first released in 1991. Python is widely used in various domains, including web development, data analysis, scientific computing, artificial intelligence, and more. Here are some key characteristics and features of Python:\n"
     ]
    }
   ],
   "source": [
    "print(a)"
   ]
  },
  {
   "cell_type": "code",
   "execution_count": 22,
   "id": "ecd68335",
   "metadata": {},
   "outputs": [],
   "source": [
    "b=a.split()"
   ]
  },
  {
   "cell_type": "code",
   "execution_count": 24,
   "id": "d80e5cbf",
   "metadata": {},
   "outputs": [
    {
     "name": "stdout",
     "output_type": "stream",
     "text": [
      "['Python', 'is', 'a', 'high-level,', 'interpreted', 'programming', 'language', 'known', 'for', 'its', 'simplicity', 'and', 'readability.', 'It', 'was', 'created', 'by', 'Guido', 'van', 'Rossum', 'and', 'first', 'released', 'in', '1991.', 'Python', 'is', 'widely', 'used', 'in', 'various', 'domains,', 'including', 'web', 'development,', 'data', 'analysis,', 'scientific', 'computing,', 'artificial', 'intelligence,', 'and', 'more.', 'Here', 'are', 'some', 'key', 'characteristics', 'and', 'features', 'of', 'Python:']\n"
     ]
    }
   ],
   "source": [
    "print(b)"
   ]
  },
  {
   "cell_type": "code",
   "execution_count": 25,
   "id": "a941196e",
   "metadata": {},
   "outputs": [
    {
     "data": {
      "text/plain": [
       "52"
      ]
     },
     "execution_count": 25,
     "metadata": {},
     "output_type": "execute_result"
    }
   ],
   "source": [
    "len(b)"
   ]
  },
  {
   "cell_type": "markdown",
   "id": "3a460d1a",
   "metadata": {},
   "source": [
    "# Search and Replace Create a Python program that reads a text file named \"data.txt\" and asks the user to enter a word to search for. If the word is found in the file, replace all occurrences of the word with a new word provided by the user. "
   ]
  },
  {
   "cell_type": "code",
   "execution_count": 26,
   "id": "90666f88",
   "metadata": {},
   "outputs": [
    {
     "name": "stdout",
     "output_type": "stream",
     "text": [
      "enter a word to search for : created\n",
      "enter another word for replacing : developed\n",
      "Python is a high-level, interpreted programming language known for its simplicity and readability. It was developed by Guido van Rossum and first released in 1991. Python is widely used in various domains, including web development, data analysis, scientific computing, artificial intelligence, and more. Here are some key characteristics and features of Python:\n"
     ]
    }
   ],
   "source": [
    "with open(\"data.txt\",'r') as f3:\n",
    "    e = f3.read()\n",
    "    c = input(\"enter a word to search for : \")\n",
    "    d = input(\"enter another word for replacing : \")\n",
    "    if c in e:\n",
    "        print(e.replace(c,d))"
   ]
  },
  {
   "cell_type": "markdown",
   "id": "ea638f50",
   "metadata": {},
   "source": [
    "# Append to a File Write a Python program that prompts the user to enter a sentence. Append this sentence to an existing file named \"notes.txt\". Make sure the newly added sentence starts on a new line."
   ]
  },
  {
   "cell_type": "code",
   "execution_count": 1,
   "id": "89e51a99",
   "metadata": {},
   "outputs": [
    {
     "name": "stdout",
     "output_type": "stream",
     "text": [
      "enter a sentence : I fight for feminism\n"
     ]
    }
   ],
   "source": [
    "with open(\"notes.txt\",'a+') as f4:\n",
    "    f4.write(\"hii!I am chandrika\")\n",
    "    u = input(\"enter a sentence : \")\n",
    "    f4.write(f\"\\n{u}\")"
   ]
  },
  {
   "cell_type": "code",
   "execution_count": 2,
   "id": "24a55071",
   "metadata": {},
   "outputs": [],
   "source": [
    "f = open(\"notes.txt\",'r')\n",
    "new_line = f.read()\n"
   ]
  },
  {
   "cell_type": "code",
   "execution_count": 3,
   "id": "261a772e",
   "metadata": {},
   "outputs": [
    {
     "name": "stdout",
     "output_type": "stream",
     "text": [
      "hii!I am chandrika\n",
      "I fight for feminism\n"
     ]
    }
   ],
   "source": [
    "print(new_line)"
   ]
  },
  {
   "cell_type": "code",
   "execution_count": null,
   "id": "394df2cb",
   "metadata": {},
   "outputs": [],
   "source": []
  },
  {
   "cell_type": "code",
   "execution_count": null,
   "id": "1e82b6f2",
   "metadata": {},
   "outputs": [],
   "source": []
  },
  {
   "cell_type": "code",
   "execution_count": null,
   "id": "139fabf9",
   "metadata": {},
   "outputs": [],
   "source": []
  }
 ],
 "metadata": {
  "kernelspec": {
   "display_name": "Python 3 (ipykernel)",
   "language": "python",
   "name": "python3"
  },
  "language_info": {
   "codemirror_mode": {
    "name": "ipython",
    "version": 3
   },
   "file_extension": ".py",
   "mimetype": "text/x-python",
   "name": "python",
   "nbconvert_exporter": "python",
   "pygments_lexer": "ipython3",
   "version": "3.10.12"
  }
 },
 "nbformat": 4,
 "nbformat_minor": 5
}
