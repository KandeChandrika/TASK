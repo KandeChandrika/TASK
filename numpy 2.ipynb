{
 "cells": [
  {
   "cell_type": "markdown",
   "id": "d465e174",
   "metadata": {},
   "source": [
    "# Creation of ndarray\n",
    "\n",
    "Write python code to create 3d array in different ways with 15 elements.\n",
    "Array Creation:\n",
    "a. Create a 4D NumPy array containing the first 12 positive integers as arr1. b. Create a 3D NumPy array1 with 20 random elements containing integers between 0 and 1. 3. Find all attributes of array1 and array2 4. Apply measure and describe the data (attributes and descriptive statistics) to above arrays using NumPy.\n",
    "\n",
    "# Array Slicing and Indexing:\n",
    "\n",
    "a. Creating Arrays: - Create a 1-dimensional NumPy array arr1 with the values [0, 11, 26, 73, 42, 51, 6,77, 8,29]. - Create a 2-dimensional NumPy array arr2 with the values [[0, 1, 2], [3, 4, 5], [6, 7, 8]].\n",
    "\n",
    "b.Basic Indexing: - Print the element at index 3 of arr1. - Print the element at row 2, column 1 of arr2\n",
    "\n",
    "c. Array Slicing: - Print the first five elements of arr1. - Print the subarray of arr2 consisting of the last two rows and the first two columns. - Print every second element starting from index 1 up to index 7 of arr1.\n",
    "\n",
    "# Data Type Manipulation\n",
    "\n",
    "a. Creating Arrays with Specific Data Types: - Create a 1-dimensional NumPy array int_array with the values [1, 2, 3, 4, 5] and the data type int16. - Create a 1-dimensional NumPy array float_array with the values [0.1, 0.2, 0.3, 0.4, 0.5] and the data type float64.\n",
    "\n",
    "b. Data Type Conversion: - Convert the float_array to an array with data type int32. Print the result. - Convert the int_array to an array with data type float32. Print the result.\n",
    "# Generating Random Numbers:\n",
    "\n",
    "Use numpy.random.randint() to create an array rand_integers containing 10 random integers between 0 and 100 (inclusive).\n",
    "\n",
    "Use numpy.random.uniform() to create an array rand_uniform containing 5 random numbers sampled from a uniform distribution between -1 and 1.\n",
    "\n",
    "Create an array rand_matrix with random integers between 50 and 100 (inclusive).and reshape it to 2-dimensional (4 x 4) matrix\n",
    "\n",
    "Apply descriptive statistics for rand_matrix.\n",
    "\n",
    "# Analyze the Data:\n",
    "\n",
    "Salaries = [87877, 54494, 54804, 85051, 52453, 31250, 94868, 66349, 39828, 60501, 58570, 74906, 41671, 51428, 56414, 98446, 56819, 82833, 50477, 62898, 99658, 89224, 34225, 79172, 32199, 63795, 90947, 55723, 64557, 3113638]\n",
    "\n",
    "Describe the data using numpy array. Measure the following:\n",
    "\n",
    "How many employees are getting more less than 50000?\n",
    "\n",
    "Is it following Normal Distribution?\n",
    "\n",
    "What is the median salary?\n",
    "\n",
    "What is the range of salaries for this company?\n",
    "\n",
    "Find the salaries between average salary and 75% of salaries?\n",
    "\n",
    "How many employees are getting less than 25 % of salaries ?"
   ]
  },
  {
   "cell_type": "code",
   "execution_count": 2,
   "id": "6701fdb6",
   "metadata": {},
   "outputs": [],
   "source": [
    "import numpy as np"
   ]
  },
  {
   "cell_type": "markdown",
   "id": "7b0f8174",
   "metadata": {},
   "source": [
    "# Creation of ndarray\n",
    "Write python code to create 3d array in different ways with 15 elements. Array Creation: a. Create a 4D NumPy array containing the first 12 positive integers as arr1. b. Create a 3D NumPy array1 with 20 random elements containing integers between 0 and 1. 3. Find all attributes of array1 and array2 4. Apply measure and describe the data (attributes and descriptive statistics) to above arrays using NumPy."
   ]
  },
  {
   "cell_type": "code",
   "execution_count": 3,
   "id": "75c37804",
   "metadata": {},
   "outputs": [],
   "source": [
    " a1 = np.array([[[1,2,3,4,5,6,7,8,9,10,11,12,13,14,15]]])"
   ]
  },
  {
   "cell_type": "code",
   "execution_count": 4,
   "id": "2db27bab",
   "metadata": {},
   "outputs": [
    {
     "data": {
      "text/plain": [
       "array([[[ 1,  2,  3,  4,  5,  6,  7,  8,  9, 10, 11, 12, 13, 14, 15]]])"
      ]
     },
     "execution_count": 4,
     "metadata": {},
     "output_type": "execute_result"
    }
   ],
   "source": [
    "a1"
   ]
  },
  {
   "cell_type": "code",
   "execution_count": 6,
   "id": "2cfbe4f6",
   "metadata": {},
   "outputs": [
    {
     "data": {
      "text/plain": [
       "array([[[ 1,  2,  3,  4,  5,  6,  7,  8,  9, 10, 11, 12, 13, 14, 15]]])"
      ]
     },
     "execution_count": 6,
     "metadata": {},
     "output_type": "execute_result"
    }
   ],
   "source": [
    "b = np.array([[[1,2,3,4,5,6,7,8,9,10,11,12,13,14,15]]],ndmin = 3)\n",
    "b"
   ]
  },
  {
   "cell_type": "code",
   "execution_count": 8,
   "id": "059b4780",
   "metadata": {},
   "outputs": [
    {
     "data": {
      "text/plain": [
       "array([[[ 1],\n",
       "        [ 2],\n",
       "        [ 3]],\n",
       "\n",
       "       [[ 4],\n",
       "        [ 5],\n",
       "        [ 6]],\n",
       "\n",
       "       [[ 7],\n",
       "        [ 8],\n",
       "        [ 9]],\n",
       "\n",
       "       [[10],\n",
       "        [11],\n",
       "        [12]],\n",
       "\n",
       "       [[13],\n",
       "        [14],\n",
       "        [15]]])"
      ]
     },
     "execution_count": 8,
     "metadata": {},
     "output_type": "execute_result"
    }
   ],
   "source": [
    "b.reshape(5,3,1)"
   ]
  },
  {
   "cell_type": "code",
   "execution_count": 9,
   "id": "6dd73d68",
   "metadata": {},
   "outputs": [
    {
     "data": {
      "text/plain": [
       "array([[[ 1,  2,  3,  4,  5],\n",
       "        [ 6,  7,  8,  9, 10],\n",
       "        [11, 12, 13, 14, 15]]])"
      ]
     },
     "execution_count": 9,
     "metadata": {},
     "output_type": "execute_result"
    }
   ],
   "source": [
    "b.reshape(1,3,5)"
   ]
  },
  {
   "cell_type": "code",
   "execution_count": 10,
   "id": "f02839e2",
   "metadata": {},
   "outputs": [
    {
     "data": {
      "text/plain": [
       "array([[[ 1,  2,  3],\n",
       "        [ 4,  5,  6],\n",
       "        [ 7,  8,  9],\n",
       "        [10, 11, 12],\n",
       "        [13, 14, 15]]])"
      ]
     },
     "execution_count": 10,
     "metadata": {},
     "output_type": "execute_result"
    }
   ],
   "source": [
    "b.reshape(1,5,3)"
   ]
  },
  {
   "cell_type": "code",
   "execution_count": 11,
   "id": "a5a1a628",
   "metadata": {},
   "outputs": [
    {
     "data": {
      "text/plain": [
       "array([[[ 1,  2,  3,  4,  5],\n",
       "        [ 6,  7,  8,  9, 10],\n",
       "        [11, 12, 13, 14, 15]]])"
      ]
     },
     "execution_count": 11,
     "metadata": {},
     "output_type": "execute_result"
    }
   ],
   "source": [
    "b.reshape(1,3,5)"
   ]
  },
  {
   "cell_type": "code",
   "execution_count": 13,
   "id": "a79ade8c",
   "metadata": {},
   "outputs": [
    {
     "data": {
      "text/plain": [
       "array([[[[ 1,  2,  3,  4,  5,  6,  7,  8,  9, 10, 11, 12]]]])"
      ]
     },
     "execution_count": 13,
     "metadata": {},
     "output_type": "execute_result"
    }
   ],
   "source": [
    "arr1 = np.array([[[[1,2,3,4,5,6,7,8,9,10,11,12]]]],ndmin = 4)\n",
    "arr1"
   ]
  },
  {
   "cell_type": "code",
   "execution_count": 22,
   "id": "beb1e730",
   "metadata": {},
   "outputs": [
    {
     "data": {
      "text/plain": [
       "array([[[[ 1,  2,  3]],\n",
       "\n",
       "        [[ 4,  5,  6]],\n",
       "\n",
       "        [[ 7,  8,  9]],\n",
       "\n",
       "        [[10, 11, 12]]]])"
      ]
     },
     "execution_count": 22,
     "metadata": {},
     "output_type": "execute_result"
    }
   ],
   "source": [
    "arr1.reshape(1,4,1,3)"
   ]
  },
  {
   "cell_type": "code",
   "execution_count": 23,
   "id": "5ee0097c",
   "metadata": {},
   "outputs": [
    {
     "data": {
      "text/plain": [
       "array([[[[ 1]],\n",
       "\n",
       "        [[ 2]],\n",
       "\n",
       "        [[ 3]]],\n",
       "\n",
       "\n",
       "       [[[ 4]],\n",
       "\n",
       "        [[ 5]],\n",
       "\n",
       "        [[ 6]]],\n",
       "\n",
       "\n",
       "       [[[ 7]],\n",
       "\n",
       "        [[ 8]],\n",
       "\n",
       "        [[ 9]]],\n",
       "\n",
       "\n",
       "       [[[10]],\n",
       "\n",
       "        [[11]],\n",
       "\n",
       "        [[12]]]])"
      ]
     },
     "execution_count": 23,
     "metadata": {},
     "output_type": "execute_result"
    }
   ],
   "source": [
    "arr1.reshape(4,3,1,1)"
   ]
  },
  {
   "cell_type": "code",
   "execution_count": 25,
   "id": "117c29aa",
   "metadata": {},
   "outputs": [
    {
     "data": {
      "text/plain": [
       "array([[[[ 1],\n",
       "         [ 2],\n",
       "         [ 3],\n",
       "         [ 4]]],\n",
       "\n",
       "\n",
       "       [[[ 5],\n",
       "         [ 6],\n",
       "         [ 7],\n",
       "         [ 8]]],\n",
       "\n",
       "\n",
       "       [[[ 9],\n",
       "         [10],\n",
       "         [11],\n",
       "         [12]]]])"
      ]
     },
     "execution_count": 25,
     "metadata": {},
     "output_type": "execute_result"
    }
   ],
   "source": [
    "arr1 = np.arange(1,13).reshape(3,1,4,1)\n",
    "arr1"
   ]
  },
  {
   "cell_type": "code",
   "execution_count": 33,
   "id": "0dad6fef",
   "metadata": {},
   "outputs": [
    {
     "data": {
      "text/plain": [
       "array([[[0.99938931],\n",
       "        [0.60709017],\n",
       "        [0.75160537],\n",
       "        [0.28055523]],\n",
       "\n",
       "       [[0.08275678],\n",
       "        [0.6423919 ],\n",
       "        [0.99278291],\n",
       "        [0.70676118]],\n",
       "\n",
       "       [[0.10027075],\n",
       "        [0.59260676],\n",
       "        [0.82488317],\n",
       "        [0.7690535 ]],\n",
       "\n",
       "       [[0.5730457 ],\n",
       "        [0.14237631],\n",
       "        [0.17666744],\n",
       "        [0.59521471]],\n",
       "\n",
       "       [[0.38652922],\n",
       "        [0.11755663],\n",
       "        [0.80965293],\n",
       "        [0.42584081]]])"
      ]
     },
     "execution_count": 33,
     "metadata": {},
     "output_type": "execute_result"
    }
   ],
   "source": [
    "n = np.random.rand(20).reshape(5,4,1)\n",
    "n"
   ]
  },
  {
   "cell_type": "code",
   "execution_count": 30,
   "id": "a69f1d57",
   "metadata": {},
   "outputs": [
    {
     "data": {
      "text/plain": [
       "array([0.        , 0.05263158, 0.10526316, 0.15789474, 0.21052632,\n",
       "       0.26315789, 0.31578947, 0.36842105, 0.42105263, 0.47368421,\n",
       "       0.52631579, 0.57894737, 0.63157895, 0.68421053, 0.73684211,\n",
       "       0.78947368, 0.84210526, 0.89473684, 0.94736842, 1.        ])"
      ]
     },
     "execution_count": 30,
     "metadata": {},
     "output_type": "execute_result"
    }
   ],
   "source": [
    "m = np.linspace(0,1,20)\n",
    "m"
   ]
  },
  {
   "cell_type": "code",
   "execution_count": 34,
   "id": "b3eb4164",
   "metadata": {},
   "outputs": [
    {
     "data": {
      "text/plain": [
       "4"
      ]
     },
     "execution_count": 34,
     "metadata": {},
     "output_type": "execute_result"
    }
   ],
   "source": [
    "#attributes\n",
    "arr1.ndim"
   ]
  },
  {
   "cell_type": "code",
   "execution_count": 36,
   "id": "42a1f8df",
   "metadata": {},
   "outputs": [
    {
     "data": {
      "text/plain": [
       "48"
      ]
     },
     "execution_count": 36,
     "metadata": {},
     "output_type": "execute_result"
    }
   ],
   "source": [
    "arr1.nbytes"
   ]
  },
  {
   "cell_type": "code",
   "execution_count": 37,
   "id": "9d339f0a",
   "metadata": {},
   "outputs": [
    {
     "data": {
      "text/plain": [
       "4"
      ]
     },
     "execution_count": 37,
     "metadata": {},
     "output_type": "execute_result"
    }
   ],
   "source": [
    "arr1.itemsize"
   ]
  },
  {
   "cell_type": "code",
   "execution_count": 38,
   "id": "e1386f8e",
   "metadata": {},
   "outputs": [
    {
     "data": {
      "text/plain": [
       "12"
      ]
     },
     "execution_count": 38,
     "metadata": {},
     "output_type": "execute_result"
    }
   ],
   "source": [
    "arr1.size"
   ]
  },
  {
   "cell_type": "code",
   "execution_count": 39,
   "id": "0c2c532e",
   "metadata": {},
   "outputs": [
    {
     "data": {
      "text/plain": [
       "dtype('int32')"
      ]
     },
     "execution_count": 39,
     "metadata": {},
     "output_type": "execute_result"
    }
   ],
   "source": [
    "arr1.dtype"
   ]
  },
  {
   "cell_type": "code",
   "execution_count": 42,
   "id": "4abee95a",
   "metadata": {},
   "outputs": [
    {
     "data": {
      "text/plain": [
       "(array([0, 0, 0, 0, 1, 1, 1, 1, 2, 2, 2, 2], dtype=int64),\n",
       " array([0, 0, 0, 0, 0, 0, 0, 0, 0, 0, 0, 0], dtype=int64),\n",
       " array([0, 1, 2, 3, 0, 1, 2, 3, 0, 1, 2, 3], dtype=int64),\n",
       " array([0, 0, 0, 0, 0, 0, 0, 0, 0, 0, 0, 0], dtype=int64))"
      ]
     },
     "execution_count": 42,
     "metadata": {},
     "output_type": "execute_result"
    }
   ],
   "source": [
    "arr1.nonzero()"
   ]
  },
  {
   "cell_type": "code",
   "execution_count": 43,
   "id": "9e54ad8e",
   "metadata": {},
   "outputs": [
    {
     "data": {
      "text/plain": [
       "60"
      ]
     },
     "execution_count": 43,
     "metadata": {},
     "output_type": "execute_result"
    }
   ],
   "source": [
    "b.nbytes"
   ]
  },
  {
   "cell_type": "code",
   "execution_count": 44,
   "id": "9fd261ad",
   "metadata": {},
   "outputs": [
    {
     "data": {
      "text/plain": [
       "3"
      ]
     },
     "execution_count": 44,
     "metadata": {},
     "output_type": "execute_result"
    }
   ],
   "source": [
    "b.ndim"
   ]
  },
  {
   "cell_type": "code",
   "execution_count": 46,
   "id": "64dee11b",
   "metadata": {},
   "outputs": [
    {
     "data": {
      "text/plain": [
       "1"
      ]
     },
     "execution_count": 46,
     "metadata": {},
     "output_type": "execute_result"
    }
   ],
   "source": [
    "b.min()"
   ]
  },
  {
   "cell_type": "code",
   "execution_count": 47,
   "id": "4b554bfa",
   "metadata": {},
   "outputs": [
    {
     "data": {
      "text/plain": [
       "15"
      ]
     },
     "execution_count": 47,
     "metadata": {},
     "output_type": "execute_result"
    }
   ],
   "source": [
    "b.size"
   ]
  },
  {
   "cell_type": "code",
   "execution_count": 48,
   "id": "0333243c",
   "metadata": {},
   "outputs": [
    {
     "data": {
      "text/plain": [
       "4"
      ]
     },
     "execution_count": 48,
     "metadata": {},
     "output_type": "execute_result"
    }
   ],
   "source": [
    "b.itemsize"
   ]
  },
  {
   "cell_type": "code",
   "execution_count": 49,
   "id": "a3377d73",
   "metadata": {},
   "outputs": [
    {
     "data": {
      "text/plain": [
       "dtype('int32')"
      ]
     },
     "execution_count": 49,
     "metadata": {},
     "output_type": "execute_result"
    }
   ],
   "source": [
    "b.dtype"
   ]
  },
  {
   "cell_type": "code",
   "execution_count": 50,
   "id": "58c05001",
   "metadata": {},
   "outputs": [
    {
     "data": {
      "text/plain": [
       "6.5"
      ]
     },
     "execution_count": 50,
     "metadata": {},
     "output_type": "execute_result"
    }
   ],
   "source": [
    "#measure and spread\n",
    "np.mean(arr1)"
   ]
  },
  {
   "cell_type": "code",
   "execution_count": 51,
   "id": "713c97f1",
   "metadata": {},
   "outputs": [
    {
     "data": {
      "text/plain": [
       "6.5"
      ]
     },
     "execution_count": 51,
     "metadata": {},
     "output_type": "execute_result"
    }
   ],
   "source": [
    "np.median(arr1)"
   ]
  },
  {
   "cell_type": "code",
   "execution_count": 52,
   "id": "47362f36",
   "metadata": {},
   "outputs": [
    {
     "data": {
      "text/plain": [
       "11.916666666666666"
      ]
     },
     "execution_count": 52,
     "metadata": {},
     "output_type": "execute_result"
    }
   ],
   "source": [
    "np.var(arr1)"
   ]
  },
  {
   "cell_type": "code",
   "execution_count": 53,
   "id": "3f9fcd3b",
   "metadata": {},
   "outputs": [
    {
     "data": {
      "text/plain": [
       "3.452052529534663"
      ]
     },
     "execution_count": 53,
     "metadata": {},
     "output_type": "execute_result"
    }
   ],
   "source": [
    "np.std(arr1)"
   ]
  },
  {
   "cell_type": "code",
   "execution_count": 54,
   "id": "b3dbdd2c",
   "metadata": {},
   "outputs": [
    {
     "data": {
      "text/plain": [
       "12"
      ]
     },
     "execution_count": 54,
     "metadata": {},
     "output_type": "execute_result"
    }
   ],
   "source": [
    "np.max(arr1)"
   ]
  },
  {
   "cell_type": "code",
   "execution_count": 55,
   "id": "aed6152f",
   "metadata": {},
   "outputs": [
    {
     "data": {
      "text/plain": [
       "1"
      ]
     },
     "execution_count": 55,
     "metadata": {},
     "output_type": "execute_result"
    }
   ],
   "source": [
    "np.min(arr1)"
   ]
  },
  {
   "cell_type": "code",
   "execution_count": 57,
   "id": "19b0a6d0",
   "metadata": {},
   "outputs": [
    {
     "data": {
      "text/plain": [
       "11"
      ]
     },
     "execution_count": 57,
     "metadata": {},
     "output_type": "execute_result"
    }
   ],
   "source": [
    "r1 = np.max(arr1) - np.min(arr1)\n",
    "r1"
   ]
  },
  {
   "cell_type": "code",
   "execution_count": 58,
   "id": "83b04674",
   "metadata": {},
   "outputs": [
    {
     "data": {
      "text/plain": [
       "3.75"
      ]
     },
     "execution_count": 58,
     "metadata": {},
     "output_type": "execute_result"
    }
   ],
   "source": [
    "q1 = np.percentile(arr1,25)\n",
    "q1"
   ]
  },
  {
   "cell_type": "code",
   "execution_count": 59,
   "id": "ab372236",
   "metadata": {},
   "outputs": [
    {
     "data": {
      "text/plain": [
       "9.25"
      ]
     },
     "execution_count": 59,
     "metadata": {},
     "output_type": "execute_result"
    }
   ],
   "source": [
    "q3 = np.percentile(arr1,75)\n",
    "q3"
   ]
  },
  {
   "cell_type": "code",
   "execution_count": 60,
   "id": "4930f85d",
   "metadata": {},
   "outputs": [
    {
     "data": {
      "text/plain": [
       "5.5"
      ]
     },
     "execution_count": 60,
     "metadata": {},
     "output_type": "execute_result"
    }
   ],
   "source": [
    "IQR1 = q3 - q1\n",
    "IQR1"
   ]
  },
  {
   "cell_type": "code",
   "execution_count": 61,
   "id": "44a6091a",
   "metadata": {},
   "outputs": [
    {
     "data": {
      "text/plain": [
       "-4.5"
      ]
     },
     "execution_count": 61,
     "metadata": {},
     "output_type": "execute_result"
    }
   ],
   "source": [
    "ll = q1 - (1.5 * IQR1)\n",
    "ll"
   ]
  },
  {
   "cell_type": "code",
   "execution_count": 63,
   "id": "1b4d8821",
   "metadata": {},
   "outputs": [
    {
     "data": {
      "text/plain": [
       "17.5"
      ]
     },
     "execution_count": 63,
     "metadata": {},
     "output_type": "execute_result"
    }
   ],
   "source": [
    "ul = q3 + (1.5 * IQR1)\n",
    "ul"
   ]
  },
  {
   "cell_type": "code",
   "execution_count": 64,
   "id": "556fcf28",
   "metadata": {},
   "outputs": [
    {
     "data": {
      "text/plain": [
       "array([], dtype=int32)"
      ]
     },
     "execution_count": 64,
     "metadata": {},
     "output_type": "execute_result"
    }
   ],
   "source": [
    "arr1[arr1>ul]"
   ]
  },
  {
   "cell_type": "code",
   "execution_count": 65,
   "id": "c0ffee77",
   "metadata": {},
   "outputs": [
    {
     "data": {
      "text/plain": [
       "array([], dtype=int32)"
      ]
     },
     "execution_count": 65,
     "metadata": {},
     "output_type": "execute_result"
    }
   ],
   "source": [
    "arr1[arr1<ll]"
   ]
  },
  {
   "cell_type": "code",
   "execution_count": 66,
   "id": "337658fa",
   "metadata": {},
   "outputs": [
    {
     "data": {
      "text/plain": [
       "8.0"
      ]
     },
     "execution_count": 66,
     "metadata": {},
     "output_type": "execute_result"
    }
   ],
   "source": [
    "np.mean(b)"
   ]
  },
  {
   "cell_type": "code",
   "execution_count": 67,
   "id": "cdd8cc9d",
   "metadata": {},
   "outputs": [
    {
     "data": {
      "text/plain": [
       "18.666666666666668"
      ]
     },
     "execution_count": 67,
     "metadata": {},
     "output_type": "execute_result"
    }
   ],
   "source": [
    "np.var(b)"
   ]
  },
  {
   "cell_type": "code",
   "execution_count": 68,
   "id": "f656b7cb",
   "metadata": {},
   "outputs": [
    {
     "data": {
      "text/plain": [
       "4.320493798938574"
      ]
     },
     "execution_count": 68,
     "metadata": {},
     "output_type": "execute_result"
    }
   ],
   "source": [
    "np.std(b)"
   ]
  },
  {
   "cell_type": "code",
   "execution_count": 69,
   "id": "f6f3918e",
   "metadata": {},
   "outputs": [
    {
     "data": {
      "text/plain": [
       "1"
      ]
     },
     "execution_count": 69,
     "metadata": {},
     "output_type": "execute_result"
    }
   ],
   "source": [
    "np.min(b)"
   ]
  },
  {
   "cell_type": "code",
   "execution_count": 70,
   "id": "0485b894",
   "metadata": {},
   "outputs": [
    {
     "data": {
      "text/plain": [
       "15"
      ]
     },
     "execution_count": 70,
     "metadata": {},
     "output_type": "execute_result"
    }
   ],
   "source": [
    "np.max(b)"
   ]
  },
  {
   "cell_type": "code",
   "execution_count": 72,
   "id": "2372daf8",
   "metadata": {},
   "outputs": [
    {
     "data": {
      "text/plain": [
       "14"
      ]
     },
     "execution_count": 72,
     "metadata": {},
     "output_type": "execute_result"
    }
   ],
   "source": [
    "r2 = np.max(b) - np.min(b)\n",
    "r2"
   ]
  },
  {
   "cell_type": "markdown",
   "id": "ce086811",
   "metadata": {},
   "source": [
    "# Array Slicing and Indexing:\n",
    "a. Creating Arrays: - Create a 1-dimensional NumPy array arr1 with the values [0, 11, 26, 73, 42, 51, 6,77, 8,29]. - Create a 2-dimensional NumPy array arr2 with the values [[0, 1, 2], [3, 4, 5], [6, 7, 8]].\n",
    "\n",
    "b.Basic Indexing: - Print the element at index 3 of arr1. - Print the element at row 2, column 1 of arr2\n",
    "\n",
    "c. Array Slicing: - Print the first five elements of arr1. - Print the subarray of arr2 consisting of the last two rows and the first two columns. - Print every second element starting from index 1 up to index 7 of arr1"
   ]
  },
  {
   "cell_type": "code",
   "execution_count": 76,
   "id": "1d290be1",
   "metadata": {},
   "outputs": [
    {
     "data": {
      "text/plain": [
       "array([ 0, 11, 26, 73, 42, 51,  6, 77,  8, 29])"
      ]
     },
     "execution_count": 76,
     "metadata": {},
     "output_type": "execute_result"
    }
   ],
   "source": [
    "#a\n",
    "arr1 = np.array([0, 11, 26, 73, 42, 51, 6,77, 8,29],ndmin = 1)\n",
    "arr1"
   ]
  },
  {
   "cell_type": "code",
   "execution_count": 78,
   "id": "6de5f191",
   "metadata": {},
   "outputs": [
    {
     "data": {
      "text/plain": [
       "array([[0, 1, 2],\n",
       "       [3, 4, 5],\n",
       "       [6, 7, 8]])"
      ]
     },
     "execution_count": 78,
     "metadata": {},
     "output_type": "execute_result"
    }
   ],
   "source": [
    "arr2 = np.array([[0, 1, 2], [3, 4, 5], [6, 7, 8]],ndmin = 2)\n",
    "arr2"
   ]
  },
  {
   "cell_type": "raw",
   "id": "0ea01849",
   "metadata": {},
   "source": []
  },
  {
   "cell_type": "code",
   "execution_count": 79,
   "id": "55a030df",
   "metadata": {},
   "outputs": [
    {
     "data": {
      "text/plain": [
       "73"
      ]
     },
     "execution_count": 79,
     "metadata": {},
     "output_type": "execute_result"
    }
   ],
   "source": [
    "#b\n",
    "arr1[3]"
   ]
  },
  {
   "cell_type": "code",
   "execution_count": 80,
   "id": "6d2a96b1",
   "metadata": {},
   "outputs": [
    {
     "data": {
      "text/plain": [
       "7"
      ]
     },
     "execution_count": 80,
     "metadata": {},
     "output_type": "execute_result"
    }
   ],
   "source": [
    "\n",
    "arr2[2][1]"
   ]
  },
  {
   "cell_type": "code",
   "execution_count": 81,
   "id": "21d31d28",
   "metadata": {},
   "outputs": [
    {
     "data": {
      "text/plain": [
       "array([ 0, 11, 26, 73, 42])"
      ]
     },
     "execution_count": 81,
     "metadata": {},
     "output_type": "execute_result"
    }
   ],
   "source": [
    "#c\n",
    "arr1[:5:]"
   ]
  },
  {
   "cell_type": "code",
   "execution_count": 94,
   "id": "64a05ebe",
   "metadata": {},
   "outputs": [
    {
     "data": {
      "text/plain": [
       "array([[3, 4],\n",
       "       [6, 7]])"
      ]
     },
     "execution_count": 94,
     "metadata": {},
     "output_type": "execute_result"
    }
   ],
   "source": [
    "arr2[1:,0:2]"
   ]
  },
  {
   "cell_type": "markdown",
   "id": "96e95d16",
   "metadata": {},
   "source": []
  },
  {
   "cell_type": "code",
   "execution_count": 96,
   "id": "2b57a1fd",
   "metadata": {},
   "outputs": [
    {
     "data": {
      "text/plain": [
       "array([11, 73, 51, 77])"
      ]
     },
     "execution_count": 96,
     "metadata": {},
     "output_type": "execute_result"
    }
   ],
   "source": [
    "arr1[1:8:2]"
   ]
  },
  {
   "cell_type": "markdown",
   "id": "f1fbf70d",
   "metadata": {},
   "source": [
    "# Generating Random Numbers:\n",
    "Use numpy.random.randint() to create an array rand_integers containing 10 random integers between 0 and 100 (inclusive).\n",
    "\n",
    "Use numpy.random.uniform() to create an array rand_uniform containing 5 random numbers sampled from a uniform distribution between -1 and 1.\n",
    "\n",
    "Create an array rand_matrix with random integers between 50 and 100 (inclusive).and reshape it to 2-dimensional (4 x 4) matrix\n",
    "\n",
    "Apply descriptive statistics for rand_matrix."
   ]
  },
  {
   "cell_type": "code",
   "execution_count": 99,
   "id": "5f7a2fc3",
   "metadata": {},
   "outputs": [
    {
     "data": {
      "text/plain": [
       "array([84, 90, 48, 58,  8, 60, 10,  3, 31, 52])"
      ]
     },
     "execution_count": 99,
     "metadata": {},
     "output_type": "execute_result"
    }
   ],
   "source": [
    "rand_integers = np.random.randint(0,100,10)\n",
    "rand_integers"
   ]
  },
  {
   "cell_type": "code",
   "execution_count": 101,
   "id": "24bbefc2",
   "metadata": {},
   "outputs": [
    {
     "data": {
      "text/plain": [
       "array([ 0.89374301,  0.27855173,  0.1905256 , -0.77539995, -0.27701409])"
      ]
     },
     "execution_count": 101,
     "metadata": {},
     "output_type": "execute_result"
    }
   ],
   "source": [
    "rand_uniform = np.random.uniform(-1,1,5)\n",
    "rand_uniform"
   ]
  },
  {
   "cell_type": "code",
   "execution_count": 104,
   "id": "02f4ad13",
   "metadata": {},
   "outputs": [
    {
     "data": {
      "text/plain": [
       "array([[83, 91, 94, 63],\n",
       "       [96, 72, 79, 50],\n",
       "       [58, 86, 67, 65],\n",
       "       [52, 82, 72, 75]])"
      ]
     },
     "execution_count": 104,
     "metadata": {},
     "output_type": "execute_result"
    }
   ],
   "source": [
    "rand_matrix = np.random.randint(50,100,16).reshape(4,4)\n",
    "rand_matrix"
   ]
  },
  {
   "cell_type": "code",
   "execution_count": 105,
   "id": "6aff4348",
   "metadata": {},
   "outputs": [
    {
     "data": {
      "text/plain": [
       "74.0625"
      ]
     },
     "execution_count": 105,
     "metadata": {},
     "output_type": "execute_result"
    }
   ],
   "source": [
    "np.mean( rand_matrix)"
   ]
  },
  {
   "cell_type": "code",
   "execution_count": 106,
   "id": "ae41f50c",
   "metadata": {},
   "outputs": [
    {
     "data": {
      "text/plain": [
       "73.5"
      ]
     },
     "execution_count": 106,
     "metadata": {},
     "output_type": "execute_result"
    }
   ],
   "source": [
    "np.median( rand_matrix)"
   ]
  },
  {
   "cell_type": "code",
   "execution_count": 107,
   "id": "4ff01e42",
   "metadata": {},
   "outputs": [
    {
     "data": {
      "text/plain": [
       "191.43359375"
      ]
     },
     "execution_count": 107,
     "metadata": {},
     "output_type": "execute_result"
    }
   ],
   "source": [
    "np.var( rand_matrix)"
   ]
  },
  {
   "cell_type": "code",
   "execution_count": 108,
   "id": "6d3c2b3a",
   "metadata": {},
   "outputs": [
    {
     "data": {
      "text/plain": [
       "13.835952939714705"
      ]
     },
     "execution_count": 108,
     "metadata": {},
     "output_type": "execute_result"
    }
   ],
   "source": [
    "np.std( rand_matrix)"
   ]
  },
  {
   "cell_type": "code",
   "execution_count": 111,
   "id": "fde3837a",
   "metadata": {},
   "outputs": [
    {
     "data": {
      "text/plain": [
       "96"
      ]
     },
     "execution_count": 111,
     "metadata": {},
     "output_type": "execute_result"
    }
   ],
   "source": [
    "np.max( rand_matrix)"
   ]
  },
  {
   "cell_type": "code",
   "execution_count": 110,
   "id": "64dcaaad",
   "metadata": {},
   "outputs": [
    {
     "data": {
      "text/plain": [
       "50"
      ]
     },
     "execution_count": 110,
     "metadata": {},
     "output_type": "execute_result"
    }
   ],
   "source": [
    "np.min( rand_matrix)"
   ]
  },
  {
   "cell_type": "code",
   "execution_count": 113,
   "id": "7c0aeb14",
   "metadata": {},
   "outputs": [
    {
     "data": {
      "text/plain": [
       "46"
      ]
     },
     "execution_count": 113,
     "metadata": {},
     "output_type": "execute_result"
    }
   ],
   "source": [
    "r = np.max( rand_matrix) - np.min( rand_matrix)\n",
    "r"
   ]
  },
  {
   "cell_type": "code",
   "execution_count": 114,
   "id": "e2e66df4",
   "metadata": {},
   "outputs": [
    {
     "data": {
      "text/plain": [
       "64.5"
      ]
     },
     "execution_count": 114,
     "metadata": {},
     "output_type": "execute_result"
    }
   ],
   "source": [
    "q1 = np.percentile(rand_matrix,25)\n",
    "q1"
   ]
  },
  {
   "cell_type": "code",
   "execution_count": 116,
   "id": "8196bdc7",
   "metadata": {},
   "outputs": [
    {
     "data": {
      "text/plain": [
       "83.75"
      ]
     },
     "execution_count": 116,
     "metadata": {},
     "output_type": "execute_result"
    }
   ],
   "source": [
    "q3 = np.percentile(rand_matrix,75)\n",
    "q3"
   ]
  },
  {
   "cell_type": "code",
   "execution_count": 118,
   "id": "86b7b4ac",
   "metadata": {},
   "outputs": [
    {
     "data": {
      "text/plain": [
       "19.25"
      ]
     },
     "execution_count": 118,
     "metadata": {},
     "output_type": "execute_result"
    }
   ],
   "source": [
    "IQR = q3 - q1\n",
    "IQR"
   ]
  },
  {
   "cell_type": "code",
   "execution_count": 119,
   "id": "0e6acab0",
   "metadata": {},
   "outputs": [
    {
     "data": {
      "text/plain": [
       "35.625"
      ]
     },
     "execution_count": 119,
     "metadata": {},
     "output_type": "execute_result"
    }
   ],
   "source": [
    "ll = q1 - (1.5*IQR)\n",
    "ll"
   ]
  },
  {
   "cell_type": "code",
   "execution_count": 120,
   "id": "03981fbb",
   "metadata": {},
   "outputs": [
    {
     "data": {
      "text/plain": [
       "112.625"
      ]
     },
     "execution_count": 120,
     "metadata": {},
     "output_type": "execute_result"
    }
   ],
   "source": [
    "ul = q3 + (1.5*IQR)\n",
    "ul"
   ]
  },
  {
   "cell_type": "markdown",
   "id": "1cd83c81",
   "metadata": {},
   "source": [
    "# Data Type Manipulation\n",
    "a. Creating Arrays with Specific Data Types: - Create a 1-dimensional NumPy array int_array with the values [1, 2, 3, 4, 5] and the data type int16. - Create a 1-dimensional NumPy array float_array with the values [0.1, 0.2, 0.3, 0.4, 0.5] and the data type float64.\n",
    "\n",
    "b. Data Type Conversion: - Convert the float_array to an array with data type int32. Print the result. - Convert the int_array to an array with data type float32. Print the result."
   ]
  },
  {
   "cell_type": "code",
   "execution_count": 124,
   "id": "3ce3e939",
   "metadata": {},
   "outputs": [
    {
     "data": {
      "text/plain": [
       "array([1, 2, 3, 4, 5], dtype=int16)"
      ]
     },
     "execution_count": 124,
     "metadata": {},
     "output_type": "execute_result"
    }
   ],
   "source": [
    "#a\n",
    "int_array = np.array([1, 2, 3, 4, 5],dtype = \"int16\")\n",
    "int_array"
   ]
  },
  {
   "cell_type": "code",
   "execution_count": 125,
   "id": "74f976b7",
   "metadata": {},
   "outputs": [
    {
     "data": {
      "text/plain": [
       "dtype('int16')"
      ]
     },
     "execution_count": 125,
     "metadata": {},
     "output_type": "execute_result"
    }
   ],
   "source": [
    "int_array.dtype"
   ]
  },
  {
   "cell_type": "code",
   "execution_count": 127,
   "id": "ba367557",
   "metadata": {},
   "outputs": [
    {
     "data": {
      "text/plain": [
       "array([0.1, 0.2, 0.3, 0.4, 0.5])"
      ]
     },
     "execution_count": 127,
     "metadata": {},
     "output_type": "execute_result"
    }
   ],
   "source": [
    "float_array = np.array([0.1, 0.2, 0.3, 0.4, 0.5],\"float64\")\n",
    "float_array"
   ]
  },
  {
   "cell_type": "code",
   "execution_count": 128,
   "id": "56fa1e12",
   "metadata": {},
   "outputs": [
    {
     "data": {
      "text/plain": [
       "dtype('float64')"
      ]
     },
     "execution_count": 128,
     "metadata": {},
     "output_type": "execute_result"
    }
   ],
   "source": [
    "float_array.dtype"
   ]
  },
  {
   "cell_type": "code",
   "execution_count": 129,
   "id": "7f45b805",
   "metadata": {},
   "outputs": [
    {
     "data": {
      "text/plain": [
       "array([0, 0, 0, 0, 0])"
      ]
     },
     "execution_count": 129,
     "metadata": {},
     "output_type": "execute_result"
    }
   ],
   "source": [
    "#b\n",
    "a = np.array([0.1, 0.2, 0.3, 0.4, 0.5],\"int32\")\n",
    "a"
   ]
  },
  {
   "cell_type": "code",
   "execution_count": 130,
   "id": "da5eee2e",
   "metadata": {},
   "outputs": [
    {
     "data": {
      "text/plain": [
       "dtype('int32')"
      ]
     },
     "execution_count": 130,
     "metadata": {},
     "output_type": "execute_result"
    }
   ],
   "source": [
    "a.dtype"
   ]
  },
  {
   "cell_type": "code",
   "execution_count": 131,
   "id": "28b216c2",
   "metadata": {},
   "outputs": [
    {
     "data": {
      "text/plain": [
       "array([1., 2., 3., 4., 5.], dtype=float32)"
      ]
     },
     "execution_count": 131,
     "metadata": {},
     "output_type": "execute_result"
    }
   ],
   "source": [
    "b = np.array([1, 2, 3, 4, 5],dtype = \"float32\")\n",
    "b"
   ]
  },
  {
   "cell_type": "markdown",
   "id": "9d5052cf",
   "metadata": {},
   "source": [
    "# Analyze the Data:\n",
    "Salaries = [87877, 54494, 54804, 85051, 52453, 31250, 94868, 66349, 39828, 60501, 58570, 74906, 41671, 51428, 56414, 98446, 56819, 82833, 50477, 62898, 99658, 89224, 34225, 79172, 32199, 63795, 90947, 55723, 64557, 3113638]\n",
    "\n",
    "Describe the data using numpy array. Measure the following:\n",
    "\n",
    "How many employees are getting more less than 50000?\n",
    "\n",
    "Is it following Normal Distribution?\n",
    "\n",
    "What is the median salary?\n",
    "\n",
    "What is the range of salaries for this company?\n",
    "\n",
    "Find the salaries between average salary and 75% of salaries?\n",
    "\n",
    "How many employees are getting less than 25 % of salaries ?"
   ]
  },
  {
   "cell_type": "code",
   "execution_count": 132,
   "id": "13ad7337",
   "metadata": {},
   "outputs": [],
   "source": [
    "salaries = np.array([87877, 54494, 54804, 85051, 52453, 31250, 94868, 66349, 39828, 60501, 58570, 74906, 41671, 51428, 56414, 98446, 56819, 82833, 50477, 62898, 99658, 89224, 34225, 79172, 32199, 63795, 90947, 55723, 64557, 3113638])"
   ]
  },
  {
   "cell_type": "code",
   "execution_count": 133,
   "id": "5c6a7a8a",
   "metadata": {},
   "outputs": [
    {
     "data": {
      "text/plain": [
       "array([  87877,   54494,   54804,   85051,   52453,   31250,   94868,\n",
       "         66349,   39828,   60501,   58570,   74906,   41671,   51428,\n",
       "         56414,   98446,   56819,   82833,   50477,   62898,   99658,\n",
       "         89224,   34225,   79172,   32199,   63795,   90947,   55723,\n",
       "         64557, 3113638])"
      ]
     },
     "execution_count": 133,
     "metadata": {},
     "output_type": "execute_result"
    }
   ],
   "source": [
    "salaries"
   ]
  },
  {
   "cell_type": "code",
   "execution_count": 134,
   "id": "5af61cbd",
   "metadata": {},
   "outputs": [
    {
     "data": {
      "text/plain": [
       "120"
      ]
     },
     "execution_count": 134,
     "metadata": {},
     "output_type": "execute_result"
    }
   ],
   "source": [
    "salaries.nbytes"
   ]
  },
  {
   "cell_type": "code",
   "execution_count": 135,
   "id": "cee84841",
   "metadata": {},
   "outputs": [
    {
     "data": {
      "text/plain": [
       "1"
      ]
     },
     "execution_count": 135,
     "metadata": {},
     "output_type": "execute_result"
    }
   ],
   "source": [
    "salaries.ndim"
   ]
  },
  {
   "cell_type": "code",
   "execution_count": 136,
   "id": "faf47053",
   "metadata": {},
   "outputs": [
    {
     "data": {
      "text/plain": [
       "30"
      ]
     },
     "execution_count": 136,
     "metadata": {},
     "output_type": "execute_result"
    }
   ],
   "source": [
    "salaries.size"
   ]
  },
  {
   "cell_type": "code",
   "execution_count": 137,
   "id": "e9788c0d",
   "metadata": {},
   "outputs": [
    {
     "data": {
      "text/plain": [
       "4"
      ]
     },
     "execution_count": 137,
     "metadata": {},
     "output_type": "execute_result"
    }
   ],
   "source": [
    "salaries.itemsize"
   ]
  },
  {
   "cell_type": "code",
   "execution_count": 156,
   "id": "5a821df0",
   "metadata": {},
   "outputs": [
    {
     "data": {
      "text/plain": [
       "166169.16666666666"
      ]
     },
     "execution_count": 156,
     "metadata": {},
     "output_type": "execute_result"
    }
   ],
   "source": [
    "m = np.mean(salaries)\n",
    "m    "
   ]
  },
  {
   "cell_type": "code",
   "execution_count": 139,
   "id": "b35cad35",
   "metadata": {},
   "outputs": [
    {
     "data": {
      "text/plain": [
       "61699.5"
      ]
     },
     "execution_count": 139,
     "metadata": {},
     "output_type": "execute_result"
    }
   ],
   "source": [
    "np.median(salaries)"
   ]
  },
  {
   "cell_type": "code",
   "execution_count": 140,
   "id": "2816f7c5",
   "metadata": {},
   "outputs": [
    {
     "data": {
      "text/plain": [
       "299951833234.73895"
      ]
     },
     "execution_count": 140,
     "metadata": {},
     "output_type": "execute_result"
    }
   ],
   "source": [
    "np.var(salaries)"
   ]
  },
  {
   "cell_type": "code",
   "execution_count": 141,
   "id": "4bc7ae95",
   "metadata": {},
   "outputs": [
    {
     "data": {
      "text/plain": [
       "547678.585700353"
      ]
     },
     "execution_count": 141,
     "metadata": {},
     "output_type": "execute_result"
    }
   ],
   "source": [
    "np.std(salaries)"
   ]
  },
  {
   "cell_type": "code",
   "execution_count": 142,
   "id": "4c343734",
   "metadata": {},
   "outputs": [
    {
     "data": {
      "text/plain": [
       "3082388"
      ]
     },
     "execution_count": 142,
     "metadata": {},
     "output_type": "execute_result"
    }
   ],
   "source": [
    "r = np.max(salaries) - np.min(salaries)\n",
    "r"
   ]
  },
  {
   "cell_type": "code",
   "execution_count": 144,
   "id": "957007e3",
   "metadata": {},
   "outputs": [
    {
     "data": {
      "text/plain": [
       "52963.25"
      ]
     },
     "execution_count": 144,
     "metadata": {},
     "output_type": "execute_result"
    }
   ],
   "source": [
    "q1 = np.percentile(salaries,25)\n",
    "q1"
   ]
  },
  {
   "cell_type": "code",
   "execution_count": 146,
   "id": "2daf5607",
   "metadata": {},
   "outputs": [
    {
     "data": {
      "text/plain": [
       "84496.5"
      ]
     },
     "execution_count": 146,
     "metadata": {},
     "output_type": "execute_result"
    }
   ],
   "source": [
    "q3 = np.percentile(salaries,75)\n",
    "q3"
   ]
  },
  {
   "cell_type": "code",
   "execution_count": 147,
   "id": "908f4ba0",
   "metadata": {},
   "outputs": [
    {
     "data": {
      "text/plain": [
       "31533.25"
      ]
     },
     "execution_count": 147,
     "metadata": {},
     "output_type": "execute_result"
    }
   ],
   "source": [
    "IQR = q3 - q1\n",
    "IQR"
   ]
  },
  {
   "cell_type": "code",
   "execution_count": 148,
   "id": "0bb9b75d",
   "metadata": {},
   "outputs": [
    {
     "data": {
      "text/plain": [
       "5663.375"
      ]
     },
     "execution_count": 148,
     "metadata": {},
     "output_type": "execute_result"
    }
   ],
   "source": [
    "l = q1 - (1.5*IQR)\n",
    "l"
   ]
  },
  {
   "cell_type": "code",
   "execution_count": 149,
   "id": "4b7388fc",
   "metadata": {},
   "outputs": [
    {
     "data": {
      "text/plain": [
       "131796.375"
      ]
     },
     "execution_count": 149,
     "metadata": {},
     "output_type": "execute_result"
    }
   ],
   "source": [
    "u = q3 + (1.5*IQR)\n",
    "u"
   ]
  },
  {
   "cell_type": "code",
   "execution_count": 157,
   "id": "06789cd8",
   "metadata": {},
   "outputs": [
    {
     "data": {
      "text/plain": [
       "array([3113638])"
      ]
     },
     "execution_count": 157,
     "metadata": {},
     "output_type": "execute_result"
    }
   ],
   "source": [
    "p = salaries[salaries > u]\n",
    "p"
   ]
  },
  {
   "cell_type": "code",
   "execution_count": 151,
   "id": "b240362e",
   "metadata": {},
   "outputs": [
    {
     "data": {
      "text/plain": [
       "array([], dtype=int32)"
      ]
     },
     "execution_count": 151,
     "metadata": {},
     "output_type": "execute_result"
    }
   ],
   "source": [
    "salaries[salaries < l]"
   ]
  },
  {
   "cell_type": "code",
   "execution_count": 154,
   "id": "c7bc9aa0",
   "metadata": {},
   "outputs": [
    {
     "data": {
      "text/plain": [
       "array([  87877,   54494,   54804,   85051,   52453,   94868,   66349,\n",
       "         60501,   58570,   74906,   51428,   56414,   98446,   56819,\n",
       "         82833,   50477,   62898,   99658,   89224,   79172,   63795,\n",
       "         90947,   55723,   64557, 3113638])"
      ]
     },
     "execution_count": 154,
     "metadata": {},
     "output_type": "execute_result"
    }
   ],
   "source": [
    "c = salaries[salaries > 50000]\n",
    "c"
   ]
  },
  {
   "cell_type": "code",
   "execution_count": 155,
   "id": "b99dc1e7",
   "metadata": {},
   "outputs": [
    {
     "data": {
      "text/plain": [
       "25"
      ]
     },
     "execution_count": 155,
     "metadata": {},
     "output_type": "execute_result"
    }
   ],
   "source": [
    "len(c)"
   ]
  },
  {
   "cell_type": "code",
   "execution_count": 160,
   "id": "4673bad1",
   "metadata": {},
   "outputs": [
    {
     "data": {
      "text/plain": [
       "array([52453, 31250, 39828, 41671, 51428, 50477, 34225, 32199])"
      ]
     },
     "execution_count": 160,
     "metadata": {},
     "output_type": "execute_result"
    }
   ],
   "source": [
    "t = salaries[salaries <np.percentile(salaries,25)]\n",
    "t"
   ]
  },
  {
   "cell_type": "code",
   "execution_count": 161,
   "id": "17071b5c",
   "metadata": {},
   "outputs": [
    {
     "data": {
      "text/plain": [
       "array([  87877,   85051,   94868,   98446,   99658,   89224,   90947,\n",
       "       3113638])"
      ]
     },
     "execution_count": 161,
     "metadata": {},
     "output_type": "execute_result"
    }
   ],
   "source": [
    "n = salaries[salaries > np.percentile(salaries,75)]\n",
    "n"
   ]
  },
  {
   "cell_type": "code",
   "execution_count": null,
   "id": "47a2d724",
   "metadata": {},
   "outputs": [],
   "source": []
  }
 ],
 "metadata": {
  "kernelspec": {
   "display_name": "Python 3 (ipykernel)",
   "language": "python",
   "name": "python3"
  },
  "language_info": {
   "codemirror_mode": {
    "name": "ipython",
    "version": 3
   },
   "file_extension": ".py",
   "mimetype": "text/x-python",
   "name": "python",
   "nbconvert_exporter": "python",
   "pygments_lexer": "ipython3",
   "version": "3.10.12"
  }
 },
 "nbformat": 4,
 "nbformat_minor": 5
}
