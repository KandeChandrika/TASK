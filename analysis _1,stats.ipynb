{
 "cells": [
  {
   "cell_type": "code",
   "execution_count": 1,
   "id": "943adce3",
   "metadata": {},
   "outputs": [],
   "source": [
    "import numpy as np\n",
    "import pandas as pd \n",
    "import matplotlib.pyplot as plt\n",
    "import seaborn as sns\n",
    "import scipy\n",
    "from scipy import stats as st\n",
    "import warnings\n",
    "warnings.filterwarnings('ignore')"
   ]
  },
  {
   "cell_type": "code",
   "execution_count": null,
   "id": "96939309",
   "metadata": {},
   "outputs": [],
   "source": []
  },
  {
   "cell_type": "code",
   "execution_count": 2,
   "id": "9150b05c",
   "metadata": {},
   "outputs": [
    {
     "data": {
      "text/html": [
       "<div>\n",
       "<style scoped>\n",
       "    .dataframe tbody tr th:only-of-type {\n",
       "        vertical-align: middle;\n",
       "    }\n",
       "\n",
       "    .dataframe tbody tr th {\n",
       "        vertical-align: top;\n",
       "    }\n",
       "\n",
       "    .dataframe thead th {\n",
       "        text-align: right;\n",
       "    }\n",
       "</style>\n",
       "<table border=\"1\" class=\"dataframe\">\n",
       "  <thead>\n",
       "    <tr style=\"text-align: right;\">\n",
       "      <th></th>\n",
       "      <th>dateCrawled</th>\n",
       "      <th>name</th>\n",
       "      <th>seller</th>\n",
       "      <th>offerType</th>\n",
       "      <th>price</th>\n",
       "      <th>abtest</th>\n",
       "      <th>vehicleType</th>\n",
       "      <th>yearOfRegistration</th>\n",
       "      <th>gearbox</th>\n",
       "      <th>powerPS</th>\n",
       "      <th>model</th>\n",
       "      <th>kilometer</th>\n",
       "      <th>monthOfRegistration</th>\n",
       "      <th>fuelType</th>\n",
       "      <th>brand</th>\n",
       "      <th>notRepairedDamage</th>\n",
       "      <th>dateCreated</th>\n",
       "      <th>nrOfPictures</th>\n",
       "      <th>postalCode</th>\n",
       "      <th>lastSeen</th>\n",
       "    </tr>\n",
       "  </thead>\n",
       "  <tbody>\n",
       "    <tr>\n",
       "      <th>0</th>\n",
       "      <td>2016-03-24 11:52:17</td>\n",
       "      <td>Golf_3_1.6</td>\n",
       "      <td>privat</td>\n",
       "      <td>Angebot</td>\n",
       "      <td>480</td>\n",
       "      <td>test</td>\n",
       "      <td>NaN</td>\n",
       "      <td>1993</td>\n",
       "      <td>manuell</td>\n",
       "      <td>0</td>\n",
       "      <td>golf</td>\n",
       "      <td>150000</td>\n",
       "      <td>0</td>\n",
       "      <td>benzin</td>\n",
       "      <td>volkswagen</td>\n",
       "      <td>NaN</td>\n",
       "      <td>2016-03-24 00:00:00</td>\n",
       "      <td>0</td>\n",
       "      <td>70435</td>\n",
       "      <td>2016-04-07 03:16:57</td>\n",
       "    </tr>\n",
       "    <tr>\n",
       "      <th>1</th>\n",
       "      <td>2016-03-24 10:58:45</td>\n",
       "      <td>A5_Sportback_2.7_Tdi</td>\n",
       "      <td>privat</td>\n",
       "      <td>Angebot</td>\n",
       "      <td>18300</td>\n",
       "      <td>test</td>\n",
       "      <td>coupe</td>\n",
       "      <td>2011</td>\n",
       "      <td>manuell</td>\n",
       "      <td>190</td>\n",
       "      <td>NaN</td>\n",
       "      <td>125000</td>\n",
       "      <td>5</td>\n",
       "      <td>diesel</td>\n",
       "      <td>audi</td>\n",
       "      <td>ja</td>\n",
       "      <td>2016-03-24 00:00:00</td>\n",
       "      <td>0</td>\n",
       "      <td>66954</td>\n",
       "      <td>2016-04-07 01:46:50</td>\n",
       "    </tr>\n",
       "    <tr>\n",
       "      <th>2</th>\n",
       "      <td>2016-03-14 12:52:21</td>\n",
       "      <td>Jeep_Grand_Cherokee_\"Overland\"</td>\n",
       "      <td>privat</td>\n",
       "      <td>Angebot</td>\n",
       "      <td>9800</td>\n",
       "      <td>test</td>\n",
       "      <td>suv</td>\n",
       "      <td>2004</td>\n",
       "      <td>automatik</td>\n",
       "      <td>163</td>\n",
       "      <td>grand</td>\n",
       "      <td>125000</td>\n",
       "      <td>8</td>\n",
       "      <td>diesel</td>\n",
       "      <td>jeep</td>\n",
       "      <td>NaN</td>\n",
       "      <td>2016-03-14 00:00:00</td>\n",
       "      <td>0</td>\n",
       "      <td>90480</td>\n",
       "      <td>2016-04-05 12:47:46</td>\n",
       "    </tr>\n",
       "    <tr>\n",
       "      <th>3</th>\n",
       "      <td>2016-03-17 16:54:04</td>\n",
       "      <td>GOLF_4_1_4__3TÜRER</td>\n",
       "      <td>privat</td>\n",
       "      <td>Angebot</td>\n",
       "      <td>1500</td>\n",
       "      <td>test</td>\n",
       "      <td>kleinwagen</td>\n",
       "      <td>2001</td>\n",
       "      <td>manuell</td>\n",
       "      <td>75</td>\n",
       "      <td>golf</td>\n",
       "      <td>150000</td>\n",
       "      <td>6</td>\n",
       "      <td>benzin</td>\n",
       "      <td>volkswagen</td>\n",
       "      <td>nein</td>\n",
       "      <td>2016-03-17 00:00:00</td>\n",
       "      <td>0</td>\n",
       "      <td>91074</td>\n",
       "      <td>2016-03-17 17:40:17</td>\n",
       "    </tr>\n",
       "    <tr>\n",
       "      <th>4</th>\n",
       "      <td>2016-03-31 17:25:20</td>\n",
       "      <td>Skoda_Fabia_1.4_TDI_PD_Classic</td>\n",
       "      <td>privat</td>\n",
       "      <td>Angebot</td>\n",
       "      <td>3600</td>\n",
       "      <td>test</td>\n",
       "      <td>kleinwagen</td>\n",
       "      <td>2008</td>\n",
       "      <td>manuell</td>\n",
       "      <td>69</td>\n",
       "      <td>fabia</td>\n",
       "      <td>90000</td>\n",
       "      <td>7</td>\n",
       "      <td>diesel</td>\n",
       "      <td>skoda</td>\n",
       "      <td>nein</td>\n",
       "      <td>2016-03-31 00:00:00</td>\n",
       "      <td>0</td>\n",
       "      <td>60437</td>\n",
       "      <td>2016-04-06 10:17:21</td>\n",
       "    </tr>\n",
       "    <tr>\n",
       "      <th>...</th>\n",
       "      <td>...</td>\n",
       "      <td>...</td>\n",
       "      <td>...</td>\n",
       "      <td>...</td>\n",
       "      <td>...</td>\n",
       "      <td>...</td>\n",
       "      <td>...</td>\n",
       "      <td>...</td>\n",
       "      <td>...</td>\n",
       "      <td>...</td>\n",
       "      <td>...</td>\n",
       "      <td>...</td>\n",
       "      <td>...</td>\n",
       "      <td>...</td>\n",
       "      <td>...</td>\n",
       "      <td>...</td>\n",
       "      <td>...</td>\n",
       "      <td>...</td>\n",
       "      <td>...</td>\n",
       "      <td>...</td>\n",
       "    </tr>\n",
       "    <tr>\n",
       "      <th>371523</th>\n",
       "      <td>2016-03-14 17:48:27</td>\n",
       "      <td>Suche_t4___vito_ab_6_sitze</td>\n",
       "      <td>privat</td>\n",
       "      <td>Angebot</td>\n",
       "      <td>2200</td>\n",
       "      <td>test</td>\n",
       "      <td>NaN</td>\n",
       "      <td>2005</td>\n",
       "      <td>NaN</td>\n",
       "      <td>0</td>\n",
       "      <td>NaN</td>\n",
       "      <td>20000</td>\n",
       "      <td>1</td>\n",
       "      <td>NaN</td>\n",
       "      <td>sonstige_autos</td>\n",
       "      <td>NaN</td>\n",
       "      <td>2016-03-14 00:00:00</td>\n",
       "      <td>0</td>\n",
       "      <td>39576</td>\n",
       "      <td>2016-04-06 00:46:52</td>\n",
       "    </tr>\n",
       "    <tr>\n",
       "      <th>371524</th>\n",
       "      <td>2016-03-05 19:56:21</td>\n",
       "      <td>Smart_smart_leistungssteigerung_100ps</td>\n",
       "      <td>privat</td>\n",
       "      <td>Angebot</td>\n",
       "      <td>1199</td>\n",
       "      <td>test</td>\n",
       "      <td>cabrio</td>\n",
       "      <td>2000</td>\n",
       "      <td>automatik</td>\n",
       "      <td>101</td>\n",
       "      <td>fortwo</td>\n",
       "      <td>125000</td>\n",
       "      <td>3</td>\n",
       "      <td>benzin</td>\n",
       "      <td>smart</td>\n",
       "      <td>nein</td>\n",
       "      <td>2016-03-05 00:00:00</td>\n",
       "      <td>0</td>\n",
       "      <td>26135</td>\n",
       "      <td>2016-03-11 18:17:12</td>\n",
       "    </tr>\n",
       "    <tr>\n",
       "      <th>371525</th>\n",
       "      <td>2016-03-19 18:57:12</td>\n",
       "      <td>Volkswagen_Multivan_T4_TDI_7DC_UY2</td>\n",
       "      <td>privat</td>\n",
       "      <td>Angebot</td>\n",
       "      <td>9200</td>\n",
       "      <td>test</td>\n",
       "      <td>bus</td>\n",
       "      <td>1996</td>\n",
       "      <td>manuell</td>\n",
       "      <td>102</td>\n",
       "      <td>transporter</td>\n",
       "      <td>150000</td>\n",
       "      <td>3</td>\n",
       "      <td>diesel</td>\n",
       "      <td>volkswagen</td>\n",
       "      <td>nein</td>\n",
       "      <td>2016-03-19 00:00:00</td>\n",
       "      <td>0</td>\n",
       "      <td>87439</td>\n",
       "      <td>2016-04-07 07:15:26</td>\n",
       "    </tr>\n",
       "    <tr>\n",
       "      <th>371526</th>\n",
       "      <td>2016-03-20 19:41:08</td>\n",
       "      <td>VW_Golf_Kombi_1_9l_TDI</td>\n",
       "      <td>privat</td>\n",
       "      <td>Angebot</td>\n",
       "      <td>3400</td>\n",
       "      <td>test</td>\n",
       "      <td>kombi</td>\n",
       "      <td>2002</td>\n",
       "      <td>manuell</td>\n",
       "      <td>100</td>\n",
       "      <td>golf</td>\n",
       "      <td>150000</td>\n",
       "      <td>6</td>\n",
       "      <td>diesel</td>\n",
       "      <td>volkswagen</td>\n",
       "      <td>NaN</td>\n",
       "      <td>2016-03-20 00:00:00</td>\n",
       "      <td>0</td>\n",
       "      <td>40764</td>\n",
       "      <td>2016-03-24 12:45:21</td>\n",
       "    </tr>\n",
       "    <tr>\n",
       "      <th>371527</th>\n",
       "      <td>2016-03-07 19:39:19</td>\n",
       "      <td>BMW_M135i_vollausgestattet_NP_52.720____Euro</td>\n",
       "      <td>privat</td>\n",
       "      <td>Angebot</td>\n",
       "      <td>28990</td>\n",
       "      <td>control</td>\n",
       "      <td>limousine</td>\n",
       "      <td>2013</td>\n",
       "      <td>manuell</td>\n",
       "      <td>320</td>\n",
       "      <td>m_reihe</td>\n",
       "      <td>50000</td>\n",
       "      <td>8</td>\n",
       "      <td>benzin</td>\n",
       "      <td>bmw</td>\n",
       "      <td>nein</td>\n",
       "      <td>2016-03-07 00:00:00</td>\n",
       "      <td>0</td>\n",
       "      <td>73326</td>\n",
       "      <td>2016-03-22 03:17:10</td>\n",
       "    </tr>\n",
       "  </tbody>\n",
       "</table>\n",
       "<p>371528 rows × 20 columns</p>\n",
       "</div>"
      ],
      "text/plain": [
       "                dateCrawled                                          name  \\\n",
       "0       2016-03-24 11:52:17                                    Golf_3_1.6   \n",
       "1       2016-03-24 10:58:45                          A5_Sportback_2.7_Tdi   \n",
       "2       2016-03-14 12:52:21                Jeep_Grand_Cherokee_\"Overland\"   \n",
       "3       2016-03-17 16:54:04                            GOLF_4_1_4__3TÜRER   \n",
       "4       2016-03-31 17:25:20                Skoda_Fabia_1.4_TDI_PD_Classic   \n",
       "...                     ...                                           ...   \n",
       "371523  2016-03-14 17:48:27                    Suche_t4___vito_ab_6_sitze   \n",
       "371524  2016-03-05 19:56:21         Smart_smart_leistungssteigerung_100ps   \n",
       "371525  2016-03-19 18:57:12            Volkswagen_Multivan_T4_TDI_7DC_UY2   \n",
       "371526  2016-03-20 19:41:08                        VW_Golf_Kombi_1_9l_TDI   \n",
       "371527  2016-03-07 19:39:19  BMW_M135i_vollausgestattet_NP_52.720____Euro   \n",
       "\n",
       "        seller offerType  price   abtest vehicleType  yearOfRegistration  \\\n",
       "0       privat   Angebot    480     test         NaN                1993   \n",
       "1       privat   Angebot  18300     test       coupe                2011   \n",
       "2       privat   Angebot   9800     test         suv                2004   \n",
       "3       privat   Angebot   1500     test  kleinwagen                2001   \n",
       "4       privat   Angebot   3600     test  kleinwagen                2008   \n",
       "...        ...       ...    ...      ...         ...                 ...   \n",
       "371523  privat   Angebot   2200     test         NaN                2005   \n",
       "371524  privat   Angebot   1199     test      cabrio                2000   \n",
       "371525  privat   Angebot   9200     test         bus                1996   \n",
       "371526  privat   Angebot   3400     test       kombi                2002   \n",
       "371527  privat   Angebot  28990  control   limousine                2013   \n",
       "\n",
       "          gearbox  powerPS        model  kilometer  monthOfRegistration  \\\n",
       "0         manuell        0         golf     150000                    0   \n",
       "1         manuell      190          NaN     125000                    5   \n",
       "2       automatik      163        grand     125000                    8   \n",
       "3         manuell       75         golf     150000                    6   \n",
       "4         manuell       69        fabia      90000                    7   \n",
       "...           ...      ...          ...        ...                  ...   \n",
       "371523        NaN        0          NaN      20000                    1   \n",
       "371524  automatik      101       fortwo     125000                    3   \n",
       "371525    manuell      102  transporter     150000                    3   \n",
       "371526    manuell      100         golf     150000                    6   \n",
       "371527    manuell      320      m_reihe      50000                    8   \n",
       "\n",
       "       fuelType           brand notRepairedDamage          dateCreated  \\\n",
       "0        benzin      volkswagen               NaN  2016-03-24 00:00:00   \n",
       "1        diesel            audi                ja  2016-03-24 00:00:00   \n",
       "2        diesel            jeep               NaN  2016-03-14 00:00:00   \n",
       "3        benzin      volkswagen              nein  2016-03-17 00:00:00   \n",
       "4        diesel           skoda              nein  2016-03-31 00:00:00   \n",
       "...         ...             ...               ...                  ...   \n",
       "371523      NaN  sonstige_autos               NaN  2016-03-14 00:00:00   \n",
       "371524   benzin           smart              nein  2016-03-05 00:00:00   \n",
       "371525   diesel      volkswagen              nein  2016-03-19 00:00:00   \n",
       "371526   diesel      volkswagen               NaN  2016-03-20 00:00:00   \n",
       "371527   benzin             bmw              nein  2016-03-07 00:00:00   \n",
       "\n",
       "        nrOfPictures  postalCode             lastSeen  \n",
       "0                  0       70435  2016-04-07 03:16:57  \n",
       "1                  0       66954  2016-04-07 01:46:50  \n",
       "2                  0       90480  2016-04-05 12:47:46  \n",
       "3                  0       91074  2016-03-17 17:40:17  \n",
       "4                  0       60437  2016-04-06 10:17:21  \n",
       "...              ...         ...                  ...  \n",
       "371523             0       39576  2016-04-06 00:46:52  \n",
       "371524             0       26135  2016-03-11 18:17:12  \n",
       "371525             0       87439  2016-04-07 07:15:26  \n",
       "371526             0       40764  2016-03-24 12:45:21  \n",
       "371527             0       73326  2016-03-22 03:17:10  \n",
       "\n",
       "[371528 rows x 20 columns]"
      ]
     },
     "execution_count": 2,
     "metadata": {},
     "output_type": "execute_result"
    }
   ],
   "source": [
    "df= pd.read_csv(r\"C:\\Users\\chand\\Downloads\\autos.csv\",encoding='unicode_escape')\n",
    "df"
   ]
  },
  {
   "cell_type": "code",
   "execution_count": 3,
   "id": "9cc2d0b4",
   "metadata": {},
   "outputs": [
    {
     "data": {
      "text/plain": [
       "Index(['dateCrawled', 'name', 'seller', 'offerType', 'price', 'abtest',\n",
       "       'vehicleType', 'yearOfRegistration', 'gearbox', 'powerPS', 'model',\n",
       "       'kilometer', 'monthOfRegistration', 'fuelType', 'brand',\n",
       "       'notRepairedDamage', 'dateCreated', 'nrOfPictures', 'postalCode',\n",
       "       'lastSeen'],\n",
       "      dtype='object')"
      ]
     },
     "execution_count": 3,
     "metadata": {},
     "output_type": "execute_result"
    }
   ],
   "source": [
    "df.columns"
   ]
  },
  {
   "cell_type": "markdown",
   "id": "b517a595",
   "metadata": {},
   "source": [
    "# missing values"
   ]
  },
  {
   "cell_type": "code",
   "execution_count": 4,
   "id": "92625179",
   "metadata": {},
   "outputs": [
    {
     "data": {
      "text/plain": [
       "dateCrawled                0\n",
       "name                       0\n",
       "seller                     0\n",
       "offerType                  0\n",
       "price                      0\n",
       "abtest                     0\n",
       "vehicleType            37869\n",
       "yearOfRegistration         0\n",
       "gearbox                20209\n",
       "powerPS                    0\n",
       "model                  20484\n",
       "kilometer                  0\n",
       "monthOfRegistration        0\n",
       "fuelType               33386\n",
       "brand                      0\n",
       "notRepairedDamage      72060\n",
       "dateCreated                0\n",
       "nrOfPictures               0\n",
       "postalCode                 0\n",
       "lastSeen                   0\n",
       "dtype: int64"
      ]
     },
     "execution_count": 4,
     "metadata": {},
     "output_type": "execute_result"
    }
   ],
   "source": [
    "df.isna().sum()"
   ]
  },
  {
   "cell_type": "code",
   "execution_count": 5,
   "id": "c1988055",
   "metadata": {},
   "outputs": [],
   "source": [
    "df.drop(['notRepairedDamage'] ,axis = 1 ,inplace = True)"
   ]
  },
  {
   "cell_type": "code",
   "execution_count": 6,
   "id": "ee31318f",
   "metadata": {},
   "outputs": [],
   "source": [
    "df.dropna(axis = 0 , inplace=True)"
   ]
  },
  {
   "cell_type": "code",
   "execution_count": null,
   "id": "6491b706",
   "metadata": {},
   "outputs": [],
   "source": []
  },
  {
   "cell_type": "code",
   "execution_count": null,
   "id": "5b54274c",
   "metadata": {},
   "outputs": [],
   "source": []
  },
  {
   "cell_type": "code",
   "execution_count": null,
   "id": "7c47a7e9",
   "metadata": {},
   "outputs": [],
   "source": []
  },
  {
   "cell_type": "code",
   "execution_count": null,
   "id": "cba67741",
   "metadata": {},
   "outputs": [],
   "source": []
  },
  {
   "cell_type": "code",
   "execution_count": null,
   "id": "91651e0f",
   "metadata": {},
   "outputs": [],
   "source": []
  },
  {
   "cell_type": "code",
   "execution_count": 7,
   "id": "6ec221e1",
   "metadata": {},
   "outputs": [
    {
     "data": {
      "text/plain": [
       "dateCrawled            0\n",
       "name                   0\n",
       "seller                 0\n",
       "offerType              0\n",
       "price                  0\n",
       "abtest                 0\n",
       "vehicleType            0\n",
       "yearOfRegistration     0\n",
       "gearbox                0\n",
       "powerPS                0\n",
       "model                  0\n",
       "kilometer              0\n",
       "monthOfRegistration    0\n",
       "fuelType               0\n",
       "brand                  0\n",
       "dateCreated            0\n",
       "nrOfPictures           0\n",
       "postalCode             0\n",
       "lastSeen               0\n",
       "dtype: int64"
      ]
     },
     "execution_count": 7,
     "metadata": {},
     "output_type": "execute_result"
    }
   ],
   "source": [
    "df.isna().sum()"
   ]
  },
  {
   "cell_type": "code",
   "execution_count": 8,
   "id": "d1f35f14",
   "metadata": {},
   "outputs": [
    {
     "data": {
      "text/plain": [
       "dateCrawled            object\n",
       "name                   object\n",
       "seller                 object\n",
       "offerType              object\n",
       "price                   int64\n",
       "abtest                 object\n",
       "vehicleType            object\n",
       "yearOfRegistration      int64\n",
       "gearbox                object\n",
       "powerPS                 int64\n",
       "model                  object\n",
       "kilometer               int64\n",
       "monthOfRegistration     int64\n",
       "fuelType               object\n",
       "brand                  object\n",
       "dateCreated            object\n",
       "nrOfPictures            int64\n",
       "postalCode              int64\n",
       "lastSeen               object\n",
       "dtype: object"
      ]
     },
     "execution_count": 8,
     "metadata": {},
     "output_type": "execute_result"
    }
   ],
   "source": [
    "df.dtypes"
   ]
  },
  {
   "cell_type": "code",
   "execution_count": 9,
   "id": "00b0bf0a",
   "metadata": {},
   "outputs": [
    {
     "data": {
      "text/plain": [
       "array(['2016-04-05 12:47:46', '2016-03-17 17:40:17',\n",
       "       '2016-04-06 10:17:21', ..., '2016-04-02 18:16:20',\n",
       "       '2016-03-19 20:44:43', '2016-03-29 10:17:23'], dtype=object)"
      ]
     },
     "execution_count": 9,
     "metadata": {},
     "output_type": "execute_result"
    }
   ],
   "source": [
    "df['lastSeen'].unique()"
   ]
  },
  {
   "cell_type": "code",
   "execution_count": 10,
   "id": "e3b20222",
   "metadata": {},
   "outputs": [
    {
     "data": {
      "text/plain": [
       "array(['2016-03-14 00:00:00', '2016-03-17 00:00:00',\n",
       "       '2016-03-31 00:00:00', '2016-04-04 00:00:00',\n",
       "       '2016-04-01 00:00:00', '2016-03-21 00:00:00',\n",
       "       '2016-03-26 00:00:00', '2016-04-07 00:00:00',\n",
       "       '2016-03-15 00:00:00', '2016-03-20 00:00:00',\n",
       "       '2016-03-23 00:00:00', '2016-03-27 00:00:00',\n",
       "       '2016-03-12 00:00:00', '2016-03-13 00:00:00',\n",
       "       '2016-03-18 00:00:00', '2016-03-07 00:00:00',\n",
       "       '2016-03-09 00:00:00', '2016-03-08 00:00:00',\n",
       "       '2016-04-03 00:00:00', '2016-03-25 00:00:00',\n",
       "       '2016-03-29 00:00:00', '2016-03-30 00:00:00',\n",
       "       '2016-03-22 00:00:00', '2016-02-09 00:00:00',\n",
       "       '2016-03-05 00:00:00', '2016-03-11 00:00:00',\n",
       "       '2016-03-10 00:00:00', '2016-03-28 00:00:00',\n",
       "       '2016-04-02 00:00:00', '2016-03-16 00:00:00',\n",
       "       '2016-03-24 00:00:00', '2016-04-05 00:00:00',\n",
       "       '2016-03-19 00:00:00', '2016-03-06 00:00:00',\n",
       "       '2016-03-03 00:00:00', '2016-03-01 00:00:00',\n",
       "       '2016-03-04 00:00:00', '2016-04-06 00:00:00',\n",
       "       '2016-02-15 00:00:00', '2016-01-14 00:00:00',\n",
       "       '2016-02-24 00:00:00', '2016-02-27 00:00:00',\n",
       "       '2015-03-20 00:00:00', '2016-02-28 00:00:00',\n",
       "       '2016-02-20 00:00:00', '2015-06-11 00:00:00',\n",
       "       '2016-02-29 00:00:00', '2016-02-10 00:00:00',\n",
       "       '2016-02-23 00:00:00', '2016-02-21 00:00:00',\n",
       "       '2016-01-19 00:00:00', '2015-11-02 00:00:00',\n",
       "       '2016-02-19 00:00:00', '2016-02-26 00:00:00',\n",
       "       '2016-02-11 00:00:00', '2016-01-10 00:00:00',\n",
       "       '2016-02-06 00:00:00', '2016-02-18 00:00:00',\n",
       "       '2016-03-02 00:00:00', '2015-12-06 00:00:00',\n",
       "       '2016-01-24 00:00:00', '2016-01-30 00:00:00',\n",
       "       '2016-01-28 00:00:00', '2016-02-02 00:00:00',\n",
       "       '2016-02-12 00:00:00', '2016-02-13 00:00:00',\n",
       "       '2016-02-05 00:00:00', '2016-02-22 00:00:00',\n",
       "       '2015-11-17 00:00:00', '2016-02-07 00:00:00',\n",
       "       '2016-02-25 00:00:00', '2016-02-14 00:00:00',\n",
       "       '2016-01-27 00:00:00', '2016-01-02 00:00:00',\n",
       "       '2015-09-04 00:00:00', '2015-11-12 00:00:00',\n",
       "       '2015-12-27 00:00:00', '2016-02-17 00:00:00',\n",
       "       '2015-11-24 00:00:00', '2016-01-20 00:00:00',\n",
       "       '2016-02-03 00:00:00', '2015-12-05 00:00:00',\n",
       "       '2015-08-07 00:00:00', '2016-02-16 00:00:00',\n",
       "       '2015-11-13 00:00:00', '2016-02-08 00:00:00',\n",
       "       '2016-01-29 00:00:00', '2016-01-07 00:00:00',\n",
       "       '2016-01-31 00:00:00', '2016-01-18 00:00:00',\n",
       "       '2016-01-08 00:00:00', '2016-01-13 00:00:00',\n",
       "       '2016-01-17 00:00:00', '2016-01-15 00:00:00',\n",
       "       '2015-11-08 00:00:00', '2016-01-26 00:00:00',\n",
       "       '2016-02-04 00:00:00', '2015-10-14 00:00:00',\n",
       "       '2016-01-25 00:00:00', '2015-08-10 00:00:00',\n",
       "       '2015-12-28 00:00:00', '2015-12-30 00:00:00',\n",
       "       '2016-01-23 00:00:00', '2016-02-01 00:00:00',\n",
       "       '2015-12-17 00:00:00', '2015-11-10 00:00:00',\n",
       "       '2015-11-23 00:00:00', '2016-01-06 00:00:00',\n",
       "       '2015-09-09 00:00:00'], dtype=object)"
      ]
     },
     "execution_count": 10,
     "metadata": {},
     "output_type": "execute_result"
    }
   ],
   "source": [
    "df['dateCreated'].unique()"
   ]
  },
  {
   "cell_type": "code",
   "execution_count": 11,
   "id": "694027de",
   "metadata": {},
   "outputs": [],
   "source": [
    "df['lastSeen']= df['lastSeen'].astype('datetime64[ns]')"
   ]
  },
  {
   "cell_type": "code",
   "execution_count": 12,
   "id": "4aca504e",
   "metadata": {},
   "outputs": [
    {
     "data": {
      "text/plain": [
       "dateCrawled                    object\n",
       "name                           object\n",
       "seller                         object\n",
       "offerType                      object\n",
       "price                           int64\n",
       "abtest                         object\n",
       "vehicleType                    object\n",
       "yearOfRegistration              int64\n",
       "gearbox                        object\n",
       "powerPS                         int64\n",
       "model                          object\n",
       "kilometer                       int64\n",
       "monthOfRegistration             int64\n",
       "fuelType                       object\n",
       "brand                          object\n",
       "dateCreated                    object\n",
       "nrOfPictures                    int64\n",
       "postalCode                      int64\n",
       "lastSeen               datetime64[ns]\n",
       "dtype: object"
      ]
     },
     "execution_count": 12,
     "metadata": {},
     "output_type": "execute_result"
    }
   ],
   "source": [
    "df.dtypes"
   ]
  },
  {
   "cell_type": "code",
   "execution_count": 13,
   "id": "b9a4d47d",
   "metadata": {},
   "outputs": [],
   "source": [
    "df['dateCreated'] = df['dateCreated'].astype('datetime64[ns]')"
   ]
  },
  {
   "cell_type": "code",
   "execution_count": 14,
   "id": "3813f976",
   "metadata": {},
   "outputs": [
    {
     "data": {
      "text/plain": [
       "dtype('<M8[ns]')"
      ]
     },
     "execution_count": 14,
     "metadata": {},
     "output_type": "execute_result"
    }
   ],
   "source": [
    "df['dateCreated'].dtype"
   ]
  },
  {
   "cell_type": "code",
   "execution_count": 15,
   "id": "6b74f38c",
   "metadata": {},
   "outputs": [],
   "source": [
    "df['dateCrawled'] = df['dateCrawled'].astype('datetime64[ns]')"
   ]
  },
  {
   "cell_type": "code",
   "execution_count": 16,
   "id": "ff78c3bc",
   "metadata": {},
   "outputs": [
    {
     "data": {
      "text/plain": [
       "dtype('<M8[ns]')"
      ]
     },
     "execution_count": 16,
     "metadata": {},
     "output_type": "execute_result"
    }
   ],
   "source": [
    "df['dateCrawled'].dtype"
   ]
  },
  {
   "cell_type": "code",
   "execution_count": null,
   "id": "5cee8f9c",
   "metadata": {},
   "outputs": [],
   "source": []
  },
  {
   "cell_type": "code",
   "execution_count": 17,
   "id": "eb1be567",
   "metadata": {},
   "outputs": [
    {
     "data": {
      "text/plain": [
       "dateCrawled            0\n",
       "name                   0\n",
       "seller                 0\n",
       "offerType              0\n",
       "price                  0\n",
       "abtest                 0\n",
       "vehicleType            0\n",
       "yearOfRegistration     0\n",
       "gearbox                0\n",
       "powerPS                0\n",
       "model                  0\n",
       "kilometer              0\n",
       "monthOfRegistration    0\n",
       "fuelType               0\n",
       "brand                  0\n",
       "dateCreated            0\n",
       "nrOfPictures           0\n",
       "postalCode             0\n",
       "lastSeen               0\n",
       "dtype: int64"
      ]
     },
     "execution_count": 17,
     "metadata": {},
     "output_type": "execute_result"
    }
   ],
   "source": [
    "df.isna().sum()"
   ]
  },
  {
   "cell_type": "code",
   "execution_count": 18,
   "id": "1c77b502",
   "metadata": {},
   "outputs": [
    {
     "name": "stdout",
     "output_type": "stream",
     "text": [
      "<class 'pandas.core.frame.DataFrame'>\n",
      "Index: 299864 entries, 2 to 371527\n",
      "Data columns (total 19 columns):\n",
      " #   Column               Non-Null Count   Dtype         \n",
      "---  ------               --------------   -----         \n",
      " 0   dateCrawled          299864 non-null  datetime64[ns]\n",
      " 1   name                 299864 non-null  object        \n",
      " 2   seller               299864 non-null  object        \n",
      " 3   offerType            299864 non-null  object        \n",
      " 4   price                299864 non-null  int64         \n",
      " 5   abtest               299864 non-null  object        \n",
      " 6   vehicleType          299864 non-null  object        \n",
      " 7   yearOfRegistration   299864 non-null  int64         \n",
      " 8   gearbox              299864 non-null  object        \n",
      " 9   powerPS              299864 non-null  int64         \n",
      " 10  model                299864 non-null  object        \n",
      " 11  kilometer            299864 non-null  int64         \n",
      " 12  monthOfRegistration  299864 non-null  int64         \n",
      " 13  fuelType             299864 non-null  object        \n",
      " 14  brand                299864 non-null  object        \n",
      " 15  dateCreated          299864 non-null  datetime64[ns]\n",
      " 16  nrOfPictures         299864 non-null  int64         \n",
      " 17  postalCode           299864 non-null  int64         \n",
      " 18  lastSeen             299864 non-null  datetime64[ns]\n",
      "dtypes: datetime64[ns](3), int64(7), object(9)\n",
      "memory usage: 45.8+ MB\n"
     ]
    }
   ],
   "source": [
    "df.info()"
   ]
  },
  {
   "cell_type": "code",
   "execution_count": 19,
   "id": "e059e596",
   "metadata": {},
   "outputs": [
    {
     "data": {
      "text/plain": [
       "(299864, 19)"
      ]
     },
     "execution_count": 19,
     "metadata": {},
     "output_type": "execute_result"
    }
   ],
   "source": [
    "df.shape"
   ]
  },
  {
   "cell_type": "code",
   "execution_count": 20,
   "id": "fbad88d6",
   "metadata": {},
   "outputs": [
    {
     "data": {
      "text/html": [
       "<div>\n",
       "<style scoped>\n",
       "    .dataframe tbody tr th:only-of-type {\n",
       "        vertical-align: middle;\n",
       "    }\n",
       "\n",
       "    .dataframe tbody tr th {\n",
       "        vertical-align: top;\n",
       "    }\n",
       "\n",
       "    .dataframe thead th {\n",
       "        text-align: right;\n",
       "    }\n",
       "</style>\n",
       "<table border=\"1\" class=\"dataframe\">\n",
       "  <thead>\n",
       "    <tr style=\"text-align: right;\">\n",
       "      <th></th>\n",
       "      <th>dateCrawled</th>\n",
       "      <th>price</th>\n",
       "      <th>yearOfRegistration</th>\n",
       "      <th>powerPS</th>\n",
       "      <th>kilometer</th>\n",
       "      <th>monthOfRegistration</th>\n",
       "      <th>dateCreated</th>\n",
       "      <th>nrOfPictures</th>\n",
       "      <th>postalCode</th>\n",
       "      <th>lastSeen</th>\n",
       "    </tr>\n",
       "  </thead>\n",
       "  <tbody>\n",
       "    <tr>\n",
       "      <th>count</th>\n",
       "      <td>299864</td>\n",
       "      <td>2.998640e+05</td>\n",
       "      <td>299864.000000</td>\n",
       "      <td>299864.000000</td>\n",
       "      <td>299864.000000</td>\n",
       "      <td>299864.000000</td>\n",
       "      <td>299864</td>\n",
       "      <td>299864.0</td>\n",
       "      <td>299864.000000</td>\n",
       "      <td>299864</td>\n",
       "    </tr>\n",
       "    <tr>\n",
       "      <th>mean</th>\n",
       "      <td>2016-03-21 14:10:43.281264384</td>\n",
       "      <td>8.537011e+03</td>\n",
       "      <td>2002.934464</td>\n",
       "      <td>123.536687</td>\n",
       "      <td>125309.406931</td>\n",
       "      <td>6.079196</td>\n",
       "      <td>2016-03-20 20:19:36.533361664</td>\n",
       "      <td>0.0</td>\n",
       "      <td>51427.612781</td>\n",
       "      <td>2016-03-30 09:23:17.352563200</td>\n",
       "    </tr>\n",
       "    <tr>\n",
       "      <th>min</th>\n",
       "      <td>2016-03-05 14:06:22</td>\n",
       "      <td>0.000000e+00</td>\n",
       "      <td>1910.000000</td>\n",
       "      <td>0.000000</td>\n",
       "      <td>5000.000000</td>\n",
       "      <td>0.000000</td>\n",
       "      <td>2015-03-20 00:00:00</td>\n",
       "      <td>0.0</td>\n",
       "      <td>1067.000000</td>\n",
       "      <td>2016-03-05 14:15:16</td>\n",
       "    </tr>\n",
       "    <tr>\n",
       "      <th>25%</th>\n",
       "      <td>2016-03-13 13:37:21.750000128</td>\n",
       "      <td>1.400000e+03</td>\n",
       "      <td>1999.000000</td>\n",
       "      <td>75.000000</td>\n",
       "      <td>100000.000000</td>\n",
       "      <td>3.000000</td>\n",
       "      <td>2016-03-13 00:00:00</td>\n",
       "      <td>0.0</td>\n",
       "      <td>31008.000000</td>\n",
       "      <td>2016-03-23 20:15:26</td>\n",
       "    </tr>\n",
       "    <tr>\n",
       "      <th>50%</th>\n",
       "      <td>2016-03-21 18:51:30.500000</td>\n",
       "      <td>3.500000e+03</td>\n",
       "      <td>2003.000000</td>\n",
       "      <td>114.000000</td>\n",
       "      <td>150000.000000</td>\n",
       "      <td>6.000000</td>\n",
       "      <td>2016-03-21 00:00:00</td>\n",
       "      <td>0.0</td>\n",
       "      <td>50672.000000</td>\n",
       "      <td>2016-04-04 14:16:55</td>\n",
       "    </tr>\n",
       "    <tr>\n",
       "      <th>75%</th>\n",
       "      <td>2016-03-29 15:47:59.500000</td>\n",
       "      <td>7.999000e+03</td>\n",
       "      <td>2007.000000</td>\n",
       "      <td>150.000000</td>\n",
       "      <td>150000.000000</td>\n",
       "      <td>9.000000</td>\n",
       "      <td>2016-03-29 00:00:00</td>\n",
       "      <td>0.0</td>\n",
       "      <td>72351.000000</td>\n",
       "      <td>2016-04-06 11:44:41</td>\n",
       "    </tr>\n",
       "    <tr>\n",
       "      <th>max</th>\n",
       "      <td>2016-04-07 14:36:58</td>\n",
       "      <td>1.000000e+08</td>\n",
       "      <td>2018.000000</td>\n",
       "      <td>20000.000000</td>\n",
       "      <td>150000.000000</td>\n",
       "      <td>12.000000</td>\n",
       "      <td>2016-04-07 00:00:00</td>\n",
       "      <td>0.0</td>\n",
       "      <td>99998.000000</td>\n",
       "      <td>2016-04-07 14:58:51</td>\n",
       "    </tr>\n",
       "    <tr>\n",
       "      <th>std</th>\n",
       "      <td>NaN</td>\n",
       "      <td>4.196486e+05</td>\n",
       "      <td>6.579942</td>\n",
       "      <td>172.038444</td>\n",
       "      <td>39346.956439</td>\n",
       "      <td>3.537965</td>\n",
       "      <td>NaN</td>\n",
       "      <td>0.0</td>\n",
       "      <td>25787.854955</td>\n",
       "      <td>NaN</td>\n",
       "    </tr>\n",
       "  </tbody>\n",
       "</table>\n",
       "</div>"
      ],
      "text/plain": [
       "                         dateCrawled         price  yearOfRegistration  \\\n",
       "count                         299864  2.998640e+05       299864.000000   \n",
       "mean   2016-03-21 14:10:43.281264384  8.537011e+03         2002.934464   \n",
       "min              2016-03-05 14:06:22  0.000000e+00         1910.000000   \n",
       "25%    2016-03-13 13:37:21.750000128  1.400000e+03         1999.000000   \n",
       "50%       2016-03-21 18:51:30.500000  3.500000e+03         2003.000000   \n",
       "75%       2016-03-29 15:47:59.500000  7.999000e+03         2007.000000   \n",
       "max              2016-04-07 14:36:58  1.000000e+08         2018.000000   \n",
       "std                              NaN  4.196486e+05            6.579942   \n",
       "\n",
       "             powerPS      kilometer  monthOfRegistration  \\\n",
       "count  299864.000000  299864.000000        299864.000000   \n",
       "mean      123.536687  125309.406931             6.079196   \n",
       "min         0.000000    5000.000000             0.000000   \n",
       "25%        75.000000  100000.000000             3.000000   \n",
       "50%       114.000000  150000.000000             6.000000   \n",
       "75%       150.000000  150000.000000             9.000000   \n",
       "max     20000.000000  150000.000000            12.000000   \n",
       "std       172.038444   39346.956439             3.537965   \n",
       "\n",
       "                         dateCreated  nrOfPictures     postalCode  \\\n",
       "count                         299864      299864.0  299864.000000   \n",
       "mean   2016-03-20 20:19:36.533361664           0.0   51427.612781   \n",
       "min              2015-03-20 00:00:00           0.0    1067.000000   \n",
       "25%              2016-03-13 00:00:00           0.0   31008.000000   \n",
       "50%              2016-03-21 00:00:00           0.0   50672.000000   \n",
       "75%              2016-03-29 00:00:00           0.0   72351.000000   \n",
       "max              2016-04-07 00:00:00           0.0   99998.000000   \n",
       "std                              NaN           0.0   25787.854955   \n",
       "\n",
       "                            lastSeen  \n",
       "count                         299864  \n",
       "mean   2016-03-30 09:23:17.352563200  \n",
       "min              2016-03-05 14:15:16  \n",
       "25%              2016-03-23 20:15:26  \n",
       "50%              2016-04-04 14:16:55  \n",
       "75%              2016-04-06 11:44:41  \n",
       "max              2016-04-07 14:58:51  \n",
       "std                              NaN  "
      ]
     },
     "execution_count": 20,
     "metadata": {},
     "output_type": "execute_result"
    }
   ],
   "source": [
    "df.describe()"
   ]
  },
  {
   "cell_type": "code",
   "execution_count": 21,
   "id": "fac8ef26",
   "metadata": {},
   "outputs": [
    {
     "data": {
      "text/plain": [
       "4"
      ]
     },
     "execution_count": 21,
     "metadata": {},
     "output_type": "execute_result"
    }
   ],
   "source": [
    "df.duplicated().sum()"
   ]
  },
  {
   "cell_type": "code",
   "execution_count": 22,
   "id": "88a1c73e",
   "metadata": {},
   "outputs": [],
   "source": [
    "df.drop_duplicates(inplace = True)"
   ]
  },
  {
   "cell_type": "code",
   "execution_count": 23,
   "id": "aacac32b",
   "metadata": {},
   "outputs": [
    {
     "data": {
      "text/plain": [
       "0"
      ]
     },
     "execution_count": 23,
     "metadata": {},
     "output_type": "execute_result"
    }
   ],
   "source": [
    "df.duplicated().sum()"
   ]
  },
  {
   "cell_type": "markdown",
   "id": "7f5e7b9b",
   "metadata": {},
   "source": [
    "# structural errors"
   ]
  },
  {
   "cell_type": "code",
   "execution_count": 24,
   "id": "3b601776",
   "metadata": {},
   "outputs": [
    {
     "data": {
      "text/plain": [
       "array([ 8,  6,  7, 10, 12, 11,  3,  2,  1,  4,  5,  9,  0], dtype=int64)"
      ]
     },
     "execution_count": 24,
     "metadata": {},
     "output_type": "execute_result"
    }
   ],
   "source": [
    "df['monthOfRegistration'].unique()"
   ]
  },
  {
   "cell_type": "code",
   "execution_count": 25,
   "id": "e4c7104c",
   "metadata": {},
   "outputs": [],
   "source": [
    "df['monthOfRegistration'] = df['monthOfRegistration'].replace(0,df['monthOfRegistration'].mode()[0])"
   ]
  },
  {
   "cell_type": "code",
   "execution_count": 26,
   "id": "e823de47",
   "metadata": {},
   "outputs": [
    {
     "data": {
      "text/plain": [
       "3"
      ]
     },
     "execution_count": 26,
     "metadata": {},
     "output_type": "execute_result"
    }
   ],
   "source": [
    " df['monthOfRegistration'].mode()[0]\n"
   ]
  },
  {
   "cell_type": "code",
   "execution_count": 27,
   "id": "5fb23d3e",
   "metadata": {},
   "outputs": [],
   "source": [
    "df[\"dateCrawled\"] = (df['dateCrawled']).dt.date"
   ]
  },
  {
   "cell_type": "code",
   "execution_count": 28,
   "id": "b043c27c",
   "metadata": {},
   "outputs": [
    {
     "data": {
      "text/plain": [
       "2         2016-03-14\n",
       "3         2016-03-17\n",
       "4         2016-03-31\n",
       "5         2016-04-04\n",
       "6         2016-04-01\n",
       "             ...    \n",
       "371521    2016-03-27\n",
       "371524    2016-03-05\n",
       "371525    2016-03-19\n",
       "371526    2016-03-20\n",
       "371527    2016-03-07\n",
       "Name: dateCrawled, Length: 299860, dtype: object"
      ]
     },
     "execution_count": 28,
     "metadata": {},
     "output_type": "execute_result"
    }
   ],
   "source": [
    "df['dateCrawled']"
   ]
  },
  {
   "cell_type": "code",
   "execution_count": 29,
   "id": "d514bf54",
   "metadata": {},
   "outputs": [],
   "source": [
    "yr = df[(df['yearOfRegistration'] < 1900) | (df['yearOfRegistration'] >2023)]\n",
    "df.drop(yr.index, inplace = True)"
   ]
  },
  {
   "cell_type": "code",
   "execution_count": 30,
   "id": "1b5dd7ad",
   "metadata": {},
   "outputs": [],
   "source": [
    "ps = df[(df['powerPS'] < 1) | (df['powerPS'] >2400)]\n",
    "df.replace(df['powerPS'].median(), inplace = True)"
   ]
  },
  {
   "cell_type": "code",
   "execution_count": 31,
   "id": "82524913",
   "metadata": {},
   "outputs": [],
   "source": [
    "p = df[(df['price'] < 500) | (df['price'] >40000000) | (df['price']== 0)]\n",
    "df.drop(p.index, inplace = True)"
   ]
  },
  {
   "cell_type": "code",
   "execution_count": 32,
   "id": "cd573779",
   "metadata": {},
   "outputs": [
    {
     "data": {
      "text/html": [
       "<div>\n",
       "<style scoped>\n",
       "    .dataframe tbody tr th:only-of-type {\n",
       "        vertical-align: middle;\n",
       "    }\n",
       "\n",
       "    .dataframe tbody tr th {\n",
       "        vertical-align: top;\n",
       "    }\n",
       "\n",
       "    .dataframe thead th {\n",
       "        text-align: right;\n",
       "    }\n",
       "</style>\n",
       "<table border=\"1\" class=\"dataframe\">\n",
       "  <thead>\n",
       "    <tr style=\"text-align: right;\">\n",
       "      <th></th>\n",
       "      <th>dateCrawled</th>\n",
       "      <th>name</th>\n",
       "      <th>seller</th>\n",
       "      <th>offerType</th>\n",
       "      <th>price</th>\n",
       "      <th>abtest</th>\n",
       "      <th>vehicleType</th>\n",
       "      <th>yearOfRegistration</th>\n",
       "      <th>gearbox</th>\n",
       "      <th>powerPS</th>\n",
       "      <th>model</th>\n",
       "      <th>kilometer</th>\n",
       "      <th>monthOfRegistration</th>\n",
       "      <th>fuelType</th>\n",
       "      <th>brand</th>\n",
       "      <th>dateCreated</th>\n",
       "      <th>nrOfPictures</th>\n",
       "      <th>postalCode</th>\n",
       "      <th>lastSeen</th>\n",
       "    </tr>\n",
       "  </thead>\n",
       "  <tbody>\n",
       "    <tr>\n",
       "      <th>2</th>\n",
       "      <td>2016-03-14</td>\n",
       "      <td>Jeep_Grand_Cherokee_\"Overland\"</td>\n",
       "      <td>privat</td>\n",
       "      <td>Angebot</td>\n",
       "      <td>9800</td>\n",
       "      <td>test</td>\n",
       "      <td>suv</td>\n",
       "      <td>2004</td>\n",
       "      <td>automatik</td>\n",
       "      <td>163</td>\n",
       "      <td>grand</td>\n",
       "      <td>125000</td>\n",
       "      <td>8</td>\n",
       "      <td>diesel</td>\n",
       "      <td>jeep</td>\n",
       "      <td>2016-03-14</td>\n",
       "      <td>0</td>\n",
       "      <td>90480</td>\n",
       "      <td>2016-04-05 12:47:46</td>\n",
       "    </tr>\n",
       "    <tr>\n",
       "      <th>3</th>\n",
       "      <td>2016-03-17</td>\n",
       "      <td>GOLF_4_1_4__3TÜRER</td>\n",
       "      <td>privat</td>\n",
       "      <td>Angebot</td>\n",
       "      <td>1500</td>\n",
       "      <td>test</td>\n",
       "      <td>kleinwagen</td>\n",
       "      <td>2001</td>\n",
       "      <td>manuell</td>\n",
       "      <td>75</td>\n",
       "      <td>golf</td>\n",
       "      <td>150000</td>\n",
       "      <td>6</td>\n",
       "      <td>benzin</td>\n",
       "      <td>volkswagen</td>\n",
       "      <td>2016-03-17</td>\n",
       "      <td>0</td>\n",
       "      <td>91074</td>\n",
       "      <td>2016-03-17 17:40:17</td>\n",
       "    </tr>\n",
       "    <tr>\n",
       "      <th>4</th>\n",
       "      <td>2016-03-31</td>\n",
       "      <td>Skoda_Fabia_1.4_TDI_PD_Classic</td>\n",
       "      <td>privat</td>\n",
       "      <td>Angebot</td>\n",
       "      <td>3600</td>\n",
       "      <td>test</td>\n",
       "      <td>kleinwagen</td>\n",
       "      <td>2008</td>\n",
       "      <td>manuell</td>\n",
       "      <td>69</td>\n",
       "      <td>fabia</td>\n",
       "      <td>90000</td>\n",
       "      <td>7</td>\n",
       "      <td>diesel</td>\n",
       "      <td>skoda</td>\n",
       "      <td>2016-03-31</td>\n",
       "      <td>0</td>\n",
       "      <td>60437</td>\n",
       "      <td>2016-04-06 10:17:21</td>\n",
       "    </tr>\n",
       "    <tr>\n",
       "      <th>5</th>\n",
       "      <td>2016-04-04</td>\n",
       "      <td>BMW_316i___e36_Limousine___Bastlerfahrzeug__Ex...</td>\n",
       "      <td>privat</td>\n",
       "      <td>Angebot</td>\n",
       "      <td>650</td>\n",
       "      <td>test</td>\n",
       "      <td>limousine</td>\n",
       "      <td>1995</td>\n",
       "      <td>manuell</td>\n",
       "      <td>102</td>\n",
       "      <td>3er</td>\n",
       "      <td>150000</td>\n",
       "      <td>10</td>\n",
       "      <td>benzin</td>\n",
       "      <td>bmw</td>\n",
       "      <td>2016-04-04</td>\n",
       "      <td>0</td>\n",
       "      <td>33775</td>\n",
       "      <td>2016-04-06 19:17:07</td>\n",
       "    </tr>\n",
       "    <tr>\n",
       "      <th>6</th>\n",
       "      <td>2016-04-01</td>\n",
       "      <td>Peugeot_206_CC_110_Platinum</td>\n",
       "      <td>privat</td>\n",
       "      <td>Angebot</td>\n",
       "      <td>2200</td>\n",
       "      <td>test</td>\n",
       "      <td>cabrio</td>\n",
       "      <td>2004</td>\n",
       "      <td>manuell</td>\n",
       "      <td>109</td>\n",
       "      <td>2_reihe</td>\n",
       "      <td>150000</td>\n",
       "      <td>8</td>\n",
       "      <td>benzin</td>\n",
       "      <td>peugeot</td>\n",
       "      <td>2016-04-01</td>\n",
       "      <td>0</td>\n",
       "      <td>67112</td>\n",
       "      <td>2016-04-05 18:18:39</td>\n",
       "    </tr>\n",
       "    <tr>\n",
       "      <th>...</th>\n",
       "      <td>...</td>\n",
       "      <td>...</td>\n",
       "      <td>...</td>\n",
       "      <td>...</td>\n",
       "      <td>...</td>\n",
       "      <td>...</td>\n",
       "      <td>...</td>\n",
       "      <td>...</td>\n",
       "      <td>...</td>\n",
       "      <td>...</td>\n",
       "      <td>...</td>\n",
       "      <td>...</td>\n",
       "      <td>...</td>\n",
       "      <td>...</td>\n",
       "      <td>...</td>\n",
       "      <td>...</td>\n",
       "      <td>...</td>\n",
       "      <td>...</td>\n",
       "      <td>...</td>\n",
       "    </tr>\n",
       "    <tr>\n",
       "      <th>371521</th>\n",
       "      <td>2016-03-27</td>\n",
       "      <td>Opel_Zafira_1.6_Elegance_TÜV_12/16</td>\n",
       "      <td>privat</td>\n",
       "      <td>Angebot</td>\n",
       "      <td>1150</td>\n",
       "      <td>control</td>\n",
       "      <td>bus</td>\n",
       "      <td>2000</td>\n",
       "      <td>manuell</td>\n",
       "      <td>0</td>\n",
       "      <td>zafira</td>\n",
       "      <td>150000</td>\n",
       "      <td>3</td>\n",
       "      <td>benzin</td>\n",
       "      <td>opel</td>\n",
       "      <td>2016-03-27</td>\n",
       "      <td>0</td>\n",
       "      <td>26624</td>\n",
       "      <td>2016-03-29 10:17:23</td>\n",
       "    </tr>\n",
       "    <tr>\n",
       "      <th>371524</th>\n",
       "      <td>2016-03-05</td>\n",
       "      <td>Smart_smart_leistungssteigerung_100ps</td>\n",
       "      <td>privat</td>\n",
       "      <td>Angebot</td>\n",
       "      <td>1199</td>\n",
       "      <td>test</td>\n",
       "      <td>cabrio</td>\n",
       "      <td>2000</td>\n",
       "      <td>automatik</td>\n",
       "      <td>101</td>\n",
       "      <td>fortwo</td>\n",
       "      <td>125000</td>\n",
       "      <td>3</td>\n",
       "      <td>benzin</td>\n",
       "      <td>smart</td>\n",
       "      <td>2016-03-05</td>\n",
       "      <td>0</td>\n",
       "      <td>26135</td>\n",
       "      <td>2016-03-11 18:17:12</td>\n",
       "    </tr>\n",
       "    <tr>\n",
       "      <th>371525</th>\n",
       "      <td>2016-03-19</td>\n",
       "      <td>Volkswagen_Multivan_T4_TDI_7DC_UY2</td>\n",
       "      <td>privat</td>\n",
       "      <td>Angebot</td>\n",
       "      <td>9200</td>\n",
       "      <td>test</td>\n",
       "      <td>bus</td>\n",
       "      <td>1996</td>\n",
       "      <td>manuell</td>\n",
       "      <td>102</td>\n",
       "      <td>transporter</td>\n",
       "      <td>150000</td>\n",
       "      <td>3</td>\n",
       "      <td>diesel</td>\n",
       "      <td>volkswagen</td>\n",
       "      <td>2016-03-19</td>\n",
       "      <td>0</td>\n",
       "      <td>87439</td>\n",
       "      <td>2016-04-07 07:15:26</td>\n",
       "    </tr>\n",
       "    <tr>\n",
       "      <th>371526</th>\n",
       "      <td>2016-03-20</td>\n",
       "      <td>VW_Golf_Kombi_1_9l_TDI</td>\n",
       "      <td>privat</td>\n",
       "      <td>Angebot</td>\n",
       "      <td>3400</td>\n",
       "      <td>test</td>\n",
       "      <td>kombi</td>\n",
       "      <td>2002</td>\n",
       "      <td>manuell</td>\n",
       "      <td>100</td>\n",
       "      <td>golf</td>\n",
       "      <td>150000</td>\n",
       "      <td>6</td>\n",
       "      <td>diesel</td>\n",
       "      <td>volkswagen</td>\n",
       "      <td>2016-03-20</td>\n",
       "      <td>0</td>\n",
       "      <td>40764</td>\n",
       "      <td>2016-03-24 12:45:21</td>\n",
       "    </tr>\n",
       "    <tr>\n",
       "      <th>371527</th>\n",
       "      <td>2016-03-07</td>\n",
       "      <td>BMW_M135i_vollausgestattet_NP_52.720____Euro</td>\n",
       "      <td>privat</td>\n",
       "      <td>Angebot</td>\n",
       "      <td>28990</td>\n",
       "      <td>control</td>\n",
       "      <td>limousine</td>\n",
       "      <td>2013</td>\n",
       "      <td>manuell</td>\n",
       "      <td>320</td>\n",
       "      <td>m_reihe</td>\n",
       "      <td>50000</td>\n",
       "      <td>8</td>\n",
       "      <td>benzin</td>\n",
       "      <td>bmw</td>\n",
       "      <td>2016-03-07</td>\n",
       "      <td>0</td>\n",
       "      <td>73326</td>\n",
       "      <td>2016-03-22 03:17:10</td>\n",
       "    </tr>\n",
       "  </tbody>\n",
       "</table>\n",
       "<p>280568 rows × 19 columns</p>\n",
       "</div>"
      ],
      "text/plain": [
       "       dateCrawled                                               name  seller  \\\n",
       "2       2016-03-14                     Jeep_Grand_Cherokee_\"Overland\"  privat   \n",
       "3       2016-03-17                                 GOLF_4_1_4__3TÜRER  privat   \n",
       "4       2016-03-31                     Skoda_Fabia_1.4_TDI_PD_Classic  privat   \n",
       "5       2016-04-04  BMW_316i___e36_Limousine___Bastlerfahrzeug__Ex...  privat   \n",
       "6       2016-04-01                        Peugeot_206_CC_110_Platinum  privat   \n",
       "...            ...                                                ...     ...   \n",
       "371521  2016-03-27                 Opel_Zafira_1.6_Elegance_TÜV_12/16  privat   \n",
       "371524  2016-03-05              Smart_smart_leistungssteigerung_100ps  privat   \n",
       "371525  2016-03-19                 Volkswagen_Multivan_T4_TDI_7DC_UY2  privat   \n",
       "371526  2016-03-20                             VW_Golf_Kombi_1_9l_TDI  privat   \n",
       "371527  2016-03-07       BMW_M135i_vollausgestattet_NP_52.720____Euro  privat   \n",
       "\n",
       "       offerType  price   abtest vehicleType  yearOfRegistration    gearbox  \\\n",
       "2        Angebot   9800     test         suv                2004  automatik   \n",
       "3        Angebot   1500     test  kleinwagen                2001    manuell   \n",
       "4        Angebot   3600     test  kleinwagen                2008    manuell   \n",
       "5        Angebot    650     test   limousine                1995    manuell   \n",
       "6        Angebot   2200     test      cabrio                2004    manuell   \n",
       "...          ...    ...      ...         ...                 ...        ...   \n",
       "371521   Angebot   1150  control         bus                2000    manuell   \n",
       "371524   Angebot   1199     test      cabrio                2000  automatik   \n",
       "371525   Angebot   9200     test         bus                1996    manuell   \n",
       "371526   Angebot   3400     test       kombi                2002    manuell   \n",
       "371527   Angebot  28990  control   limousine                2013    manuell   \n",
       "\n",
       "        powerPS        model  kilometer  monthOfRegistration fuelType  \\\n",
       "2           163        grand     125000                    8   diesel   \n",
       "3            75         golf     150000                    6   benzin   \n",
       "4            69        fabia      90000                    7   diesel   \n",
       "5           102          3er     150000                   10   benzin   \n",
       "6           109      2_reihe     150000                    8   benzin   \n",
       "...         ...          ...        ...                  ...      ...   \n",
       "371521        0       zafira     150000                    3   benzin   \n",
       "371524      101       fortwo     125000                    3   benzin   \n",
       "371525      102  transporter     150000                    3   diesel   \n",
       "371526      100         golf     150000                    6   diesel   \n",
       "371527      320      m_reihe      50000                    8   benzin   \n",
       "\n",
       "             brand dateCreated  nrOfPictures  postalCode            lastSeen  \n",
       "2             jeep  2016-03-14             0       90480 2016-04-05 12:47:46  \n",
       "3       volkswagen  2016-03-17             0       91074 2016-03-17 17:40:17  \n",
       "4            skoda  2016-03-31             0       60437 2016-04-06 10:17:21  \n",
       "5              bmw  2016-04-04             0       33775 2016-04-06 19:17:07  \n",
       "6          peugeot  2016-04-01             0       67112 2016-04-05 18:18:39  \n",
       "...            ...         ...           ...         ...                 ...  \n",
       "371521        opel  2016-03-27             0       26624 2016-03-29 10:17:23  \n",
       "371524       smart  2016-03-05             0       26135 2016-03-11 18:17:12  \n",
       "371525  volkswagen  2016-03-19             0       87439 2016-04-07 07:15:26  \n",
       "371526  volkswagen  2016-03-20             0       40764 2016-03-24 12:45:21  \n",
       "371527         bmw  2016-03-07             0       73326 2016-03-22 03:17:10  \n",
       "\n",
       "[280568 rows x 19 columns]"
      ]
     },
     "execution_count": 32,
     "metadata": {},
     "output_type": "execute_result"
    }
   ],
   "source": [
    " df"
   ]
  },
  {
   "cell_type": "code",
   "execution_count": 33,
   "id": "0d96d335",
   "metadata": {},
   "outputs": [],
   "source": [
    "df.to_csv(\"df_stats_cleaned.csv\")\n"
   ]
  },
  {
   "cell_type": "code",
   "execution_count": 41,
   "id": "998c067a",
   "metadata": {},
   "outputs": [
    {
     "data": {
      "text/plain": [
       "'C:\\\\Users\\\\chand\\\\Data science'"
      ]
     },
     "execution_count": 41,
     "metadata": {},
     "output_type": "execute_result"
    }
   ],
   "source": [
    "import os\n",
    "os.getcwd()"
   ]
  },
  {
   "cell_type": "code",
   "execution_count": null,
   "id": "3ccd239d",
   "metadata": {},
   "outputs": [],
   "source": []
  },
  {
   "cell_type": "markdown",
   "id": "f507f2ca",
   "metadata": {},
   "source": [
    "#  2)Can you tell me the Distribution of Vehicles based on Year of Registration with the help of a plot"
   ]
  },
  {
   "cell_type": "code",
   "execution_count": 34,
   "id": "367686ac",
   "metadata": {},
   "outputs": [
    {
     "data": {
      "text/plain": [
       "<Axes: ylabel='Frequency'>"
      ]
     },
     "execution_count": 34,
     "metadata": {},
     "output_type": "execute_result"
    },
    {
     "data": {
      "image/png": "[encoded data removed]",
      "text/plain": [
       "<Figure size 640x480 with 1 Axes>"
      ]
     },
     "metadata": {},
     "output_type": "display_data"
    }
   ],
   "source": [
    "df['yearOfRegistration'].plot(kind = \"hist\")"
   ]
  },
  {
   "cell_type": "code",
   "execution_count": 43,
   "id": "e745803a",
   "metadata": {},
   "outputs": [
    {
     "data": {
      "text/plain": [
       "<Axes: ylabel='Density'>"
      ]
     },
     "execution_count": 43,
     "metadata": {},
     "output_type": "execute_result"
    },
    {
     "data": {
      "image/png": "[encoded data removed]",
      "text/plain": [
       "<Figure size 640x480 with 1 Axes>"
      ]
     },
     "metadata": {},
     "output_type": "display_data"
    }
   ],
   "source": [
    "df['yearOfRegistration'].plot(kind = \"kde\") \n",
    "# yearofRegistration is Left Skewed Distribution because more data points on the right side and the long tail extending to the left side."
   ]
  },
  {
   "cell_type": "markdown",
   "id": "5a4b580f",
   "metadata": {},
   "source": [
    "# from the above in the year 2000 to 2020 we see that more\\\n",
    "#                                 registrations are occured and the year b/w 1970 to 1980 less registrations are occured "
   ]
  },
  {
   "cell_type": "code",
   "execution_count": 35,
   "id": "4de18291",
   "metadata": {},
   "outputs": [],
   "source": [
    "df.reset_index(drop=True,inplace = True)"
   ]
  },
  {
   "cell_type": "code",
   "execution_count": 36,
   "id": "7322aee0",
   "metadata": {},
   "outputs": [
    {
     "data": {
      "text/html": [
       "<div>\n",
       "<style scoped>\n",
       "    .dataframe tbody tr th:only-of-type {\n",
       "        vertical-align: middle;\n",
       "    }\n",
       "\n",
       "    .dataframe tbody tr th {\n",
       "        vertical-align: top;\n",
       "    }\n",
       "\n",
       "    .dataframe thead th {\n",
       "        text-align: right;\n",
       "    }\n",
       "</style>\n",
       "<table border=\"1\" class=\"dataframe\">\n",
       "  <thead>\n",
       "    <tr style=\"text-align: right;\">\n",
       "      <th></th>\n",
       "      <th>dateCrawled</th>\n",
       "      <th>name</th>\n",
       "      <th>seller</th>\n",
       "      <th>offerType</th>\n",
       "      <th>price</th>\n",
       "      <th>abtest</th>\n",
       "      <th>vehicleType</th>\n",
       "      <th>yearOfRegistration</th>\n",
       "      <th>gearbox</th>\n",
       "      <th>powerPS</th>\n",
       "      <th>model</th>\n",
       "      <th>kilometer</th>\n",
       "      <th>monthOfRegistration</th>\n",
       "      <th>fuelType</th>\n",
       "      <th>brand</th>\n",
       "      <th>dateCreated</th>\n",
       "      <th>nrOfPictures</th>\n",
       "      <th>postalCode</th>\n",
       "      <th>lastSeen</th>\n",
       "    </tr>\n",
       "  </thead>\n",
       "  <tbody>\n",
       "    <tr>\n",
       "      <th>0</th>\n",
       "      <td>2016-03-14</td>\n",
       "      <td>Jeep_Grand_Cherokee_\"Overland\"</td>\n",
       "      <td>privat</td>\n",
       "      <td>Angebot</td>\n",
       "      <td>9800</td>\n",
       "      <td>test</td>\n",
       "      <td>suv</td>\n",
       "      <td>2004</td>\n",
       "      <td>automatik</td>\n",
       "      <td>163</td>\n",
       "      <td>grand</td>\n",
       "      <td>125000</td>\n",
       "      <td>8</td>\n",
       "      <td>diesel</td>\n",
       "      <td>jeep</td>\n",
       "      <td>2016-03-14</td>\n",
       "      <td>0</td>\n",
       "      <td>90480</td>\n",
       "      <td>2016-04-05 12:47:46</td>\n",
       "    </tr>\n",
       "    <tr>\n",
       "      <th>1</th>\n",
       "      <td>2016-03-17</td>\n",
       "      <td>GOLF_4_1_4__3TÜRER</td>\n",
       "      <td>privat</td>\n",
       "      <td>Angebot</td>\n",
       "      <td>1500</td>\n",
       "      <td>test</td>\n",
       "      <td>kleinwagen</td>\n",
       "      <td>2001</td>\n",
       "      <td>manuell</td>\n",
       "      <td>75</td>\n",
       "      <td>golf</td>\n",
       "      <td>150000</td>\n",
       "      <td>6</td>\n",
       "      <td>benzin</td>\n",
       "      <td>volkswagen</td>\n",
       "      <td>2016-03-17</td>\n",
       "      <td>0</td>\n",
       "      <td>91074</td>\n",
       "      <td>2016-03-17 17:40:17</td>\n",
       "    </tr>\n",
       "    <tr>\n",
       "      <th>2</th>\n",
       "      <td>2016-03-31</td>\n",
       "      <td>Skoda_Fabia_1.4_TDI_PD_Classic</td>\n",
       "      <td>privat</td>\n",
       "      <td>Angebot</td>\n",
       "      <td>3600</td>\n",
       "      <td>test</td>\n",
       "      <td>kleinwagen</td>\n",
       "      <td>2008</td>\n",
       "      <td>manuell</td>\n",
       "      <td>69</td>\n",
       "      <td>fabia</td>\n",
       "      <td>90000</td>\n",
       "      <td>7</td>\n",
       "      <td>diesel</td>\n",
       "      <td>skoda</td>\n",
       "      <td>2016-03-31</td>\n",
       "      <td>0</td>\n",
       "      <td>60437</td>\n",
       "      <td>2016-04-06 10:17:21</td>\n",
       "    </tr>\n",
       "    <tr>\n",
       "      <th>3</th>\n",
       "      <td>2016-04-04</td>\n",
       "      <td>BMW_316i___e36_Limousine___Bastlerfahrzeug__Ex...</td>\n",
       "      <td>privat</td>\n",
       "      <td>Angebot</td>\n",
       "      <td>650</td>\n",
       "      <td>test</td>\n",
       "      <td>limousine</td>\n",
       "      <td>1995</td>\n",
       "      <td>manuell</td>\n",
       "      <td>102</td>\n",
       "      <td>3er</td>\n",
       "      <td>150000</td>\n",
       "      <td>10</td>\n",
       "      <td>benzin</td>\n",
       "      <td>bmw</td>\n",
       "      <td>2016-04-04</td>\n",
       "      <td>0</td>\n",
       "      <td>33775</td>\n",
       "      <td>2016-04-06 19:17:07</td>\n",
       "    </tr>\n",
       "    <tr>\n",
       "      <th>4</th>\n",
       "      <td>2016-04-01</td>\n",
       "      <td>Peugeot_206_CC_110_Platinum</td>\n",
       "      <td>privat</td>\n",
       "      <td>Angebot</td>\n",
       "      <td>2200</td>\n",
       "      <td>test</td>\n",
       "      <td>cabrio</td>\n",
       "      <td>2004</td>\n",
       "      <td>manuell</td>\n",
       "      <td>109</td>\n",
       "      <td>2_reihe</td>\n",
       "      <td>150000</td>\n",
       "      <td>8</td>\n",
       "      <td>benzin</td>\n",
       "      <td>peugeot</td>\n",
       "      <td>2016-04-01</td>\n",
       "      <td>0</td>\n",
       "      <td>67112</td>\n",
       "      <td>2016-04-05 18:18:39</td>\n",
       "    </tr>\n",
       "    <tr>\n",
       "      <th>...</th>\n",
       "      <td>...</td>\n",
       "      <td>...</td>\n",
       "      <td>...</td>\n",
       "      <td>...</td>\n",
       "      <td>...</td>\n",
       "      <td>...</td>\n",
       "      <td>...</td>\n",
       "      <td>...</td>\n",
       "      <td>...</td>\n",
       "      <td>...</td>\n",
       "      <td>...</td>\n",
       "      <td>...</td>\n",
       "      <td>...</td>\n",
       "      <td>...</td>\n",
       "      <td>...</td>\n",
       "      <td>...</td>\n",
       "      <td>...</td>\n",
       "      <td>...</td>\n",
       "      <td>...</td>\n",
       "    </tr>\n",
       "    <tr>\n",
       "      <th>280563</th>\n",
       "      <td>2016-03-27</td>\n",
       "      <td>Opel_Zafira_1.6_Elegance_TÜV_12/16</td>\n",
       "      <td>privat</td>\n",
       "      <td>Angebot</td>\n",
       "      <td>1150</td>\n",
       "      <td>control</td>\n",
       "      <td>bus</td>\n",
       "      <td>2000</td>\n",
       "      <td>manuell</td>\n",
       "      <td>0</td>\n",
       "      <td>zafira</td>\n",
       "      <td>150000</td>\n",
       "      <td>3</td>\n",
       "      <td>benzin</td>\n",
       "      <td>opel</td>\n",
       "      <td>2016-03-27</td>\n",
       "      <td>0</td>\n",
       "      <td>26624</td>\n",
       "      <td>2016-03-29 10:17:23</td>\n",
       "    </tr>\n",
       "    <tr>\n",
       "      <th>280564</th>\n",
       "      <td>2016-03-05</td>\n",
       "      <td>Smart_smart_leistungssteigerung_100ps</td>\n",
       "      <td>privat</td>\n",
       "      <td>Angebot</td>\n",
       "      <td>1199</td>\n",
       "      <td>test</td>\n",
       "      <td>cabrio</td>\n",
       "      <td>2000</td>\n",
       "      <td>automatik</td>\n",
       "      <td>101</td>\n",
       "      <td>fortwo</td>\n",
       "      <td>125000</td>\n",
       "      <td>3</td>\n",
       "      <td>benzin</td>\n",
       "      <td>smart</td>\n",
       "      <td>2016-03-05</td>\n",
       "      <td>0</td>\n",
       "      <td>26135</td>\n",
       "      <td>2016-03-11 18:17:12</td>\n",
       "    </tr>\n",
       "    <tr>\n",
       "      <th>280565</th>\n",
       "      <td>2016-03-19</td>\n",
       "      <td>Volkswagen_Multivan_T4_TDI_7DC_UY2</td>\n",
       "      <td>privat</td>\n",
       "      <td>Angebot</td>\n",
       "      <td>9200</td>\n",
       "      <td>test</td>\n",
       "      <td>bus</td>\n",
       "      <td>1996</td>\n",
       "      <td>manuell</td>\n",
       "      <td>102</td>\n",
       "      <td>transporter</td>\n",
       "      <td>150000</td>\n",
       "      <td>3</td>\n",
       "      <td>diesel</td>\n",
       "      <td>volkswagen</td>\n",
       "      <td>2016-03-19</td>\n",
       "      <td>0</td>\n",
       "      <td>87439</td>\n",
       "      <td>2016-04-07 07:15:26</td>\n",
       "    </tr>\n",
       "    <tr>\n",
       "      <th>280566</th>\n",
       "      <td>2016-03-20</td>\n",
       "      <td>VW_Golf_Kombi_1_9l_TDI</td>\n",
       "      <td>privat</td>\n",
       "      <td>Angebot</td>\n",
       "      <td>3400</td>\n",
       "      <td>test</td>\n",
       "      <td>kombi</td>\n",
       "      <td>2002</td>\n",
       "      <td>manuell</td>\n",
       "      <td>100</td>\n",
       "      <td>golf</td>\n",
       "      <td>150000</td>\n",
       "      <td>6</td>\n",
       "      <td>diesel</td>\n",
       "      <td>volkswagen</td>\n",
       "      <td>2016-03-20</td>\n",
       "      <td>0</td>\n",
       "      <td>40764</td>\n",
       "      <td>2016-03-24 12:45:21</td>\n",
       "    </tr>\n",
       "    <tr>\n",
       "      <th>280567</th>\n",
       "      <td>2016-03-07</td>\n",
       "      <td>BMW_M135i_vollausgestattet_NP_52.720____Euro</td>\n",
       "      <td>privat</td>\n",
       "      <td>Angebot</td>\n",
       "      <td>28990</td>\n",
       "      <td>control</td>\n",
       "      <td>limousine</td>\n",
       "      <td>2013</td>\n",
       "      <td>manuell</td>\n",
       "      <td>320</td>\n",
       "      <td>m_reihe</td>\n",
       "      <td>50000</td>\n",
       "      <td>8</td>\n",
       "      <td>benzin</td>\n",
       "      <td>bmw</td>\n",
       "      <td>2016-03-07</td>\n",
       "      <td>0</td>\n",
       "      <td>73326</td>\n",
       "      <td>2016-03-22 03:17:10</td>\n",
       "    </tr>\n",
       "  </tbody>\n",
       "</table>\n",
       "<p>280568 rows × 19 columns</p>\n",
       "</div>"
      ],
      "text/plain": [
       "       dateCrawled                                               name  seller  \\\n",
       "0       2016-03-14                     Jeep_Grand_Cherokee_\"Overland\"  privat   \n",
       "1       2016-03-17                                 GOLF_4_1_4__3TÜRER  privat   \n",
       "2       2016-03-31                     Skoda_Fabia_1.4_TDI_PD_Classic  privat   \n",
       "3       2016-04-04  BMW_316i___e36_Limousine___Bastlerfahrzeug__Ex...  privat   \n",
       "4       2016-04-01                        Peugeot_206_CC_110_Platinum  privat   \n",
       "...            ...                                                ...     ...   \n",
       "280563  2016-03-27                 Opel_Zafira_1.6_Elegance_TÜV_12/16  privat   \n",
       "280564  2016-03-05              Smart_smart_leistungssteigerung_100ps  privat   \n",
       "280565  2016-03-19                 Volkswagen_Multivan_T4_TDI_7DC_UY2  privat   \n",
       "280566  2016-03-20                             VW_Golf_Kombi_1_9l_TDI  privat   \n",
       "280567  2016-03-07       BMW_M135i_vollausgestattet_NP_52.720____Euro  privat   \n",
       "\n",
       "       offerType  price   abtest vehicleType  yearOfRegistration    gearbox  \\\n",
       "0        Angebot   9800     test         suv                2004  automatik   \n",
       "1        Angebot   1500     test  kleinwagen                2001    manuell   \n",
       "2        Angebot   3600     test  kleinwagen                2008    manuell   \n",
       "3        Angebot    650     test   limousine                1995    manuell   \n",
       "4        Angebot   2200     test      cabrio                2004    manuell   \n",
       "...          ...    ...      ...         ...                 ...        ...   \n",
       "280563   Angebot   1150  control         bus                2000    manuell   \n",
       "280564   Angebot   1199     test      cabrio                2000  automatik   \n",
       "280565   Angebot   9200     test         bus                1996    manuell   \n",
       "280566   Angebot   3400     test       kombi                2002    manuell   \n",
       "280567   Angebot  28990  control   limousine                2013    manuell   \n",
       "\n",
       "        powerPS        model  kilometer  monthOfRegistration fuelType  \\\n",
       "0           163        grand     125000                    8   diesel   \n",
       "1            75         golf     150000                    6   benzin   \n",
       "2            69        fabia      90000                    7   diesel   \n",
       "3           102          3er     150000                   10   benzin   \n",
       "4           109      2_reihe     150000                    8   benzin   \n",
       "...         ...          ...        ...                  ...      ...   \n",
       "280563        0       zafira     150000                    3   benzin   \n",
       "280564      101       fortwo     125000                    3   benzin   \n",
       "280565      102  transporter     150000                    3   diesel   \n",
       "280566      100         golf     150000                    6   diesel   \n",
       "280567      320      m_reihe      50000                    8   benzin   \n",
       "\n",
       "             brand dateCreated  nrOfPictures  postalCode            lastSeen  \n",
       "0             jeep  2016-03-14             0       90480 2016-04-05 12:47:46  \n",
       "1       volkswagen  2016-03-17             0       91074 2016-03-17 17:40:17  \n",
       "2            skoda  2016-03-31             0       60437 2016-04-06 10:17:21  \n",
       "3              bmw  2016-04-04             0       33775 2016-04-06 19:17:07  \n",
       "4          peugeot  2016-04-01             0       67112 2016-04-05 18:18:39  \n",
       "...            ...         ...           ...         ...                 ...  \n",
       "280563        opel  2016-03-27             0       26624 2016-03-29 10:17:23  \n",
       "280564       smart  2016-03-05             0       26135 2016-03-11 18:17:12  \n",
       "280565  volkswagen  2016-03-19             0       87439 2016-04-07 07:15:26  \n",
       "280566  volkswagen  2016-03-20             0       40764 2016-03-24 12:45:21  \n",
       "280567         bmw  2016-03-07             0       73326 2016-03-22 03:17:10  \n",
       "\n",
       "[280568 rows x 19 columns]"
      ]
     },
     "execution_count": 36,
     "metadata": {},
     "output_type": "execute_result"
    }
   ],
   "source": [
    "df"
   ]
  },
  {
   "cell_type": "markdown",
   "id": "521a276e",
   "metadata": {},
   "source": [
    " # 3) Create a plot based on the Variation of the price range by the vehicle type\n"
   ]
  },
  {
   "cell_type": "code",
   "execution_count": 37,
   "id": "874c6d76",
   "metadata": {},
   "outputs": [
    {
     "data": {
      "text/plain": [
       "<Axes: xlabel='vehicleType'>"
      ]
     },
     "execution_count": 37,
     "metadata": {},
     "output_type": "execute_result"
    },
    {
     "data": {
      "image/png": "[encoded data removed]",
      "text/plain": [
       "<Figure size 640x480 with 1 Axes>"
      ]
     },
     "metadata": {},
     "output_type": "display_data"
    }
   ],
   "source": [
    "df.groupby(df['vehicleType'])['price'].median().plot(kind = 'bar')"
   ]
  },
  {
   "cell_type": "code",
   "execution_count": null,
   "id": "3d8c27aa",
   "metadata": {},
   "outputs": [],
   "source": [
    "# above counclusion:\n",
    "On an average,The highest price for a vehicle is 14000 for suv and lowest price for a vehicle is around 3000 for kleinwagen."
   ]
  },
  {
   "cell_type": "markdown",
   "id": "7c9e3a83",
   "metadata": {},
   "source": [
    "# 4) Find out Total count of vehicles by type available on ebay for sale.As well as create a visualization for the client\n"
   ]
  },
  {
   "cell_type": "code",
   "execution_count": 38,
   "id": "03b0566c",
   "metadata": {},
   "outputs": [
    {
     "data": {
      "text/plain": [
       "vehicleType\n",
       "limousine     82781\n",
       "kleinwagen    61482\n",
       "kombi         57953\n",
       "bus           27073\n",
       "cabrio        20164\n",
       "coupe         15843\n",
       "suv           13080\n",
       "andere         2192\n",
       "Name: count, dtype: int64"
      ]
     },
     "execution_count": 38,
     "metadata": {},
     "output_type": "execute_result"
    }
   ],
   "source": [
    "df[\"vehicleType\"].value_counts()"
   ]
  },
  {
   "cell_type": "code",
   "execution_count": 39,
   "id": "82039af6",
   "metadata": {},
   "outputs": [
    {
     "data": {
      "text/plain": [
       "<Axes: xlabel='type of a vehicle', ylabel='no. of vehicles'>"
      ]
     },
     "execution_count": 39,
     "metadata": {},
     "output_type": "execute_result"
    },
    {
     "data": {
      "image/png": "[encoded data removed]",
      "text/plain": [
       "<Figure size 640x480 with 1 Axes>"
      ]
     },
     "metadata": {},
     "output_type": "display_data"
    }
   ],
   "source": [
    "df[\"vehicleType\"].value_counts().plot(kind = \"bar\",xlabel = \"type of a vehicle\",ylabel = \"no. of vehicles\")\n",
    "# from the below plot ,limousine vehicle count is around 80000 above,which has the highest no of vehicles.\n",
    "# Andere vehicle type has the least no of  vehicles and it's count is under 1000."
   ]
  },
  {
   "cell_type": "markdown",
   "id": "28df7edc",
   "metadata": {},
   "source": [
    "# 5) Is there any relationship between dollar_price and kilometer? (Explain with appropriate analysis)\n"
   ]
  },
  {
   "cell_type": "markdown",
   "id": "e73a532a",
   "metadata": {},
   "source": [
    "# numerical vs numerical... scatter plot"
   ]
  },
  {
   "cell_type": "code",
   "execution_count": 40,
   "id": "c1c1287b",
   "metadata": {},
   "outputs": [
    {
     "data": {
      "text/plain": [
       "<Axes: xlabel='price', ylabel='kilometer'>"
      ]
     },
     "execution_count": 40,
     "metadata": {},
     "output_type": "execute_result"
    },
    {
     "data": {
      "image/png": "[encoded data removed]",
      "text/plain": [
       "<Figure size 640x480 with 1 Axes>"
      ]
     },
     "metadata": {},
     "output_type": "display_data"
    }
   ],
   "source": [
    "sns.scatterplot(df , x = \"price\",y = \"kilometer\" )\n",
    " "
   ]
  },
  {
   "cell_type": "code",
   "execution_count": 45,
   "id": "3aba3baa",
   "metadata": {},
   "outputs": [
    {
     "data": {
      "text/plain": [
       "<Axes: >"
      ]
     },
     "execution_count": 45,
     "metadata": {},
     "output_type": "execute_result"
    },
    {
     "data": {
      "image/png": "[encoded data removed]",
      "text/plain": [
       "<Figure size 640x480 with 2 Axes>"
      ]
     },
     "metadata": {},
     "output_type": "display_data"
    }
   ],
   "source": [
    "sns.heatmap(df.corr(numeric_only=True),annot=True)"
   ]
  },
  {
   "cell_type": "code",
   "execution_count": null,
   "id": "29e40dae",
   "metadata": {},
   "outputs": [],
   "source": [
    "#from the above we conclude..\n",
    "#There is a weak negative relationship."
   ]
  },
  {
   "cell_type": "code",
   "execution_count": 46,
   "id": "0415d76e",
   "metadata": {},
   "outputs": [],
   "source": []
  }
 ],
 "metadata": {
  "kernelspec": {
   "display_name": "Python 3 (ipykernel)",
   "language": "python",
   "name": "python3"
  },
  "language_info": {
   "codemirror_mode": {
    "name": "ipython",
    "version": 3
   },
   "file_extension": ".py",
   "mimetype": "text/x-python",
   "name": "python",
   "nbconvert_exporter": "python",
   "pygments_lexer": "ipython3",
   "version": "3.10.12"
  }
 },
 "nbformat": 4,
 "nbformat_minor": 5
}
