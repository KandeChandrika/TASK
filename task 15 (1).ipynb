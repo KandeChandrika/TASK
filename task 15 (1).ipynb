{
 "cells": [
  {
   "cell_type": "code",
   "execution_count": null,
   "id": "70b9e192",
   "metadata": {},
   "outputs": [],
   "source": [
    "Task 1: Leap Year Checker\n",
    "\n",
    "Write a program that takes a year as input and determines whether it is a leap year or not. A leap year is a year that is divisible by 4, but not divisible by 100, unless it is also divisible by 400. Display an appropriate message indicating whether the year is a leap year or not.\n",
    "\n",
    "Task 2: Grade Calculator\n",
    "\n",
    "Write a program that takes a student's score as input (out of 100) and determines their grade based on the following conditions: If the score is 90 or above, the grade is 'A'. If the score is between 80 and 89, the grade is 'B'. If the score is between 70 and 79, the grade is 'C'. If the score is between 60 and 69, the grade is 'D'. If the score is below 60, the grade is 'F'. Display the grade corresponding to the entered score.\n",
    "\n",
    "Task 3: Calculator Write a program that takes two numbers as input and performs a mathematical operation (+, -, *, /) based on the user's choice. Use a conditional statement to determine the operation to be performed. Display the result of the calculation.\n",
    "\n",
    "Task 4: Reverse String Write a Python function to reverse a string.\n",
    "\n",
    "Task 5: Palindrome Write a Python function that checks whether a passed string is a palindrome or not.\n",
    "\n",
    "Task 6: Counting Write a Python function that accepts a string and counts the number of upper and lower case letters.\n",
    "\n",
    "Task 7: **"
   ]
  },
  {
   "cell_type": "markdown",
   "id": "176ebb32",
   "metadata": {},
   "source": [
    "# Task 1: Leap Year Checker"
   ]
  },
  {
   "cell_type": "markdown",
   "id": "c93cce99",
   "metadata": {},
   "source": [
    "# Write a program that takes a year as input and determines whether it is a leap year or not. A leap year is a year that is divisible by 4, but not divisible by 100, unless it is also divisible by 400. Display an appropriate message indicating whether the year is a leap year or not.\n"
   ]
  },
  {
   "cell_type": "code",
   "execution_count": 1,
   "id": "4d640dd8",
   "metadata": {},
   "outputs": [
    {
     "name": "stdout",
     "output_type": "stream",
     "text": [
      "enter the year : 1999\n",
      "the year is a leap year \n"
     ]
    }
   ],
   "source": [
    "n= int(input(\"enter the year : \"))\n",
    "if ((n%4 == 0 , n%100 != 0) or (n%400 == 0)):\n",
    "    print(\"the year is a leap year \")\n",
    "else:\n",
    "    print(\"not a leap year \")"
   ]
  },
  {
   "cell_type": "code",
   "execution_count": 2,
   "id": "c518d386",
   "metadata": {},
   "outputs": [],
   "source": [
    "def leap(n):\n",
    "    if ((n%4 == 0 , n%100 != 0) or (n%400 == 0)):\n",
    "        print(\"the year is a leap year \")\n",
    "    else:\n",
    "        print(\"not a leap year \")\n",
    "    "
   ]
  },
  {
   "cell_type": "code",
   "execution_count": 3,
   "id": "4fdfd1b6",
   "metadata": {},
   "outputs": [
    {
     "name": "stdout",
     "output_type": "stream",
     "text": [
      "the year is a leap year \n"
     ]
    }
   ],
   "source": [
    "leap(2224)"
   ]
  },
  {
   "cell_type": "markdown",
   "id": "eafe5b81",
   "metadata": {},
   "source": [
    "#  Task 2: Grade Calculator\n",
    "\n",
    "Write a program that takes a student's score as input (out of 100) and determines their grade based on the following conditions: If the score is 90 or above, the grade is 'A'. If the score is between 80 and 89, the grade is 'B'. If the score is between 70 and 79, the grade is 'C'. If the score is between 60 and 69, the grade is 'D'. If the score is below 60, the grade is 'F'. Display the grade corresponding to the entered score.\n"
   ]
  },
  {
   "cell_type": "code",
   "execution_count": 6,
   "id": "2ea57f55",
   "metadata": {},
   "outputs": [
    {
     "name": "stdout",
     "output_type": "stream",
     "text": [
      "enter your score :: 90\n",
      "grade A\n"
     ]
    }
   ],
   "source": [
    "n = int(input(\"enter your score :: \"))\n",
    "if  n<0 and n>100:\n",
    "    print(\"invalid, please enter valid score \")\n",
    "elif 90<=n<=100:\n",
    "    print(\"grade A\")\n",
    "elif 80<=n<=89:\n",
    "    print(\"grade B\")\n",
    "elif 70<=n<=79:\n",
    "    print(\"grade C\")\n",
    "elif 60<=n<=69:\n",
    "    print(\"grade D\")\n",
    "    \n",
    "else:\n",
    "    print(\"grade F\")"
   ]
  },
  {
   "cell_type": "code",
   "execution_count": 7,
   "id": "7154359a",
   "metadata": {},
   "outputs": [],
   "source": [
    "def score(n):\n",
    "    if  n<0 and n>100:\n",
    "        print(\"invalid, please enter valid score \")\n",
    "    elif 90<=n<=100:\n",
    "        print(\"grade A\")\n",
    "    elif 80<=n<=89:\n",
    "        print(\"grade B\")\n",
    "    elif 70<=n<=79:\n",
    "        print(\"grade C\")\n",
    "    elif 60<=n<=69:\n",
    "        print(\"grade D\")\n",
    "    else:\n",
    "        print(\"grade F\")\n",
    "    "
   ]
  },
  {
   "cell_type": "code",
   "execution_count": 8,
   "id": "15ec8bf5",
   "metadata": {},
   "outputs": [
    {
     "name": "stdout",
     "output_type": "stream",
     "text": [
      "enter your score :: 81\n",
      "grade B\n"
     ]
    }
   ],
   "source": [
    "n = int(input(\"enter your score :: \"))\n",
    "score(n)"
   ]
  },
  {
   "cell_type": "code",
   "execution_count": 9,
   "id": "1baffc42",
   "metadata": {},
   "outputs": [
    {
     "name": "stdout",
     "output_type": "stream",
     "text": [
      "grade C\n"
     ]
    }
   ],
   "source": [
    "score(70)"
   ]
  },
  {
   "cell_type": "markdown",
   "id": "57270074",
   "metadata": {},
   "source": [
    "# Task 3: Calculator Write a program that takes two numbers as input and performs a mathematical operation (+, -, *, /) based on user's choice. Use a conditional statement to determine the operation to be performed. Display the result of the calculation.\n"
   ]
  },
  {
   "cell_type": "code",
   "execution_count": 7,
   "id": "3160ac5b",
   "metadata": {},
   "outputs": [
    {
     "name": "stdout",
     "output_type": "stream",
     "text": [
      "enter a number 1 : 10\n",
      "enter a number 2 : 20\n",
      "select the operation : multiplication\n",
      "multiplication is : 200\n"
     ]
    }
   ],
   "source": [
    "a = int(input(\"enter a number 1 : \"))\n",
    "b = int(input(\"enter a number 2 : \"))\n",
    "operation = input(\"select the operation : \")\n",
    "if operation == \"addition\" :\n",
    "    print(\"addition is: \",a+b)\n",
    "elif operation == \"subtraction\" :\n",
    "    print(\"operation is: \",a-b)\n",
    "elif operation == \"multiplication\":\n",
    "    print(\"multiplication is :\",a*b)\n",
    "else:\n",
    "    print(\"division is :\",a/b)"
   ]
  },
  {
   "cell_type": "code",
   "execution_count": 8,
   "id": "7c002a11",
   "metadata": {},
   "outputs": [
    {
     "name": "stdout",
     "output_type": "stream",
     "text": [
      "enter a number 1 : 30\n",
      "enter a number 2 : 10\n",
      "select the operation : division\n",
      "division is : 3.0\n"
     ]
    }
   ],
   "source": [
    "a = int(input(\"enter a number 1 : \"))\n",
    "b = int(input(\"enter a number 2 : \"))\n",
    "operation = input(\"select the operation : \")\n",
    "if operation == \"addition\" :\n",
    "    print(\"addition is: \",a+b)\n",
    "elif operation == \"subtraction\" :\n",
    "    print(\"operation is: \",a-b)\n",
    "elif operation == \"multiplication\":\n",
    "    print(\"multiplication is :\",a*b)\n",
    "else:\n",
    "    print(\"division is :\",a/b)"
   ]
  },
  {
   "cell_type": "code",
   "execution_count": 3,
   "id": "ee243dcd",
   "metadata": {},
   "outputs": [],
   "source": [
    "def operation(a,b):\n",
    "    if operation == \"addition\" :\n",
    "        print(\"addition is: \",a+b)\n",
    "    elif operation == \"subtraction\" :\n",
    "        print(\"operation is: \",a-b)\n",
    "    elif operation == \"multiplication\":\n",
    "        print(\"multiplication is :\",a*b)\n",
    "    else:\n",
    "        print(\"division is :\",a/b)    \n",
    "    "
   ]
  },
  {
   "cell_type": "code",
   "execution_count": 4,
   "id": "6065f0b8",
   "metadata": {},
   "outputs": [
    {
     "name": "stdout",
     "output_type": "stream",
     "text": [
      "enter a number 1 : 10\n",
      "enter a number 2 : 20\n",
      "select the operation : addition\n"
     ]
    }
   ],
   "source": [
    "a = int(input(\"enter a number 1 : \"))\n",
    "b = int(input(\"enter a number 2 : \"))\n",
    "operation = input(\"select the operation : \")\n",
    "\n"
   ]
  },
  {
   "cell_type": "markdown",
   "id": "3824b7f0",
   "metadata": {},
   "source": [
    "# Task 4: Reverse String Write a Python function to reverse a string.\n",
    " "
   ]
  },
  {
   "cell_type": "code",
   "execution_count": 4,
   "id": "d3dc9823",
   "metadata": {},
   "outputs": [
    {
     "name": "stdout",
     "output_type": "stream",
     "text": [
      "akirdnahc\n"
     ]
    }
   ],
   "source": [
    "string = \"chandrika\"\n",
    "print(string[-1: :-1])"
   ]
  },
  {
   "cell_type": "code",
   "execution_count": 2,
   "id": "941722d5",
   "metadata": {},
   "outputs": [],
   "source": [
    "def string(n):\n",
    "    print(n[-1: :-1])"
   ]
  },
  {
   "cell_type": "code",
   "execution_count": 3,
   "id": "8c178a8b",
   "metadata": {},
   "outputs": [
    {
     "name": "stdout",
     "output_type": "stream",
     "text": [
      "akuner\n"
     ]
    }
   ],
   "source": [
    "n = \"renuka\"\n",
    "string(n)"
   ]
  },
  {
   "cell_type": "markdown",
   "id": "f9233b8d",
   "metadata": {},
   "source": [
    "# Task 5: Palindrome Write a Python function that checks whether a passed string is a palindrome or not."
   ]
  },
  {
   "cell_type": "code",
   "execution_count": 7,
   "id": "dbcd88b4",
   "metadata": {},
   "outputs": [
    {
     "name": "stdout",
     "output_type": "stream",
     "text": [
      "enter a string : man\n",
      "not a palindrome\n"
     ]
    }
   ],
   "source": [
    "n = input(\"enter a string : \")\n",
    "if n == n[-1: :-1]:\n",
    "    print(\"string is a palindrome\")\n",
    "else:\n",
    "    print(\"not a palindrome\")"
   ]
  },
  {
   "cell_type": "code",
   "execution_count": 9,
   "id": "3ce29c3f",
   "metadata": {},
   "outputs": [],
   "source": [
    "def palindrome(n):\n",
    "    if n == n[-1: :-1]:\n",
    "        print(\"string is a palindrome\")\n",
    "    else:\n",
    "        print(\"not a palindrome\")\n",
    "    "
   ]
  },
  {
   "cell_type": "code",
   "execution_count": 11,
   "id": "0f8d5445",
   "metadata": {},
   "outputs": [
    {
     "name": "stdout",
     "output_type": "stream",
     "text": [
      "enter a string : madam\n",
      "string is a palindrome\n"
     ]
    }
   ],
   "source": [
    "n = input(\"enter a string : \")\n",
    "palindrome(n)"
   ]
  },
  {
   "cell_type": "markdown",
   "id": "8a7b22e4",
   "metadata": {},
   "source": [
    "# Task 6: Counting Write a Python function that accepts a string and counts the number of upper and lower case letters.\n"
   ]
  },
  {
   "cell_type": "code",
   "execution_count": 1,
   "id": "9bba21f4",
   "metadata": {},
   "outputs": [],
   "source": [
    "upper = []\n",
    "lower = []\n",
    "def count(a):\n",
    "    upper = ['A','B','C','D','E','F','G','H','I','J','K','L','M','N','O','P','Q','R','S','T','U','V','W','X','Y','Z']\n",
    "    lower = ['a','b','c','d','e','f','g','h','i','j','k','l','m','n','o','p','q','r','s','t','u','v','w','x','y','z']\n",
    "    for i in a :\n",
    "        if i in upper :\n",
    "            upper.append(i)\n",
    "        elif i in lower :\n",
    "            lower.append(i)\n",
    "            print(len(upper))\n",
    "            print(len(lower))\n",
    "            \n",
    "    "
   ]
  },
  {
   "cell_type": "code",
   "execution_count": 2,
   "id": "5e084738",
   "metadata": {},
   "outputs": [
    {
     "name": "stdout",
     "output_type": "stream",
     "text": [
      "enter a string :: Mom\n",
      "27\n",
      "27\n",
      "27\n",
      "28\n"
     ]
    }
   ],
   "source": [
    "a = input(\"enter a string :: \")\n",
    "count(a)"
   ]
  },
  {
   "cell_type": "code",
   "execution_count": null,
   "id": "eb92704e",
   "metadata": {},
   "outputs": [],
   "source": []
  },
  {
   "cell_type": "code",
   "execution_count": null,
   "id": "e966fce6",
   "metadata": {},
   "outputs": [],
   "source": []
  },
  {
   "cell_type": "code",
   "execution_count": null,
   "id": "7d3013e2",
   "metadata": {},
   "outputs": [],
   "source": []
  }
 ],
 "metadata": {
  "kernelspec": {
   "display_name": "Python 3 (ipykernel)",
   "language": "python",
   "name": "python3"
  },
  "language_info": {
   "codemirror_mode": {
    "name": "ipython",
    "version": 3
   },
   "file_extension": ".py",
   "mimetype": "text/x-python",
   "name": "python",
   "nbconvert_exporter": "python",
   "pygments_lexer": "ipython3",
   "version": "3.10.12"
  }
 },
 "nbformat": 4,
 "nbformat_minor": 5
}
