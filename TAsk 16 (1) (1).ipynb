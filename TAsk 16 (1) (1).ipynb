{
 "cells": [
  {
   "cell_type": "markdown",
   "id": "fd99fb02",
   "metadata": {},
   "source": [
    "**Task 1**:\n",
    "1. Load the file 'about_python.txt'into your jupyter notebook.\n",
    "    a. Correct wrong statements about python fatures\n",
    "    b. How many charactaers present in the data\n",
    "    c. How many times 'Python' word is repeated.\n",
    "    d. after correcting all ..print complete valid features of the python.\n",
    "    \n",
    "**Task2**:\n",
    "\n",
    "2. Create a file 'File.txt'which expalains python file handling whatever you have learnt today(creating,reading,wring and appending...etc) in detail.That reaload the saved file(i.e File.txt) to jupyter notebook."
   ]
  },
  {
   "cell_type": "markdown",
   "id": "39d750e5",
   "metadata": {},
   "source": [
    "# Load the file 'about_python.txt'into your jupyter notebook. a. Correct wrong statements about python fatures b. How many charactaers present in the data c. How many times 'Python' word is repeated. d. after correcting all ..print complete valid features of the python."
   ]
  },
  {
   "cell_type": "code",
   "execution_count": 1,
   "id": "451fce2a",
   "metadata": {},
   "outputs": [],
   "source": [
    "f = open(r\"C:\\Users\\chand\\OneDrive\\Desktop\\python.txt\")"
   ]
  },
  {
   "cell_type": "code",
   "execution_count": 2,
   "id": "ea4203b5",
   "metadata": {},
   "outputs": [],
   "source": [
    "a = f.read()"
   ]
  },
  {
   "cell_type": "code",
   "execution_count": 3,
   "id": "f89e0a72",
   "metadata": {},
   "outputs": [
    {
     "name": "stdout",
     "output_type": "stream",
     "text": [
      "Python supports object-oriented programming (OOP) concepts.\n",
      "Python is a compiled language.\n",
      "Python has a rich ecosystem of third-party libraries.\n",
      "Python is a paid programming language\n",
      "Python uses indentation for code block structuring.\n",
      "Python is statically Typed Language\n",
      "Python only supports double quotes for string literals.\n",
      "Python can only be used for web development.\n",
      "Python was created by Elon Musk.\n"
     ]
    }
   ],
   "source": [
    "print(a)"
   ]
  },
  {
   "cell_type": "code",
   "execution_count": 4,
   "id": "4c66dfb1",
   "metadata": {},
   "outputs": [
    {
     "name": "stdout",
     "output_type": "stream",
     "text": [
      "Python supports object-oriented programming (OOP) concepts.\n",
      "Python is a interpreted language.\n",
      "Python has a rich ecosystem of third-party libraries.\n",
      "Python is a paid programming language\n",
      "Python uses indentation for code block structuring.\n",
      "Python is statically Typed Language\n",
      "Python only supports double quotes for string literals.\n",
      "Python can only be used for web development.\n",
      "Python was created by Elon Musk.\n"
     ]
    }
   ],
   "source": [
    "b = print(a.replace(\"compiled\",\"interpreted\"))\n",
    "b"
   ]
  },
  {
   "cell_type": "code",
   "execution_count": 5,
   "id": "44cf3ff9",
   "metadata": {},
   "outputs": [
    {
     "name": "stdout",
     "output_type": "stream",
     "text": [
      "Python supports object-oriented programming (OOP) concepts.\n",
      "Python is a compiled language.\n",
      "Python has a rich ecosystem of third-party libraries.\n",
      "Python is a open source programming language\n",
      "Python uses indentation for code block structuring.\n",
      "Python is statically Typed Language\n",
      "Python only supports double quotes for string literals.\n",
      "Python can only be used for web development.\n",
      "Python was created by Elon Musk.\n"
     ]
    }
   ],
   "source": [
    "c = print(a.replace(\"paid\",\"open source\"))\n",
    "c"
   ]
  },
  {
   "cell_type": "code",
   "execution_count": 6,
   "id": "5f5e296d",
   "metadata": {},
   "outputs": [
    {
     "name": "stdout",
     "output_type": "stream",
     "text": [
      "Python supports object-oriented programming (OOP) concepts.\n",
      "Python is a compiled language.\n",
      "Python has a rich ecosystem of third-party libraries.\n",
      "Python is a paid programming language\n",
      "Python uses indentation for code block structuring.\n",
      "Python is statically Typed Language\n",
      "Python only supports double quotes for string literals.\n",
      "Python can only be used for web development.\n",
      "Python was created by Elon Musk.\n"
     ]
    }
   ],
   "source": [
    "d = print(a.replace(\"statistically\",\"dynamically\"))\n",
    "d"
   ]
  },
  {
   "cell_type": "code",
   "execution_count": 7,
   "id": "1ad1970d",
   "metadata": {},
   "outputs": [
    {
     "name": "stdout",
     "output_type": "stream",
     "text": [
      "Python supports object-oriented programming (OOP) concepts.\n",
      "Python is a compiled language.\n",
      "Python has a rich ecosystem of third-party libraries.\n",
      "Python is a paid programming language\n",
      "Python uses indentation for code block structuring.\n",
      "Python is statically Typed Language\n",
      "Python only supports double and single quotes for string literals.\n",
      "Python can only be used for web development.\n",
      "Python was created by Elon Musk.\n"
     ]
    }
   ],
   "source": [
    "e = print(a.replace(\"double\",\"double and single\"))\n",
    "e"
   ]
  },
  {
   "cell_type": "code",
   "execution_count": 8,
   "id": "6507a9ec",
   "metadata": {},
   "outputs": [
    {
     "name": "stdout",
     "output_type": "stream",
     "text": [
      "Python supports object-oriented programming (OOP) concepts.\n",
      "Python is a compiled language.\n",
      "Python has a rich ecosystem of third-party libraries.\n",
      "Python is a paid programming language\n",
      "Python uses indentation for code block structuring.\n",
      "Python is statically Typed Language\n",
      "Python only supports double quotes for string literals.\n",
      "Python can only be used for web development ML and AL.\n",
      "Python was created by Elon Musk.\n"
     ]
    }
   ],
   "source": [
    "f = print(a.replace(\"web development\",\"web development ML and AL\"))\n",
    "f"
   ]
  },
  {
   "cell_type": "code",
   "execution_count": 9,
   "id": "8c6596b0",
   "metadata": {},
   "outputs": [
    {
     "name": "stdout",
     "output_type": "stream",
     "text": [
      "Python supports object-oriented programming (OOP) concepts.\n",
      "Python is a compiled language.\n",
      "Python has a rich ecosystem of third-party libraries.\n",
      "Python is a paid programming language\n",
      "Python uses indentation for code block structuring.\n",
      "Python is statically Typed Language\n",
      "Python only supports double quotes for string literals.\n",
      "Python can only be used for web development.\n",
      "Python was created by Guido Van Rossum.\n"
     ]
    }
   ],
   "source": [
    "created = print(a.replace(\"Elon Musk\",\"Guido Van Rossum\"))\n"
   ]
  },
  {
   "cell_type": "code",
   "execution_count": 11,
   "id": "7918f807",
   "metadata": {},
   "outputs": [
    {
     "data": {
      "text/plain": [
       "404"
      ]
     },
     "execution_count": 11,
     "metadata": {},
     "output_type": "execute_result"
    }
   ],
   "source": [
    "len(a)"
   ]
  },
  {
   "cell_type": "code",
   "execution_count": 14,
   "id": "45815584",
   "metadata": {},
   "outputs": [
    {
     "data": {
      "text/plain": [
       "9"
      ]
     },
     "execution_count": 14,
     "metadata": {},
     "output_type": "execute_result"
    }
   ],
   "source": [
    "a.count(\"Python\")"
   ]
  },
  {
   "cell_type": "markdown",
   "id": "d8c3fe4b",
   "metadata": {},
   "source": [
    "# Create a file 'File.txt'which expalains python file handling whatever you have learnt today(creating,reading,wring and appending...etc) in detail.That reaload the saved file(i.e File.txt) to jupyter notebook."
   ]
  },
  {
   "cell_type": "code",
   "execution_count": 2,
   "id": "206a855e",
   "metadata": {},
   "outputs": [],
   "source": [
    "f = open('detail.txt','x')"
   ]
  },
  {
   "cell_type": "code",
   "execution_count": 3,
   "id": "11d20622",
   "metadata": {},
   "outputs": [],
   "source": [
    "f = open('detail.txt','r')"
   ]
  },
  {
   "cell_type": "code",
   "execution_count": 4,
   "id": "ea5fe1f2",
   "metadata": {},
   "outputs": [
    {
     "data": {
      "text/plain": [
       "'hello\\nworld'"
      ]
     },
     "execution_count": 4,
     "metadata": {},
     "output_type": "execute_result"
    }
   ],
   "source": [
    "f.read()"
   ]
  },
  {
   "cell_type": "code",
   "execution_count": 5,
   "id": "b254af5a",
   "metadata": {},
   "outputs": [
    {
     "data": {
      "text/plain": [
       "''"
      ]
     },
     "execution_count": 5,
     "metadata": {},
     "output_type": "execute_result"
    }
   ],
   "source": [
    "f.readline()"
   ]
  },
  {
   "cell_type": "code",
   "execution_count": 7,
   "id": "c7ebfeb1",
   "metadata": {},
   "outputs": [
    {
     "name": "stdout",
     "output_type": "stream",
     "text": [
      "[]\n"
     ]
    }
   ],
   "source": [
    "print(f.readlines())"
   ]
  },
  {
   "cell_type": "code",
   "execution_count": 9,
   "id": "579333d4",
   "metadata": {},
   "outputs": [
    {
     "data": {
      "text/plain": [
       "11"
      ]
     },
     "execution_count": 9,
     "metadata": {},
     "output_type": "execute_result"
    }
   ],
   "source": [
    "f.tell()"
   ]
  },
  {
   "cell_type": "code",
   "execution_count": 10,
   "id": "73f28ac8",
   "metadata": {},
   "outputs": [],
   "source": [
    "f = open(\"detail.txt\",'w')"
   ]
  },
  {
   "cell_type": "code",
   "execution_count": 11,
   "id": "275c45db",
   "metadata": {},
   "outputs": [],
   "source": [
    "f.write(\"i am from gadwal \")\n",
    "f.close()"
   ]
  },
  {
   "cell_type": "code",
   "execution_count": 12,
   "id": "bbdc5fed",
   "metadata": {},
   "outputs": [],
   "source": [
    "f = open(\"detail.txt\",'a')"
   ]
  },
  {
   "cell_type": "code",
   "execution_count": 13,
   "id": "d78a49c0",
   "metadata": {},
   "outputs": [
    {
     "data": {
      "text/plain": [
       "21"
      ]
     },
     "execution_count": 13,
     "metadata": {},
     "output_type": "execute_result"
    }
   ],
   "source": [
    "f.write(\"i am learning python \")"
   ]
  },
  {
   "cell_type": "code",
   "execution_count": 14,
   "id": "ad68c858",
   "metadata": {},
   "outputs": [],
   "source": [
    "f.close()"
   ]
  },
  {
   "cell_type": "code",
   "execution_count": null,
   "id": "5c00a373",
   "metadata": {},
   "outputs": [],
   "source": []
  }
 ],
 "metadata": {
  "kernelspec": {
   "display_name": "Python 3 (ipykernel)",
   "language": "python",
   "name": "python3"
  },
  "language_info": {
   "codemirror_mode": {
    "name": "ipython",
    "version": 3
   },
   "file_extension": ".py",
   "mimetype": "text/x-python",
   "name": "python",
   "nbconvert_exporter": "python",
   "pygments_lexer": "ipython3",
   "version": "3.10.12"
  }
 },
 "nbformat": 4,
 "nbformat_minor": 5
}
