{
 "cells": [
  {
   "cell_type": "markdown",
   "id": "89ffda57",
   "metadata": {},
   "source": [
    "1. Write a function called \"add_numbers\" that takes two integers as input and returns their sum.\n",
    "\n",
    "2. Write a function called \"multiply_numbers\" that takes two integers as input and returns their product.\n",
    "\n",
    "3. Write a function called \"calculate_average\" that takes a list of numbers as input and returns the average of thosenumbers.\n",
    "\n",
    "4. Write a function called \"is_even\" that takes an integer as input and returns True if the number is even, and False otherwise.\n",
    "\n",
    "5. Write a function called \"reverse_string\" that takes a string as input and returns the reverse of that string.\n",
    "\n",
    "6. Write a function called \"count_vowels\" that takes a string as input and returns the number of vowels (a, e, i, o, u) in that string.\n",
    "\n",
    "7. Write a function called \"find_max\" that takes a list of numbers as input and returns the maximum value in that list.\n",
    "\n",
    "8. Write a function called \"find_min\" that takes a list of numbers as input and returns the minimum value in that list."
   ]
  },
  {
   "cell_type": "markdown",
   "id": "088da1f4",
   "metadata": {},
   "source": [
    "# Write a function called \"add_numbers\" that takes two integers as input and returns their sum."
   ]
  },
  {
   "cell_type": "code",
   "execution_count": 1,
   "id": "4af583b7",
   "metadata": {},
   "outputs": [],
   "source": [
    "def add_numbers(a,b):\n",
    "    print(a+b)"
   ]
  },
  {
   "cell_type": "code",
   "execution_count": 2,
   "id": "f6b53713",
   "metadata": {},
   "outputs": [
    {
     "name": "stdout",
     "output_type": "stream",
     "text": [
      "enter a number : 4\n",
      "enter a number : 6\n",
      "10\n"
     ]
    }
   ],
   "source": [
    "a = int(input(\"enter a number : \"))\n",
    "b = int(input(\"enter a number : \"))\n",
    "add_numbers(a,b)"
   ]
  },
  {
   "cell_type": "markdown",
   "id": "4b117ed1",
   "metadata": {},
   "source": [
    "# Write a function called \"multiply_numbers\" that takes two integers as input and returns their product"
   ]
  },
  {
   "cell_type": "code",
   "execution_count": 4,
   "id": "c05efc5a",
   "metadata": {},
   "outputs": [],
   "source": [
    "def multiply_numbers(x,y):\n",
    "    print(x*y)"
   ]
  },
  {
   "cell_type": "code",
   "execution_count": 5,
   "id": "5992640c",
   "metadata": {},
   "outputs": [
    {
     "name": "stdout",
     "output_type": "stream",
     "text": [
      "enter a number : 5\n",
      "enter a number : 4\n",
      "20\n"
     ]
    }
   ],
   "source": [
    "x = int(input(\"enter a number : \"))\n",
    "y = int(input(\"enter a number : \"))\n",
    "multiply_numbers(x,y)"
   ]
  },
  {
   "cell_type": "markdown",
   "id": "2838ab06",
   "metadata": {},
   "source": [
    "# Write a function called \"calculate_average\" that takes a list of numbers as input and returns the average of thosenumbers."
   ]
  },
  {
   "cell_type": "code",
   "execution_count": 2,
   "id": "1b43c215",
   "metadata": {},
   "outputs": [],
   "source": [
    "def calculate_average(p,q,r,s,t):\n",
    "    print((p+q+r+s+t)/5)"
   ]
  },
  {
   "cell_type": "code",
   "execution_count": 3,
   "id": "edbcae7c",
   "metadata": {},
   "outputs": [
    {
     "name": "stdout",
     "output_type": "stream",
     "text": [
      "enter a number : 3\n",
      "enter a number : 6\n",
      "enter a number : 4\n",
      "enter a number : 2\n",
      "enter a number : 7\n",
      "4.4\n"
     ]
    }
   ],
   "source": [
    "p = int(input(\"enter a number : \"))\n",
    "q = int(input(\"enter a number : \"))\n",
    "r = int(input(\"enter a number : \"))\n",
    "s = int(input(\"enter a number : \"))\n",
    "t = int(input(\"enter a number : \"))\n",
    "calculate_average(p,q,r,s,t)"
   ]
  },
  {
   "cell_type": "markdown",
   "id": "b1a7b20d",
   "metadata": {},
   "source": [
    "# Write a function called \"is_even\" that takes an integer as input and returns True if the number is even, and False otherwise"
   ]
  },
  {
   "cell_type": "code",
   "execution_count": 4,
   "id": "53d8a056",
   "metadata": {},
   "outputs": [],
   "source": [
    "def is_even(n):\n",
    "    if (n%2 == 0):\n",
    "        print(\"True\")\n",
    "    else:\n",
    "        print(\"False\")"
   ]
  },
  {
   "cell_type": "code",
   "execution_count": 6,
   "id": "2513586f",
   "metadata": {},
   "outputs": [
    {
     "name": "stdout",
     "output_type": "stream",
     "text": [
      "enter a number : 5\n",
      "False\n"
     ]
    }
   ],
   "source": [
    "n=int(input(\"enter a number : \"))\n",
    "is_even(n)"
   ]
  },
  {
   "cell_type": "code",
   "execution_count": 7,
   "id": "843436cc",
   "metadata": {},
   "outputs": [
    {
     "name": "stdout",
     "output_type": "stream",
     "text": [
      "enter a number : 6\n",
      "True\n"
     ]
    }
   ],
   "source": [
    "n=int(input(\"enter a number : \"))\n",
    "is_even(n)"
   ]
  },
  {
   "cell_type": "markdown",
   "id": "ae222231",
   "metadata": {},
   "source": [
    "# Write a function called \"reverse_string\" that takes a string as input and returns the reverse of that string.\n",
    " "
   ]
  },
  {
   "cell_type": "code",
   "execution_count": 1,
   "id": "c3a89ff9",
   "metadata": {},
   "outputs": [],
   "source": [
    "def reverse_string(a):\n",
    "    print(a[::-1])"
   ]
  },
  {
   "cell_type": "code",
   "execution_count": 2,
   "id": "9b2cc3d7",
   "metadata": {},
   "outputs": [
    {
     "name": "stdout",
     "output_type": "stream",
     "text": [
      "enter a string : julee\n",
      "eeluj\n"
     ]
    }
   ],
   "source": [
    "a=input(\"enter a string : \" )\n",
    "reverse_string(a)"
   ]
  },
  {
   "cell_type": "markdown",
   "id": "8bdc2295",
   "metadata": {},
   "source": [
    "# Write a function called \"count_vowels\" that takes a string as input and returns the number of vowels (a, e, i, o, u) in that string."
   ]
  },
  {
   "cell_type": "code",
   "execution_count": 3,
   "id": "aa4b7407",
   "metadata": {},
   "outputs": [],
   "source": [
    "vow = (\"a\",\"e\",\"i\",\"o\",\"u\") \n",
    "a=[]\n",
    "def count_vowels(n):    \n",
    "    for i in n :\n",
    "        if i in vow:\n",
    "            a.append(i) \n",
    "    print(len(a))\n",
    "            "
   ]
  },
  {
   "cell_type": "code",
   "execution_count": 4,
   "id": "b011a287",
   "metadata": {},
   "outputs": [
    {
     "name": "stdout",
     "output_type": "stream",
     "text": [
      "enter a name : radhekrishna\n",
      "4\n"
     ]
    }
   ],
   "source": [
    "n=input(\"enter a name : \")\n",
    "count_vowels(n)"
   ]
  },
  {
   "cell_type": "markdown",
   "id": "ff1dd30e",
   "metadata": {},
   "source": [
    "# Write a function called \"find_max\" that takes a list of numbers as input and returns the maximum value in that list.\n",
    "\n"
   ]
  },
  {
   "cell_type": "code",
   "execution_count": 1,
   "id": "2156d527",
   "metadata": {},
   "outputs": [],
   "source": [
    "def find_max(a,b,c,d):\n",
    "    print(max(a,b,c,d))"
   ]
  },
  {
   "cell_type": "code",
   "execution_count": 2,
   "id": "933bab93",
   "metadata": {},
   "outputs": [
    {
     "name": "stdout",
     "output_type": "stream",
     "text": [
      "enter a number5\n",
      "enter a number1\n",
      "enter a number9\n",
      "enter a number4\n",
      "9\n"
     ]
    }
   ],
   "source": [
    "a=int(input(\"enter a number\"))\n",
    "b=int(input(\"enter a number\"))\n",
    "c=int(input(\"enter a number\"))\n",
    "d=int(input(\"enter a number\"))\n",
    "find_max(a,b,c,d)"
   ]
  },
  {
   "cell_type": "code",
   "execution_count": 1,
   "id": "df747d3f",
   "metadata": {},
   "outputs": [],
   "source": [
    "def find_min(a,b,c,d):\n",
    "    print(min(a,b,c,d))"
   ]
  },
  {
   "cell_type": "code",
   "execution_count": 2,
   "id": "e4f406fd",
   "metadata": {},
   "outputs": [
    {
     "name": "stdout",
     "output_type": "stream",
     "text": [
      "enter a number6\n",
      "enter a number8\n",
      "enter a number1\n",
      "enter a number0\n",
      "0\n"
     ]
    }
   ],
   "source": [
    "a=int(input(\"enter a number\"))\n",
    "b=int(input(\"enter a number\"))\n",
    "c=int(input(\"enter a number\"))\n",
    "d=int(input(\"enter a number\"))\n",
    "find_min(a,b,c,d)"
   ]
  },
  {
   "cell_type": "code",
   "execution_count": null,
   "id": "db7ea949",
   "metadata": {},
   "outputs": [],
   "source": []
  },
  {
   "cell_type": "code",
   "execution_count": null,
   "id": "c1d698de",
   "metadata": {},
   "outputs": [],
   "source": []
  },
  {
   "cell_type": "code",
   "execution_count": null,
   "id": "b6bc3ffc",
   "metadata": {},
   "outputs": [],
   "source": []
  }
 ],
 "metadata": {
  "kernelspec": {
   "display_name": "Python 3 (ipykernel)",
   "language": "python",
   "name": "python3"
  },
  "language_info": {
   "codemirror_mode": {
    "name": "ipython",
    "version": 3
   },
   "file_extension": ".py",
   "mimetype": "text/x-python",
   "name": "python",
   "nbconvert_exporter": "python",
   "pygments_lexer": "ipython3",
   "version": "3.10.12"
  }
 },
 "nbformat": 4,
 "nbformat_minor": 5
}
