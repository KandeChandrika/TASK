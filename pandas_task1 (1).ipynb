{
 "cells": [
  {
   "cell_type": "markdown",
   "id": "5d5ff628",
   "metadata": {},
   "source": [
    "# pandas Series\n",
    "1. Create pandas series with different `data types` in `different ways`\n",
    "2. Find the `attributes` of Series of [10,30,40,1,3,6,14,18,23] with index starts from `100`\n",
    "3. create salaries of `30 employee salaries randomly from 30000-90000` then `measure and describe` the data using pandas series.\n",
    "4. What are the `similaraties` and `differences` between pandas series and nnumpy array.Prove it with code.\n",
    "5. create pandas series with ranges from 100 to 150 then apply indexing and slicing on it."
   ]
  },
  {
   "cell_type": "code",
   "execution_count": 1,
   "id": "8f75008b",
   "metadata": {},
   "outputs": [],
   "source": [
    "import pandas as pd"
   ]
  },
  {
   "cell_type": "code",
   "execution_count": 2,
   "id": "cdaa0772",
   "metadata": {},
   "outputs": [],
   "source": [
    "import numpy as np"
   ]
  },
  {
   "cell_type": "code",
   "execution_count": 14,
   "id": "3ec420df",
   "metadata": {},
   "outputs": [],
   "source": [
    " a1 = ['durga','saraswathi','gayatri','lakshmi','kalika']"
   ]
  },
  {
   "cell_type": "code",
   "execution_count": 16,
   "id": "2bb9eebb",
   "metadata": {},
   "outputs": [
    {
     "data": {
      "text/plain": [
       "1         durga\n",
       "2    saraswathi\n",
       "3       gayatri\n",
       "4       lakshmi\n",
       "5        kalika\n",
       "dtype: object"
      ]
     },
     "execution_count": 16,
     "metadata": {},
     "output_type": "execute_result"
    }
   ],
   "source": [
    "pd.Series(a1,index = list(range(1,6)))"
   ]
  },
  {
   "cell_type": "code",
   "execution_count": 17,
   "id": "2b89d482",
   "metadata": {},
   "outputs": [],
   "source": [
    "a2 = list(range(5,21))"
   ]
  },
  {
   "cell_type": "code",
   "execution_count": 18,
   "id": "2bfbafd6",
   "metadata": {},
   "outputs": [
    {
     "data": {
      "text/plain": [
       "0      5\n",
       "1      6\n",
       "2      7\n",
       "3      8\n",
       "4      9\n",
       "5     10\n",
       "6     11\n",
       "7     12\n",
       "8     13\n",
       "9     14\n",
       "10    15\n",
       "11    16\n",
       "12    17\n",
       "13    18\n",
       "14    19\n",
       "15    20\n",
       "dtype: int64"
      ]
     },
     "execution_count": 18,
     "metadata": {},
     "output_type": "execute_result"
    }
   ],
   "source": [
    "pd.Series(a2)"
   ]
  },
  {
   "cell_type": "code",
   "execution_count": 29,
   "id": "d68ea504",
   "metadata": {},
   "outputs": [],
   "source": [
    "val = np.random.random_sample(10)"
   ]
  },
  {
   "cell_type": "code",
   "execution_count": 30,
   "id": "e2234f43",
   "metadata": {},
   "outputs": [
    {
     "data": {
      "text/plain": [
       "0    0.940307\n",
       "1    0.124899\n",
       "2    0.467031\n",
       "3    0.136553\n",
       "4    0.102201\n",
       "5    0.523100\n",
       "6    0.804592\n",
       "7    0.805886\n",
       "8    0.036275\n",
       "9    0.371543\n",
       "dtype: float64"
      ]
     },
     "execution_count": 30,
     "metadata": {},
     "output_type": "execute_result"
    }
   ],
   "source": [
    "pd.Series(val)"
   ]
  },
  {
   "cell_type": "markdown",
   "id": "6966cf59",
   "metadata": {},
   "source": [
    "# Find the attributes of Series of [10,30,40,1,3,6,14,18,23] with index starts from 100"
   ]
  },
  {
   "cell_type": "code",
   "execution_count": 42,
   "id": "76ebe2cc",
   "metadata": {},
   "outputs": [],
   "source": [
    "s = [10,30,40,1,3,6,14,18,23]"
   ]
  },
  {
   "cell_type": "code",
   "execution_count": 43,
   "id": "b33b1e58",
   "metadata": {},
   "outputs": [],
   "source": [
    "n = len(s)"
   ]
  },
  {
   "cell_type": "code",
   "execution_count": 44,
   "id": "ec310bc3",
   "metadata": {},
   "outputs": [
    {
     "data": {
      "text/plain": [
       "9"
      ]
     },
     "execution_count": 44,
     "metadata": {},
     "output_type": "execute_result"
    }
   ],
   "source": [
    "n"
   ]
  },
  {
   "cell_type": "code",
   "execution_count": 47,
   "id": "3b51ca5e",
   "metadata": {},
   "outputs": [
    {
     "data": {
      "text/plain": [
       "100    10\n",
       "101    30\n",
       "102    40\n",
       "103     1\n",
       "104     3\n",
       "105     6\n",
       "106    14\n",
       "107    18\n",
       "108    23\n",
       "dtype: int64"
      ]
     },
     "execution_count": 47,
     "metadata": {},
     "output_type": "execute_result"
    }
   ],
   "source": [
    "s1 = pd.Series(s,list(range(100,100+n)))\n",
    "s1"
   ]
  },
  {
   "cell_type": "code",
   "execution_count": 49,
   "id": "28d40238",
   "metadata": {},
   "outputs": [
    {
     "data": {
      "text/plain": [
       "144"
      ]
     },
     "execution_count": 49,
     "metadata": {},
     "output_type": "execute_result"
    }
   ],
   "source": [
    "#attributes:\n",
    "s1.memory_usage()"
   ]
  },
  {
   "cell_type": "code",
   "execution_count": 51,
   "id": "0e9f75e6",
   "metadata": {},
   "outputs": [
    {
     "name": "stdout",
     "output_type": "stream",
     "text": [
      "<class 'pandas.core.series.Series'>\n",
      "Index: 9 entries, 100 to 108\n",
      "Series name: None\n",
      "Non-Null Count  Dtype\n",
      "--------------  -----\n",
      "9 non-null      int64\n",
      "dtypes: int64(1)\n",
      "memory usage: 144.0 bytes\n"
     ]
    }
   ],
   "source": [
    "s1.info()"
   ]
  },
  {
   "cell_type": "code",
   "execution_count": 52,
   "id": "3fc149ce",
   "metadata": {},
   "outputs": [
    {
     "data": {
      "text/plain": [
       "count     9.000000\n",
       "mean     16.111111\n",
       "std      13.033078\n",
       "min       1.000000\n",
       "25%       6.000000\n",
       "50%      14.000000\n",
       "75%      23.000000\n",
       "max      40.000000\n",
       "dtype: float64"
      ]
     },
     "execution_count": 52,
     "metadata": {},
     "output_type": "execute_result"
    }
   ],
   "source": [
    "s1.describe()"
   ]
  },
  {
   "cell_type": "code",
   "execution_count": 53,
   "id": "ed818391",
   "metadata": {},
   "outputs": [
    {
     "data": {
      "text/plain": [
       "100    10\n",
       "101    30\n",
       "102    40\n",
       "103     1\n",
       "104     3\n",
       "dtype: int64"
      ]
     },
     "execution_count": 53,
     "metadata": {},
     "output_type": "execute_result"
    }
   ],
   "source": [
    "s1.head()"
   ]
  },
  {
   "cell_type": "code",
   "execution_count": 54,
   "id": "a2ddba4d",
   "metadata": {},
   "outputs": [
    {
     "data": {
      "text/plain": [
       "105     6\n",
       "106    14\n",
       "107    18\n",
       "108    23\n",
       "dtype: int64"
      ]
     },
     "execution_count": 54,
     "metadata": {},
     "output_type": "execute_result"
    }
   ],
   "source": [
    "s1.tail(4)"
   ]
  },
  {
   "cell_type": "code",
   "execution_count": 55,
   "id": "f6da1cb1",
   "metadata": {},
   "outputs": [
    {
     "data": {
      "text/plain": [
       "dtype('int64')"
      ]
     },
     "execution_count": 55,
     "metadata": {},
     "output_type": "execute_result"
    }
   ],
   "source": [
    "s1.dtype"
   ]
  },
  {
   "cell_type": "markdown",
   "id": "a8cd25e8",
   "metadata": {},
   "source": [
    "# create salaries of 30 employee salaries randomly from 30000-90000 then measure and describe the data using pandas series."
   ]
  },
  {
   "cell_type": "code",
   "execution_count": 56,
   "id": "b5ce0268",
   "metadata": {},
   "outputs": [],
   "source": [
    "salaries = np.random.randint(30000,90000,30)"
   ]
  },
  {
   "cell_type": "code",
   "execution_count": 59,
   "id": "3476c6b6",
   "metadata": {},
   "outputs": [
    {
     "data": {
      "text/plain": [
       "0     72868\n",
       "1     87163\n",
       "2     76571\n",
       "3     38347\n",
       "4     89522\n",
       "5     43413\n",
       "6     56922\n",
       "7     71772\n",
       "8     42203\n",
       "9     63913\n",
       "10    78585\n",
       "11    45496\n",
       "12    84715\n",
       "13    35627\n",
       "14    55105\n",
       "15    89903\n",
       "16    63089\n",
       "17    38391\n",
       "18    55543\n",
       "19    49346\n",
       "20    53169\n",
       "21    75737\n",
       "22    45406\n",
       "23    61905\n",
       "24    41283\n",
       "25    71668\n",
       "26    75831\n",
       "27    36642\n",
       "28    45091\n",
       "29    76994\n",
       "dtype: int32"
      ]
     },
     "execution_count": 59,
     "metadata": {},
     "output_type": "execute_result"
    }
   ],
   "source": [
    "sal = pd.Series(salaries)\n",
    "sal"
   ]
  },
  {
   "cell_type": "code",
   "execution_count": 60,
   "id": "003735e1",
   "metadata": {},
   "outputs": [
    {
     "name": "stdout",
     "output_type": "stream",
     "text": [
      "<class 'pandas.core.series.Series'>\n",
      "RangeIndex: 30 entries, 0 to 29\n",
      "Series name: None\n",
      "Non-Null Count  Dtype\n",
      "--------------  -----\n",
      "30 non-null     int32\n",
      "dtypes: int32(1)\n",
      "memory usage: 248.0 bytes\n"
     ]
    }
   ],
   "source": [
    "sal.info()"
   ]
  },
  {
   "cell_type": "code",
   "execution_count": 61,
   "id": "9b9cf8d4",
   "metadata": {},
   "outputs": [
    {
     "data": {
      "text/plain": [
       "count       30.000000\n",
       "mean     60740.666667\n",
       "std      17469.705868\n",
       "min      35627.000000\n",
       "25%      45169.750000\n",
       "50%      59413.500000\n",
       "75%      75807.500000\n",
       "max      89903.000000\n",
       "dtype: float64"
      ]
     },
     "execution_count": 61,
     "metadata": {},
     "output_type": "execute_result"
    }
   ],
   "source": [
    "sal.describe()"
   ]
  },
  {
   "cell_type": "code",
   "execution_count": 62,
   "id": "ed743460",
   "metadata": {},
   "outputs": [
    {
     "data": {
      "text/plain": [
       "89903"
      ]
     },
     "execution_count": 62,
     "metadata": {},
     "output_type": "execute_result"
    }
   ],
   "source": [
    "sal.max()"
   ]
  },
  {
   "cell_type": "code",
   "execution_count": 63,
   "id": "1b9a5ceb",
   "metadata": {},
   "outputs": [
    {
     "data": {
      "text/plain": [
       "35627"
      ]
     },
     "execution_count": 63,
     "metadata": {},
     "output_type": "execute_result"
    }
   ],
   "source": [
    "sal.min()"
   ]
  },
  {
   "cell_type": "code",
   "execution_count": 64,
   "id": "9aeb489f",
   "metadata": {},
   "outputs": [
    {
     "data": {
      "text/plain": [
       "60740.666666666664"
      ]
     },
     "execution_count": 64,
     "metadata": {},
     "output_type": "execute_result"
    }
   ],
   "source": [
    "sal.mean()"
   ]
  },
  {
   "cell_type": "code",
   "execution_count": 66,
   "id": "783848bc",
   "metadata": {},
   "outputs": [
    {
     "data": {
      "text/plain": [
       "59413.5"
      ]
     },
     "execution_count": 66,
     "metadata": {},
     "output_type": "execute_result"
    }
   ],
   "source": [
    "sal.median()"
   ]
  },
  {
   "cell_type": "code",
   "execution_count": 67,
   "id": "2ba36ac7",
   "metadata": {},
   "outputs": [
    {
     "data": {
      "text/plain": [
       "0     35627\n",
       "1     36642\n",
       "2     38347\n",
       "3     38391\n",
       "4     41283\n",
       "5     42203\n",
       "6     43413\n",
       "7     45091\n",
       "8     45406\n",
       "9     45496\n",
       "10    49346\n",
       "11    53169\n",
       "12    55105\n",
       "13    55543\n",
       "14    56922\n",
       "15    61905\n",
       "16    63089\n",
       "17    63913\n",
       "18    71668\n",
       "19    71772\n",
       "20    72868\n",
       "21    75737\n",
       "22    75831\n",
       "23    76571\n",
       "24    76994\n",
       "25    78585\n",
       "26    84715\n",
       "27    87163\n",
       "28    89522\n",
       "29    89903\n",
       "dtype: int32"
      ]
     },
     "execution_count": 67,
     "metadata": {},
     "output_type": "execute_result"
    }
   ],
   "source": [
    "sal.mode()"
   ]
  },
  {
   "cell_type": "code",
   "execution_count": 68,
   "id": "08a4132b",
   "metadata": {},
   "outputs": [
    {
     "data": {
      "text/plain": [
       "305190623.12643677"
      ]
     },
     "execution_count": 68,
     "metadata": {},
     "output_type": "execute_result"
    }
   ],
   "source": [
    "sal.var()"
   ]
  },
  {
   "cell_type": "code",
   "execution_count": 69,
   "id": "159e7d41",
   "metadata": {},
   "outputs": [
    {
     "data": {
      "text/plain": [
       "17469.705868343543"
      ]
     },
     "execution_count": 69,
     "metadata": {},
     "output_type": "execute_result"
    }
   ],
   "source": [
    "sal.std()"
   ]
  },
  {
   "cell_type": "code",
   "execution_count": 70,
   "id": "141cad65",
   "metadata": {},
   "outputs": [
    {
     "data": {
      "text/plain": [
       "45169.75"
      ]
     },
     "execution_count": 70,
     "metadata": {},
     "output_type": "execute_result"
    }
   ],
   "source": [
    "sal.quantile(0.25)"
   ]
  },
  {
   "cell_type": "code",
   "execution_count": 71,
   "id": "b444b58b",
   "metadata": {},
   "outputs": [
    {
     "data": {
      "text/plain": [
       "59413.5"
      ]
     },
     "execution_count": 71,
     "metadata": {},
     "output_type": "execute_result"
    }
   ],
   "source": [
    "sal.quantile(0.5)"
   ]
  },
  {
   "cell_type": "code",
   "execution_count": 74,
   "id": "83cb132c",
   "metadata": {},
   "outputs": [
    {
     "data": {
      "text/plain": [
       "75807.5"
      ]
     },
     "execution_count": 74,
     "metadata": {},
     "output_type": "execute_result"
    }
   ],
   "source": [
    "sal.quantile(0.75)"
   ]
  },
  {
   "cell_type": "code",
   "execution_count": 75,
   "id": "7d612faa",
   "metadata": {},
   "outputs": [
    {
     "data": {
      "text/plain": [
       "248"
      ]
     },
     "execution_count": 75,
     "metadata": {},
     "output_type": "execute_result"
    }
   ],
   "source": [
    "sal.memory_usage()"
   ]
  },
  {
   "cell_type": "code",
   "execution_count": 77,
   "id": "cdb957fa",
   "metadata": {},
   "outputs": [
    {
     "data": {
      "text/plain": [
       "30"
      ]
     },
     "execution_count": 77,
     "metadata": {},
     "output_type": "execute_result"
    }
   ],
   "source": [
    "sal.size"
   ]
  },
  {
   "cell_type": "code",
   "execution_count": 79,
   "id": "c91edfeb",
   "metadata": {},
   "outputs": [
    {
     "data": {
      "text/plain": [
       "dtype('int32')"
      ]
     },
     "execution_count": 79,
     "metadata": {},
     "output_type": "execute_result"
    }
   ],
   "source": [
    "sal.dtype"
   ]
  },
  {
   "cell_type": "markdown",
   "id": "15fcd077",
   "metadata": {},
   "source": [
    "# What are the similaraties and differences between pandas series and nnumpy array.Prove it with code."
   ]
  },
  {
   "cell_type": "code",
   "execution_count": null,
   "id": "4692f035",
   "metadata": {},
   "outputs": [],
   "source": [
    "# both are open source and may also holds the same results for some statistical measurements like mean and same for attributes:"
   ]
  },
  {
   "cell_type": "code",
   "execution_count": 94,
   "id": "c80e1f73",
   "metadata": {},
   "outputs": [
    {
     "data": {
      "text/plain": [
       "array([1, 2, 3, 4, 5])"
      ]
     },
     "execution_count": 94,
     "metadata": {},
     "output_type": "execute_result"
    }
   ],
   "source": [
    "a1 = np.array([1,2,3,4,5])\n",
    "a1"
   ]
  },
  {
   "cell_type": "code",
   "execution_count": 95,
   "id": "6604412d",
   "metadata": {},
   "outputs": [],
   "source": [
    "a2 = pd.Series([1,2,3,4,5])"
   ]
  },
  {
   "cell_type": "code",
   "execution_count": 96,
   "id": "b0dce810",
   "metadata": {},
   "outputs": [
    {
     "data": {
      "text/plain": [
       "0    1\n",
       "1    2\n",
       "2    3\n",
       "3    4\n",
       "4    5\n",
       "dtype: int64"
      ]
     },
     "execution_count": 96,
     "metadata": {},
     "output_type": "execute_result"
    }
   ],
   "source": [
    "a2"
   ]
  },
  {
   "cell_type": "code",
   "execution_count": 97,
   "id": "8b959567",
   "metadata": {},
   "outputs": [
    {
     "data": {
      "text/plain": [
       "1"
      ]
     },
     "execution_count": 97,
     "metadata": {},
     "output_type": "execute_result"
    }
   ],
   "source": [
    "a1.ndim"
   ]
  },
  {
   "cell_type": "code",
   "execution_count": 98,
   "id": "712f28a6",
   "metadata": {},
   "outputs": [
    {
     "data": {
      "text/plain": [
       "1"
      ]
     },
     "execution_count": 98,
     "metadata": {},
     "output_type": "execute_result"
    }
   ],
   "source": [
    "a2.ndim"
   ]
  },
  {
   "cell_type": "code",
   "execution_count": 99,
   "id": "4a3d1a09",
   "metadata": {},
   "outputs": [
    {
     "data": {
      "text/plain": [
       "5"
      ]
     },
     "execution_count": 99,
     "metadata": {},
     "output_type": "execute_result"
    }
   ],
   "source": [
    "a1.size"
   ]
  },
  {
   "cell_type": "code",
   "execution_count": 100,
   "id": "90f14bd4",
   "metadata": {},
   "outputs": [
    {
     "data": {
      "text/plain": [
       "5"
      ]
     },
     "execution_count": 100,
     "metadata": {},
     "output_type": "execute_result"
    }
   ],
   "source": [
    "a2.size"
   ]
  },
  {
   "cell_type": "code",
   "execution_count": 101,
   "id": "8696d3ef",
   "metadata": {},
   "outputs": [
    {
     "data": {
      "text/plain": [
       "3.0"
      ]
     },
     "execution_count": 101,
     "metadata": {},
     "output_type": "execute_result"
    }
   ],
   "source": [
    "a1.mean()"
   ]
  },
  {
   "cell_type": "code",
   "execution_count": 102,
   "id": "b4d9b14a",
   "metadata": {},
   "outputs": [
    {
     "data": {
      "text/plain": [
       "3.0"
      ]
     },
     "execution_count": 102,
     "metadata": {},
     "output_type": "execute_result"
    }
   ],
   "source": [
    "a2.mean()"
   ]
  },
  {
   "cell_type": "code",
   "execution_count": 104,
   "id": "38633133",
   "metadata": {},
   "outputs": [
    {
     "data": {
      "text/plain": [
       "2.0"
      ]
     },
     "execution_count": 104,
     "metadata": {},
     "output_type": "execute_result"
    }
   ],
   "source": [
    "a1.var()"
   ]
  },
  {
   "cell_type": "code",
   "execution_count": 105,
   "id": "119fff1a",
   "metadata": {},
   "outputs": [
    {
     "data": {
      "text/plain": [
       "2.5"
      ]
     },
     "execution_count": 105,
     "metadata": {},
     "output_type": "execute_result"
    }
   ],
   "source": [
    "a2.var()"
   ]
  },
  {
   "cell_type": "code",
   "execution_count": null,
   "id": "d4b249ec",
   "metadata": {},
   "outputs": [],
   "source": [
    "#Differences :numpy doesnt obey indexing while representation as shown in the below while pandas represents through the indexing\n",
    "# it also gives different results in some statistical measurements ,size ,dtypes etc... with the same data...\n",
    "#below are some differences :"
   ]
  },
  {
   "cell_type": "code",
   "execution_count": 106,
   "id": "f6f95fa4",
   "metadata": {},
   "outputs": [
    {
     "data": {
      "text/plain": [
       "array([1, 2, 3, 4, 5])"
      ]
     },
     "execution_count": 106,
     "metadata": {},
     "output_type": "execute_result"
    }
   ],
   "source": [
    "a1"
   ]
  },
  {
   "cell_type": "code",
   "execution_count": 107,
   "id": "e322afaf",
   "metadata": {},
   "outputs": [
    {
     "data": {
      "text/plain": [
       "0    1\n",
       "1    2\n",
       "2    3\n",
       "3    4\n",
       "4    5\n",
       "dtype: int64"
      ]
     },
     "execution_count": 107,
     "metadata": {},
     "output_type": "execute_result"
    }
   ],
   "source": [
    "a2"
   ]
  },
  {
   "cell_type": "code",
   "execution_count": 109,
   "id": "dd72a9e9",
   "metadata": {},
   "outputs": [
    {
     "data": {
      "text/plain": [
       "2.0"
      ]
     },
     "execution_count": 109,
     "metadata": {},
     "output_type": "execute_result"
    }
   ],
   "source": [
    "a1.var()"
   ]
  },
  {
   "cell_type": "code",
   "execution_count": 110,
   "id": "aee790e9",
   "metadata": {},
   "outputs": [
    {
     "data": {
      "text/plain": [
       "2.5"
      ]
     },
     "execution_count": 110,
     "metadata": {},
     "output_type": "execute_result"
    }
   ],
   "source": [
    "a2.var()"
   ]
  },
  {
   "cell_type": "code",
   "execution_count": 111,
   "id": "daaabb4f",
   "metadata": {},
   "outputs": [
    {
     "data": {
      "text/plain": [
       "3.0"
      ]
     },
     "execution_count": 111,
     "metadata": {},
     "output_type": "execute_result"
    }
   ],
   "source": [
    "a2.median()"
   ]
  },
  {
   "cell_type": "code",
   "execution_count": 112,
   "id": "40a6cfa3",
   "metadata": {},
   "outputs": [
    {
     "ename": "AttributeError",
     "evalue": "'numpy.ndarray' object has no attribute 'median'",
     "output_type": "error",
     "traceback": [
      "\u001b[1;31m---------------------------------------------------------------------------\u001b[0m",
      "\u001b[1;31mAttributeError\u001b[0m                            Traceback (most recent call last)",
      "Cell \u001b[1;32mIn[112], line 1\u001b[0m\n\u001b[1;32m----> 1\u001b[0m \u001b[43ma1\u001b[49m\u001b[38;5;241;43m.\u001b[39;49m\u001b[43mmedian\u001b[49m()\n",
      "\u001b[1;31mAttributeError\u001b[0m: 'numpy.ndarray' object has no attribute 'median'"
     ]
    }
   ],
   "source": [
    "a1.median()"
   ]
  },
  {
   "cell_type": "code",
   "execution_count": 113,
   "id": "576043c1",
   "metadata": {},
   "outputs": [
    {
     "ename": "AttributeError",
     "evalue": "'numpy.ndarray' object has no attribute 'mode'",
     "output_type": "error",
     "traceback": [
      "\u001b[1;31m---------------------------------------------------------------------------\u001b[0m",
      "\u001b[1;31mAttributeError\u001b[0m                            Traceback (most recent call last)",
      "Cell \u001b[1;32mIn[113], line 1\u001b[0m\n\u001b[1;32m----> 1\u001b[0m \u001b[43ma1\u001b[49m\u001b[38;5;241;43m.\u001b[39;49m\u001b[43mmode\u001b[49m()\n",
      "\u001b[1;31mAttributeError\u001b[0m: 'numpy.ndarray' object has no attribute 'mode'"
     ]
    }
   ],
   "source": [
    "a1.mode()"
   ]
  },
  {
   "cell_type": "code",
   "execution_count": 114,
   "id": "d2392b40",
   "metadata": {},
   "outputs": [
    {
     "data": {
      "text/plain": [
       "0    1\n",
       "1    2\n",
       "2    3\n",
       "3    4\n",
       "4    5\n",
       "dtype: int64"
      ]
     },
     "execution_count": 114,
     "metadata": {},
     "output_type": "execute_result"
    }
   ],
   "source": [
    "a2.mode()"
   ]
  },
  {
   "cell_type": "markdown",
   "id": "eb7fa06c",
   "metadata": {},
   "source": [
    "# create pandas series with ranges from 100 to 150 then apply indexing and slicing on it."
   ]
  },
  {
   "cell_type": "code",
   "execution_count": 115,
   "id": "7168edad",
   "metadata": {},
   "outputs": [],
   "source": [
    "pand = pd.Series(range(100,151))"
   ]
  },
  {
   "cell_type": "code",
   "execution_count": 116,
   "id": "8b73ee26",
   "metadata": {},
   "outputs": [
    {
     "data": {
      "text/plain": [
       "0     100\n",
       "1     101\n",
       "2     102\n",
       "3     103\n",
       "4     104\n",
       "5     105\n",
       "6     106\n",
       "7     107\n",
       "8     108\n",
       "9     109\n",
       "10    110\n",
       "11    111\n",
       "12    112\n",
       "13    113\n",
       "14    114\n",
       "15    115\n",
       "16    116\n",
       "17    117\n",
       "18    118\n",
       "19    119\n",
       "20    120\n",
       "21    121\n",
       "22    122\n",
       "23    123\n",
       "24    124\n",
       "25    125\n",
       "26    126\n",
       "27    127\n",
       "28    128\n",
       "29    129\n",
       "30    130\n",
       "31    131\n",
       "32    132\n",
       "33    133\n",
       "34    134\n",
       "35    135\n",
       "36    136\n",
       "37    137\n",
       "38    138\n",
       "39    139\n",
       "40    140\n",
       "41    141\n",
       "42    142\n",
       "43    143\n",
       "44    144\n",
       "45    145\n",
       "46    146\n",
       "47    147\n",
       "48    148\n",
       "49    149\n",
       "50    150\n",
       "dtype: int64"
      ]
     },
     "execution_count": 116,
     "metadata": {},
     "output_type": "execute_result"
    }
   ],
   "source": [
    "pand"
   ]
  },
  {
   "cell_type": "code",
   "execution_count": 117,
   "id": "2ad9c9fd",
   "metadata": {},
   "outputs": [
    {
     "data": {
      "text/plain": [
       "101"
      ]
     },
     "execution_count": 117,
     "metadata": {},
     "output_type": "execute_result"
    }
   ],
   "source": [
    "# indexing:\n",
    "pand[1]"
   ]
  },
  {
   "cell_type": "code",
   "execution_count": 119,
   "id": "342ebd9c",
   "metadata": {},
   "outputs": [
    {
     "data": {
      "text/plain": [
       "108"
      ]
     },
     "execution_count": 119,
     "metadata": {},
     "output_type": "execute_result"
    }
   ],
   "source": [
    "pand[8]"
   ]
  },
  {
   "cell_type": "code",
   "execution_count": 120,
   "id": "7770fdb8",
   "metadata": {},
   "outputs": [
    {
     "data": {
      "text/plain": [
       "0    100\n",
       "1    101\n",
       "2    102\n",
       "3    103\n",
       "4    104\n",
       "dtype: int64"
      ]
     },
     "execution_count": 120,
     "metadata": {},
     "output_type": "execute_result"
    }
   ],
   "source": [
    "#slicing:\n",
    "pand[0:5:1]"
   ]
  },
  {
   "cell_type": "code",
   "execution_count": 126,
   "id": "1abe0b3f",
   "metadata": {},
   "outputs": [
    {
     "data": {
      "text/plain": [
       "0     100\n",
       "1     101\n",
       "2     102\n",
       "3     103\n",
       "4     104\n",
       "5     105\n",
       "6     106\n",
       "7     107\n",
       "8     108\n",
       "9     109\n",
       "10    110\n",
       "11    111\n",
       "12    112\n",
       "13    113\n",
       "14    114\n",
       "15    115\n",
       "16    116\n",
       "17    117\n",
       "18    118\n",
       "19    119\n",
       "20    120\n",
       "21    121\n",
       "22    122\n",
       "23    123\n",
       "24    124\n",
       "25    125\n",
       "26    126\n",
       "27    127\n",
       "28    128\n",
       "29    129\n",
       "30    130\n",
       "31    131\n",
       "32    132\n",
       "33    133\n",
       "34    134\n",
       "35    135\n",
       "36    136\n",
       "37    137\n",
       "38    138\n",
       "39    139\n",
       "40    140\n",
       "41    141\n",
       "42    142\n",
       "43    143\n",
       "44    144\n",
       "45    145\n",
       "46    146\n",
       "47    147\n",
       "48    148\n",
       "49    149\n",
       "50    150\n",
       "dtype: int64"
      ]
     },
     "execution_count": 126,
     "metadata": {},
     "output_type": "execute_result"
    }
   ],
   "source": [
    "pand[::]"
   ]
  },
  {
   "cell_type": "code",
   "execution_count": null,
   "id": "6f3fb20e",
   "metadata": {},
   "outputs": [],
   "source": []
  }
 ],
 "metadata": {
  "kernelspec": {
   "display_name": "Python 3 (ipykernel)",
   "language": "python",
   "name": "python3"
  },
  "language_info": {
   "codemirror_mode": {
    "name": "ipython",
    "version": 3
   },
   "file_extension": ".py",
   "mimetype": "text/x-python",
   "name": "python",
   "nbconvert_exporter": "python",
   "pygments_lexer": "ipython3",
   "version": "3.10.12"
  }
 },
 "nbformat": 4,
 "nbformat_minor": 5
}
