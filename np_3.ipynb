{
 "cells": [
  {
   "cell_type": "markdown",
   "id": "eb7c2dbc",
   "metadata": {},
   "source": [
    "# Data Cleaning using numpy\n",
    "The following are the student marks of a class [44,24,np.nan,59,32,96,188,52,62,58,52,120,np.nan,np.nan,3,56,81,59,,122,92,np.nan,87,96,97,1,19,2,53, 44]\n",
    "\n",
    "Find the no of outliers and missing values?\n",
    "replace the outliers with 45 and missing value with 87.\n",
    "what is the average marks of students after 2nd step?\n",
    "How many students got less than 60 marks?\n",
    "what is the maximum marks?\n",
    "Convert the marks to float32."
   ]
  },
  {
   "cell_type": "code",
   "execution_count": 2,
   "id": "c6e2c676",
   "metadata": {},
   "outputs": [],
   "source": [
    "import numpy as np"
   ]
  },
  {
   "cell_type": "code",
   "execution_count": 41,
   "id": "b9187873",
   "metadata": {},
   "outputs": [],
   "source": [
    "student_marks = np.array([44,24,np.nan,59,32,96,188,52,62,58,52,120,np.nan,np.nan,3,56,81,59,122,92,np.nan,87,96,97,1,19,2,53, 44])"
   ]
  },
  {
   "cell_type": "code",
   "execution_count": 42,
   "id": "f0bca28c",
   "metadata": {},
   "outputs": [
    {
     "data": {
      "text/plain": [
       "array([False, False,  True, False, False, False, False, False, False,\n",
       "       False, False, False,  True,  True, False, False, False, False,\n",
       "       False, False,  True, False, False, False, False, False, False,\n",
       "       False, False])"
      ]
     },
     "execution_count": 42,
     "metadata": {},
     "output_type": "execute_result"
    }
   ],
   "source": [
    "np.isnan(student_marks)"
   ]
  },
  {
   "cell_type": "code",
   "execution_count": 43,
   "id": "806349bc",
   "metadata": {},
   "outputs": [
    {
     "data": {
      "text/plain": [
       "array([188., 120., 122.])"
      ]
     },
     "execution_count": 43,
     "metadata": {},
     "output_type": "execute_result"
    }
   ],
   "source": [
    "cond = student_marks[(student_marks > 100) | (student_marks < 0 )]\n",
    "cond"
   ]
  },
  {
   "cell_type": "code",
   "execution_count": 44,
   "id": "21c5ce71",
   "metadata": {},
   "outputs": [
    {
     "data": {
      "text/plain": [
       "3"
      ]
     },
     "execution_count": 44,
     "metadata": {},
     "output_type": "execute_result"
    }
   ],
   "source": [
    "len(cond)"
   ]
  },
  {
   "cell_type": "code",
   "execution_count": 45,
   "id": "0ef1766d",
   "metadata": {},
   "outputs": [
    {
     "data": {
      "text/plain": [
       "4"
      ]
     },
     "execution_count": 45,
     "metadata": {},
     "output_type": "execute_result"
    }
   ],
   "source": [
    "missing = np.sum(np.isnan(student_marks))\n",
    "missing"
   ]
  },
  {
   "cell_type": "code",
   "execution_count": 47,
   "id": "7a552d98",
   "metadata": {},
   "outputs": [
    {
     "ename": "ValueError",
     "evalue": "operands could not be broadcast together with shapes (3,) () (29,) ",
     "output_type": "error",
     "traceback": [
      "\u001b[1;31m---------------------------------------------------------------------------\u001b[0m",
      "\u001b[1;31mValueError\u001b[0m                                Traceback (most recent call last)",
      "Cell \u001b[1;32mIn[47], line 1\u001b[0m\n\u001b[1;32m----> 1\u001b[0m \u001b[43mnp\u001b[49m\u001b[38;5;241;43m.\u001b[39;49m\u001b[43mwhere\u001b[49m\u001b[43m(\u001b[49m\u001b[43mcond\u001b[49m\u001b[43m,\u001b[49m\u001b[38;5;241;43m45\u001b[39;49m\u001b[43m,\u001b[49m\u001b[43mstudent_marks\u001b[49m\u001b[43m)\u001b[49m\u001b[38;5;241m.\u001b[39mastype(\u001b[38;5;124m'\u001b[39m\u001b[38;5;124mint16\u001b[39m\u001b[38;5;124m'\u001b[39m)\n",
      "\u001b[1;31mValueError\u001b[0m: operands could not be broadcast together with shapes (3,) () (29,) "
     ]
    }
   ],
   "source": [
    "np.where(cond,45,student_marks).astype('int16')\n"
   ]
  },
  {
   "cell_type": "code",
   "execution_count": 46,
   "id": "30629813",
   "metadata": {},
   "outputs": [
    {
     "data": {
      "text/plain": [
       "array([ 44,  24,  87,  59,  32,  96, 188,  52,  62,  58,  52, 120,  87,\n",
       "        87,   3,  56,  81,  59, 122,  92,  87,  87,  96,  97,   1,  19,\n",
       "         2,  53,  44], dtype=int16)"
      ]
     },
     "execution_count": 46,
     "metadata": {},
     "output_type": "execute_result"
    }
   ],
   "source": [
    "b = np.where(np.isnan(student_marks),87,student_marks).astype('int16')\n",
    "b"
   ]
  },
  {
   "cell_type": "code",
   "execution_count": null,
   "id": "0ab74b46",
   "metadata": {},
   "outputs": [],
   "source": []
  },
  {
   "cell_type": "code",
   "execution_count": null,
   "id": "58fe1ea3",
   "metadata": {},
   "outputs": [],
   "source": []
  },
  {
   "cell_type": "markdown",
   "id": "4b4f3b55",
   "metadata": {},
   "source": [
    "# Solving Linear Equations\n",
    "2x + 3y - z = 10\n",
    "\n",
    "x - y + 2z = 5\n",
    "\n",
    "3x + 2y + z = 12\n",
    "\n",
    "2x + y - z + 3w = 8\n",
    "\n",
    "3x - 2y + 2z + 2w = 1\n",
    "\n",
    "x + 3y - 2z + w = 7\n",
    "\n",
    "4x - y + z - 2w = 3\n",
    "\n",
    "4x + 2y - 3z = 10\n",
    "\n",
    "-2x + 3y + z = -3\n",
    "\n",
    "x - y + 2z = 4\n",
    "\n",
    "Solve the system of equations using NumPy's linalg.solve function."
   ]
  },
  {
   "cell_type": "code",
   "execution_count": 16,
   "id": "623a3061",
   "metadata": {},
   "outputs": [],
   "source": [
    "#2x + 3y - z = 10\n",
    "\n",
    "#x - y + 2z = 5\n",
    "\n",
    "#3x + 2y + z = 12\n",
    "\n",
    "a = np.array([[2,3,-1],[1,-1,2],[3,2,1]])\n",
    "b = np.array([10,5,12])"
   ]
  },
  {
   "cell_type": "code",
   "execution_count": 17,
   "id": "38751ed3",
   "metadata": {},
   "outputs": [
    {
     "data": {
      "text/plain": [
       "array([-6.75539944e+15,  6.75539944e+15,  6.75539944e+15])"
      ]
     },
     "execution_count": 17,
     "metadata": {},
     "output_type": "execute_result"
    }
   ],
   "source": [
    "np.linalg.solve(a,b)"
   ]
  },
  {
   "cell_type": "code",
   "execution_count": 4,
   "id": "81c01376",
   "metadata": {},
   "outputs": [],
   "source": [
    "c = np.array([[2,1,-1,3],[3,-2,2,2],[1,3,-2,1],[4,-1,1,-2]])\n",
    "d = np.array([8,1,7,3])"
   ]
  },
  {
   "cell_type": "code",
   "execution_count": 5,
   "id": "14eb9e9e",
   "metadata": {},
   "outputs": [
    {
     "data": {
      "text/plain": [
       "array([ 1.73170732, -0.75609756, -3.46341463,  0.6097561 ])"
      ]
     },
     "execution_count": 5,
     "metadata": {},
     "output_type": "execute_result"
    }
   ],
   "source": [
    "np.linalg.solve(c,d)"
   ]
  },
  {
   "cell_type": "code",
   "execution_count": 7,
   "id": "c79c1aba",
   "metadata": {},
   "outputs": [],
   "source": [
    "e = np.array([[4,2,-3],[-2,3,1],[1,-1,2]])\n",
    "f = np.array([10,-3,4])"
   ]
  },
  {
   "cell_type": "code",
   "execution_count": 8,
   "id": "e8da2dfb",
   "metadata": {},
   "outputs": [
    {
     "data": {
      "text/plain": [
       "array([2.85365854, 0.6097561 , 0.87804878])"
      ]
     },
     "execution_count": 8,
     "metadata": {},
     "output_type": "execute_result"
    }
   ],
   "source": [
    "np.linalg.solve(e,f)"
   ]
  },
  {
   "cell_type": "markdown",
   "id": "98d59588",
   "metadata": {},
   "source": [
    "# Conditional Selection with np.where()\n",
    "Generate a random 1D array A of 10 integers between 1 and 100.\n",
    "\n",
    "Use np.where() to find the indices where the elements of A are greater than 50.\n",
    "\n",
    "Create a new array B that contains elements from A where the condition is met.\n",
    "\n",
    "Calculate the mean of array B and print it along with arrays A and B.\n"
   ]
  },
  {
   "cell_type": "code",
   "execution_count": 13,
   "id": "08a1664d",
   "metadata": {},
   "outputs": [
    {
     "data": {
      "text/plain": [
       "array([33, 39, 99, 80, 91,  5, 54, 80, 58, 81])"
      ]
     },
     "execution_count": 13,
     "metadata": {},
     "output_type": "execute_result"
    }
   ],
   "source": [
    "i = np.random.randint(1,100,10)\n",
    "i"
   ]
  },
  {
   "cell_type": "code",
   "execution_count": 16,
   "id": "a6d1644f",
   "metadata": {},
   "outputs": [
    {
     "data": {
      "text/plain": [
       "array([99, 80, 91, 54, 80, 58, 81])"
      ]
     },
     "execution_count": 16,
     "metadata": {},
     "output_type": "execute_result"
    }
   ],
   "source": [
    "a = i[np.where(i > 50)]\n",
    "a"
   ]
  },
  {
   "cell_type": "code",
   "execution_count": 18,
   "id": "df34f80e",
   "metadata": {},
   "outputs": [
    {
     "data": {
      "text/plain": [
       "array([99, 80, 91, 54, 80, 58, 81])"
      ]
     },
     "execution_count": 18,
     "metadata": {},
     "output_type": "execute_result"
    }
   ],
   "source": [
    "B = np.array(a)\n",
    "B"
   ]
  },
  {
   "cell_type": "code",
   "execution_count": 20,
   "id": "db376ffb",
   "metadata": {},
   "outputs": [
    {
     "name": "stdout",
     "output_type": "stream",
     "text": [
      "77.57142857142857\n"
     ]
    }
   ],
   "source": []
  },
  {
   "cell_type": "code",
   "execution_count": 24,
   "id": "4175d5be",
   "metadata": {},
   "outputs": [
    {
     "name": "stdout",
     "output_type": "stream",
     "text": [
      "array A as :  [33 39 99 80 91  5 54 80 58 81] adn array B as :  77.57142857142857\n"
     ]
    }
   ],
   "source": [
    "print(\"array A as : \",i , \"adn array B as : \",np.mean(a))"
   ]
  },
  {
   "cell_type": "markdown",
   "id": "39029107",
   "metadata": {},
   "source": [
    "# Replace Values with np.where()\n",
    "Create a 4x4 random integer matrix C with values between -10 and 10.\n",
    "\n",
    "Use np.where() to replace all negative values in matrix C with 0.\n",
    "\n",
    "Print the original matrix C and the modified matrix"
   ]
  },
  {
   "cell_type": "code",
   "execution_count": 27,
   "id": "044ef481",
   "metadata": {},
   "outputs": [
    {
     "data": {
      "text/plain": [
       "array([-1,  4,  1,  7, -2,  4, -4,  7, -7,  6,  3,  0,  7, -7,  2,  1])"
      ]
     },
     "execution_count": 27,
     "metadata": {},
     "output_type": "execute_result"
    }
   ],
   "source": [
    "r1 = np.random.randint(-10,10,16)\n",
    "r1"
   ]
  },
  {
   "cell_type": "code",
   "execution_count": 28,
   "id": "88447873",
   "metadata": {},
   "outputs": [
    {
     "data": {
      "text/plain": [
       "array([[-1,  4,  1,  7],\n",
       "       [-2,  4, -4,  7],\n",
       "       [-7,  6,  3,  0],\n",
       "       [ 7, -7,  2,  1]])"
      ]
     },
     "execution_count": 28,
     "metadata": {},
     "output_type": "execute_result"
    }
   ],
   "source": [
    "r1.reshape(4,4)"
   ]
  },
  {
   "cell_type": "code",
   "execution_count": 33,
   "id": "d65d6168",
   "metadata": {},
   "outputs": [
    {
     "data": {
      "text/plain": [
       "array([0, 4, 1, 7, 0, 4, 0, 7, 0, 6, 3, 0, 7, 0, 2, 1])"
      ]
     },
     "execution_count": 33,
     "metadata": {},
     "output_type": "execute_result"
    }
   ],
   "source": [
    "m = np.where(r1 < 0,0,r1)\n",
    "m"
   ]
  },
  {
   "cell_type": "code",
   "execution_count": 32,
   "id": "6b9a5dc0",
   "metadata": {},
   "outputs": [
    {
     "name": "stdout",
     "output_type": "stream",
     "text": [
      "original matrix :  [-1  4  1  7 -2  4 -4  7 -7  6  3  0  7 -7  2  1]\n"
     ]
    }
   ],
   "source": [
    "print(\"original matrix : \",r1)"
   ]
  },
  {
   "cell_type": "code",
   "execution_count": 34,
   "id": "5ab76b52",
   "metadata": {},
   "outputs": [
    {
     "name": "stdout",
     "output_type": "stream",
     "text": [
      "modified matrix :  [0 4 1 7 0 4 0 7 0 6 3 0 7 0 2 1]\n"
     ]
    }
   ],
   "source": [
    "print(\"modified matrix : \",m)"
   ]
  },
  {
   "cell_type": "code",
   "execution_count": null,
   "id": "274b4bdc",
   "metadata": {},
   "outputs": [],
   "source": []
  }
 ],
 "metadata": {
  "kernelspec": {
   "display_name": "Python 3 (ipykernel)",
   "language": "python",
   "name": "python3"
  },
  "language_info": {
   "codemirror_mode": {
    "name": "ipython",
    "version": 3
   },
   "file_extension": ".py",
   "mimetype": "text/x-python",
   "name": "python",
   "nbconvert_exporter": "python",
   "pygments_lexer": "ipython3",
   "version": "3.10.12"
  }
 },
 "nbformat": 4,
 "nbformat_minor": 5
}
