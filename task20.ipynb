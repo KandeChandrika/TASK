{
 "cells": [
  {
   "cell_type": "markdown",
   "id": "e3a83abc",
   "metadata": {},
   "source": [
    "# A restaurant management system is a software application that helps streamline various restaurant operations and facilitates efficient management. Here are some typical attributes and methods that such a system might have:\n",
    "\n",
    "Take minimum 5 attributes and atleast 4 methods\n",
    "\n",
    "Attributes:\n",
    "\n",
    "Menu: Represents the list of food and beverage items available in the restaurant, along with their prices and categories (appetizers, main courses, desserts, etc.).\n",
    "Tables: Contains information about the restaurant's seating arrangement, including table numbers, seating capacity, and current occupancy status.\n",
    "Orders: Keeps track of customer orders, including the items ordered, quantities, table number, total amount, and order status (in progress, served, completed, etc.).\n",
    "Staff: Contains information about restaurant employees, such as waiters, chefs, managers, and their respective roles, shifts, and contact details.\n",
    "Reservations: Tracks table reservations made by customers, including reservation time, date, party size, and customer contact information.\n",
    "Payments: Stores details of transactions, including payment method, total amount, payment status, and any applicable discounts or promotions.\n",
    "Methods:\n",
    "\n",
    "Display Menu: Allows restaurant staff to view and update the menu, including adding new items, modifying prices, and removing discontinued items.\n",
    "Take Order: Enables waiters to take customer orders, add items to the order, specify quantities, and send the order to the kitchen for preparation.\n",
    "Manage Table Occupancy: Tracks table availability and occupancy status, allowing staff to assign tables to customers and mark tables as occupied or vacant.\n",
    "Process Order: Allows kitchen staff to view incoming orders, mark items as prepared, and inform the waiters when the order is ready for serving.\n",
    "Manage Reservations: Facilitates the process of making, modifying, and canceling table reservations based on customer requests and availability.\n",
    "Generate Bills: Calculates the total bill amount for each table based on the items ordered, applicable taxes, and any additional charges.\n",
    " \n",
    "    \n",
    "    \n",
    "    "
   ]
  },
  {
   "cell_type": "code",
   "execution_count": 1,
   "id": "3a479784",
   "metadata": {},
   "outputs": [],
   "source": [
    "class restaurant():\n",
    "    '''you are welcome to our restaurant'''\n",
    "    def __init__(our,branches,menu,orders,reservations,transactions):\n",
    "        our.branches = branches\n",
    "        our.menu = menu\n",
    "        our.orders = orders\n",
    "        our.restaurant = restaurant\n",
    "        our.transactions = transactions\n",
    "    def display_menu(our) :\n",
    "        '''this is the menu of our restaurant '''\n",
    "        our.menu = input(\"enter the menu of the restaurant :: \")\n",
    "        print(\"our menu is : \",our.menu)\n",
    "    def order(our):\n",
    "        '''please give us the order'''\n",
    "        our.order = input(\"enter the items you would like to order :: \")\n",
    "        print(\"custumer orders are : \",our.order)\n",
    "    def occupancy(our):\n",
    "        occu = int(input(\"enter the availability table number :: \"))\n",
    "        print(\"please take your seat at the table number :\",occu)\n",
    "    def process_order(our):\n",
    "        processing = input(\"check whether the order is ready or not \")\n",
    "        ready = \"yes\"\n",
    "        if processing == ready:\n",
    "            print(\"informs the waiter to serve the order for the customers \")\n",
    "        else:\n",
    "            print(\"order is not yet ready \")\n",
    "            "
   ]
  },
  {
   "cell_type": "code",
   "execution_count": 9,
   "id": "f52b7924",
   "metadata": {},
   "outputs": [],
   "source": [
    "Pista_House = restaurant(\"Uppal,JNTU,Chikkadpally,ECIL\",\"all types of non-veg biriyanis,all types of veg biriyanis,veg and non-veg starter,bevarages,soft drinks,deserts\",\"mushroom biriyani,veg tomato pasta,coke\",\"table no.21\",\"paytm,G-pay,phonepay\")"
   ]
  },
  {
   "cell_type": "code",
   "execution_count": 3,
   "id": "0b2a2eea",
   "metadata": {},
   "outputs": [
    {
     "data": {
      "text/plain": [
       "'Uppal,JNTU,Chikkadpally,ECIL'"
      ]
     },
     "execution_count": 3,
     "metadata": {},
     "output_type": "execute_result"
    }
   ],
   "source": [
    "Pista_House.branches"
   ]
  },
  {
   "cell_type": "code",
   "execution_count": 4,
   "id": "658aa62f",
   "metadata": {},
   "outputs": [
    {
     "data": {
      "text/plain": [
       "'all types of non-veg biriyanis,all types of veg biriyanis,veg and non-veg starter,bevarages,soft drinks,deserts'"
      ]
     },
     "execution_count": 4,
     "metadata": {},
     "output_type": "execute_result"
    }
   ],
   "source": [
    "Pista_House.menu"
   ]
  },
  {
   "cell_type": "code",
   "execution_count": 5,
   "id": "53be25d5",
   "metadata": {},
   "outputs": [
    {
     "data": {
      "text/plain": [
       "'mushroom biriyani,pasta,thumbs up'"
      ]
     },
     "execution_count": 5,
     "metadata": {},
     "output_type": "execute_result"
    }
   ],
   "source": [
    "Pista_House.orders"
   ]
  },
  {
   "cell_type": "code",
   "execution_count": 6,
   "id": "85ae256f",
   "metadata": {},
   "outputs": [
    {
     "name": "stdout",
     "output_type": "stream",
     "text": [
      "enter the menu of the restaurant :: main course for non veg:chicken biriyani,chicken lollipop biriyani,chicken drumstick biriyani ,pot biriyani main course for veg : veg pulav,mushroom biriyani,paneer tikka biriyani,veg fried rice non veg starters : chicken majestic ,chicken 65,chicken drumsticks ,egg springrolls veg starters : panner 65,veg spring rolls,gobi manchurya,french fries,potato wedges chicken tikka pizza ,chicken cheese pasta,chicken tandoori pizza,chicken classic burger mushroom burito,mushroom pizza,veg burger,paneer nuggets,veg classic pizza,veg tomato pasta tandoori roti,butter naan,garlic naan,whole wheat naan,tawa naan all type of bevarages ,soft drinks, fruit juices and deserts \n",
      "our menu is :  main course for non veg:chicken biriyani,chicken lollipop biriyani,chicken drumstick biriyani ,pot biriyani main course for veg : veg pulav,mushroom biriyani,paneer tikka biriyani,veg fried rice non veg starters : chicken majestic ,chicken 65,chicken drumsticks ,egg springrolls veg starters : panner 65,veg spring rolls,gobi manchurya,french fries,potato wedges chicken tikka pizza ,chicken cheese pasta,chicken tandoori pizza,chicken classic burger mushroom burito,mushroom pizza,veg burger,paneer nuggets,veg classic pizza,veg tomato pasta tandoori roti,butter naan,garlic naan,whole wheat naan,tawa naan all type of bevarages ,soft drinks, fruit juices and deserts \n"
     ]
    }
   ],
   "source": [
    "Pista_House.display_menu()"
   ]
  },
  {
   "cell_type": "code",
   "execution_count": 6,
   "id": "15604b94",
   "metadata": {},
   "outputs": [
    {
     "name": "stdout",
     "output_type": "stream",
     "text": [
      "check whether the order is ready or not yes\n",
      "informs the waiter to serve the order for the customers \n"
     ]
    }
   ],
   "source": [
    "Pista_House.process_order() "
   ]
  },
  {
   "cell_type": "code",
   "execution_count": 7,
   "id": "f15235eb",
   "metadata": {},
   "outputs": [
    {
     "name": "stdout",
     "output_type": "stream",
     "text": [
      "enter the availability table number :: 21\n",
      "please take your seat at the table number : 21\n"
     ]
    }
   ],
   "source": [
    "Pista_House.occupancy()"
   ]
  },
  {
   "cell_type": "code",
   "execution_count": 8,
   "id": "11fa4f32",
   "metadata": {},
   "outputs": [
    {
     "name": "stdout",
     "output_type": "stream",
     "text": [
      "enter the items you would like to order :: one veg tomato pasta with extra cheese and one coke\n",
      "custumer orders are :  one veg tomato pasta with extra cheese and one coke\n"
     ]
    }
   ],
   "source": [
    "Pista_House.order()"
   ]
  },
  {
   "cell_type": "code",
   "execution_count": null,
   "id": "8b041613",
   "metadata": {},
   "outputs": [],
   "source": []
  }
 ],
 "metadata": {
  "kernelspec": {
   "display_name": "Python 3 (ipykernel)",
   "language": "python",
   "name": "python3"
  },
  "language_info": {
   "codemirror_mode": {
    "name": "ipython",
    "version": 3
   },
   "file_extension": ".py",
   "mimetype": "text/x-python",
   "name": "python",
   "nbconvert_exporter": "python",
   "pygments_lexer": "ipython3",
   "version": "3.10.12"
  }
 },
 "nbformat": 4,
 "nbformat_minor": 5
}
